{
 "cells": [
  {
   "cell_type": "markdown",
   "metadata": {},
   "source": [
    "# Import"
   ]
  },
  {
   "cell_type": "code",
   "execution_count": null,
   "metadata": {
    "id": "L3ys3Ai4esCL"
   },
   "outputs": [],
   "source": [
    "import os\n",
    "import pandas as pd\n",
    "import numpy as np\n",
    "import matplotlib.pyplot as plt\n",
    "import seaborn as sns\n",
    "\n",
    "%matplotlib inline"
   ]
  },
  {
   "cell_type": "code",
   "execution_count": null,
   "metadata": {
    "id": "vYvcK8onfODK"
   },
   "outputs": [],
   "source": [
    "from datetime import datetime, timedelta, date\n",
    "from sklearn.preprocessing import  MinMaxScaler\n",
    "from sklearn.metrics import confusion_matrix, precision_score, recall_score, f1_score, accuracy_score\n",
    "from sklearn import preprocessing\n",
    "import plotly.graph_objects as go\n",
    "import tensorflow as tf\n",
    "\n",
    "# pandas max row \n",
    "pd.options.display.max_rows = 1000\n",
    "pd.options.display.max_columns = 1000"
   ]
  },
  {
   "cell_type": "code",
   "execution_count": null,
   "metadata": {
    "id": "l69EJylYfOob"
   },
   "outputs": [],
   "source": [
    "from imblearn.over_sampling import SMOTE \n",
    "from sklearn.model_selection import train_test_split\n",
    "from keras.models import Sequential\n",
    "from keras.layers import Dense, LSTM\n",
    "from keras.preprocessing import sequence\n",
    "from keras.utils import np_utils\n",
    "from keras.callbacks import EarlyStopping, ModelCheckpoint"
   ]
  },
  {
   "cell_type": "markdown",
   "metadata": {},
   "source": [
    "# Data Load"
   ]
  },
  {
   "cell_type": "code",
   "execution_count": null,
   "metadata": {
    "id": "7kv0gA9afRzM"
   },
   "outputs": [],
   "source": [
    "df_train = pd.read_csv('../Data/train_time_data_pf.csv', encoding='cp949')"
   ]
  },
  {
   "cell_type": "code",
   "execution_count": null,
   "metadata": {
    "id": "B8GgOanPfS3x"
   },
   "outputs": [],
   "source": [
    "df_train['STD_DT'] = df_train['STD_DT'].apply(lambda x : pd.to_datetime(str(x), format='%Y-%m-%d %H:%M:%S'))\n",
    "df_train = df_train.set_index(['STD_DT'])"
   ]
  },
  {
   "cell_type": "code",
   "execution_count": null,
   "metadata": {
    "colab": {
     "base_uri": "https://localhost:8080/",
     "height": 175
    },
    "id": "oV69JSTjf1RD",
    "outputId": "4d1d7bde-35f3-4be1-f878-eb89bc63b575"
   },
   "outputs": [
    {
     "data": {
      "text/html": [
       "\n",
       "  <div id=\"df-6d37feed-51aa-4138-8e06-bec2a3eb3954\">\n",
       "    <div class=\"colab-df-container\">\n",
       "      <div>\n",
       "<style scoped>\n",
       "    .dataframe tbody tr th:only-of-type {\n",
       "        vertical-align: middle;\n",
       "    }\n",
       "\n",
       "    .dataframe tbody tr th {\n",
       "        vertical-align: top;\n",
       "    }\n",
       "\n",
       "    .dataframe thead th {\n",
       "        text-align: right;\n",
       "    }\n",
       "</style>\n",
       "<table border=\"1\" class=\"dataframe\">\n",
       "  <thead>\n",
       "    <tr style=\"text-align: right;\">\n",
       "      <th></th>\n",
       "      <th>NUM</th>\n",
       "      <th>MELT_TEMP</th>\n",
       "      <th>MOTORSPEED</th>\n",
       "      <th>MELT_WEIGHT</th>\n",
       "      <th>INSP</th>\n",
       "      <th>Measurement_error</th>\n",
       "      <th>MW_Period_Second</th>\n",
       "      <th>TAG</th>\n",
       "    </tr>\n",
       "    <tr>\n",
       "      <th>STD_DT</th>\n",
       "      <th></th>\n",
       "      <th></th>\n",
       "      <th></th>\n",
       "      <th></th>\n",
       "      <th></th>\n",
       "      <th></th>\n",
       "      <th></th>\n",
       "      <th></th>\n",
       "    </tr>\n",
       "  </thead>\n",
       "  <tbody>\n",
       "    <tr>\n",
       "      <th>2020-03-04 00:00:00</th>\n",
       "      <td>0</td>\n",
       "      <td>48.9</td>\n",
       "      <td>11.6</td>\n",
       "      <td>631.0</td>\n",
       "      <td>3.19</td>\n",
       "      <td>0</td>\n",
       "      <td>912</td>\n",
       "      <td>0</td>\n",
       "    </tr>\n",
       "    <tr>\n",
       "      <th>2020-03-04 00:00:06</th>\n",
       "      <td>1</td>\n",
       "      <td>43.3</td>\n",
       "      <td>7.8</td>\n",
       "      <td>609.0</td>\n",
       "      <td>3.19</td>\n",
       "      <td>0</td>\n",
       "      <td>912</td>\n",
       "      <td>0</td>\n",
       "    </tr>\n",
       "    <tr>\n",
       "      <th>2020-03-04 00:00:12</th>\n",
       "      <td>2</td>\n",
       "      <td>46.4</td>\n",
       "      <td>15.4</td>\n",
       "      <td>608.0</td>\n",
       "      <td>3.19</td>\n",
       "      <td>0</td>\n",
       "      <td>912</td>\n",
       "      <td>0</td>\n",
       "    </tr>\n",
       "  </tbody>\n",
       "</table>\n",
       "</div>\n",
       "      <button class=\"colab-df-convert\" onclick=\"convertToInteractive('df-6d37feed-51aa-4138-8e06-bec2a3eb3954')\"\n",
       "              title=\"Convert this dataframe to an interactive table.\"\n",
       "              style=\"display:none;\">\n",
       "        \n",
       "  <svg xmlns=\"http://www.w3.org/2000/svg\" height=\"24px\"viewBox=\"0 0 24 24\"\n",
       "       width=\"24px\">\n",
       "    <path d=\"M0 0h24v24H0V0z\" fill=\"none\"/>\n",
       "    <path d=\"M18.56 5.44l.94 2.06.94-2.06 2.06-.94-2.06-.94-.94-2.06-.94 2.06-2.06.94zm-11 1L8.5 8.5l.94-2.06 2.06-.94-2.06-.94L8.5 2.5l-.94 2.06-2.06.94zm10 10l.94 2.06.94-2.06 2.06-.94-2.06-.94-.94-2.06-.94 2.06-2.06.94z\"/><path d=\"M17.41 7.96l-1.37-1.37c-.4-.4-.92-.59-1.43-.59-.52 0-1.04.2-1.43.59L10.3 9.45l-7.72 7.72c-.78.78-.78 2.05 0 2.83L4 21.41c.39.39.9.59 1.41.59.51 0 1.02-.2 1.41-.59l7.78-7.78 2.81-2.81c.8-.78.8-2.07 0-2.86zM5.41 20L4 18.59l7.72-7.72 1.47 1.35L5.41 20z\"/>\n",
       "  </svg>\n",
       "      </button>\n",
       "      \n",
       "  <style>\n",
       "    .colab-df-container {\n",
       "      display:flex;\n",
       "      flex-wrap:wrap;\n",
       "      gap: 12px;\n",
       "    }\n",
       "\n",
       "    .colab-df-convert {\n",
       "      background-color: #E8F0FE;\n",
       "      border: none;\n",
       "      border-radius: 50%;\n",
       "      cursor: pointer;\n",
       "      display: none;\n",
       "      fill: #1967D2;\n",
       "      height: 32px;\n",
       "      padding: 0 0 0 0;\n",
       "      width: 32px;\n",
       "    }\n",
       "\n",
       "    .colab-df-convert:hover {\n",
       "      background-color: #E2EBFA;\n",
       "      box-shadow: 0px 1px 2px rgba(60, 64, 67, 0.3), 0px 1px 3px 1px rgba(60, 64, 67, 0.15);\n",
       "      fill: #174EA6;\n",
       "    }\n",
       "\n",
       "    [theme=dark] .colab-df-convert {\n",
       "      background-color: #3B4455;\n",
       "      fill: #D2E3FC;\n",
       "    }\n",
       "\n",
       "    [theme=dark] .colab-df-convert:hover {\n",
       "      background-color: #434B5C;\n",
       "      box-shadow: 0px 1px 3px 1px rgba(0, 0, 0, 0.15);\n",
       "      filter: drop-shadow(0px 1px 2px rgba(0, 0, 0, 0.3));\n",
       "      fill: #FFFFFF;\n",
       "    }\n",
       "  </style>\n",
       "\n",
       "      <script>\n",
       "        const buttonEl =\n",
       "          document.querySelector('#df-6d37feed-51aa-4138-8e06-bec2a3eb3954 button.colab-df-convert');\n",
       "        buttonEl.style.display =\n",
       "          google.colab.kernel.accessAllowed ? 'block' : 'none';\n",
       "\n",
       "        async function convertToInteractive(key) {\n",
       "          const element = document.querySelector('#df-6d37feed-51aa-4138-8e06-bec2a3eb3954');\n",
       "          const dataTable =\n",
       "            await google.colab.kernel.invokeFunction('convertToInteractive',\n",
       "                                                     [key], {});\n",
       "          if (!dataTable) return;\n",
       "\n",
       "          const docLinkHtml = 'Like what you see? Visit the ' +\n",
       "            '<a target=\"_blank\" href=https://colab.research.google.com/notebooks/data_table.ipynb>data table notebook</a>'\n",
       "            + ' to learn more about interactive tables.';\n",
       "          element.innerHTML = '';\n",
       "          dataTable['output_type'] = 'display_data';\n",
       "          await google.colab.output.renderOutput(dataTable, element);\n",
       "          const docLink = document.createElement('div');\n",
       "          docLink.innerHTML = docLinkHtml;\n",
       "          element.appendChild(docLink);\n",
       "        }\n",
       "      </script>\n",
       "    </div>\n",
       "  </div>\n",
       "  "
      ],
      "text/plain": [
       "                     NUM  MELT_TEMP  MOTORSPEED  MELT_WEIGHT  INSP  \\\n",
       "STD_DT                                                               \n",
       "2020-03-04 00:00:00    0       48.9        11.6        631.0  3.19   \n",
       "2020-03-04 00:00:06    1       43.3         7.8        609.0  3.19   \n",
       "2020-03-04 00:00:12    2       46.4        15.4        608.0  3.19   \n",
       "\n",
       "                     Measurement_error  MW_Period_Second  TAG  \n",
       "STD_DT                                                         \n",
       "2020-03-04 00:00:00                  0               912    0  \n",
       "2020-03-04 00:00:06                  0               912    0  \n",
       "2020-03-04 00:00:12                  0               912    0  "
      ]
     },
     "execution_count": 7,
     "metadata": {},
     "output_type": "execute_result"
    }
   ],
   "source": [
    "df_train.head(3)"
   ]
  },
  {
   "cell_type": "code",
   "execution_count": null,
   "metadata": {
    "colab": {
     "base_uri": "https://localhost:8080/"
    },
    "id": "8nDbl5x0gMc3",
    "outputId": "c5efeec9-4783-4c95-8b6a-474a228b06f3"
   },
   "outputs": [
    {
     "data": {
      "text/plain": [
       "0    350600\n",
       "1    153400\n",
       "Name: TAG, dtype: int64"
      ]
     },
     "execution_count": 8,
     "metadata": {},
     "output_type": "execute_result"
    }
   ],
   "source": [
    "df_train.TAG.value_counts()"
   ]
  },
  {
   "cell_type": "code",
   "execution_count": null,
   "metadata": {
    "id": "-vSXYyBogOlG"
   },
   "outputs": [],
   "source": [
    "df_test = pd.read_csv('/content/drive/MyDrive/validation_time_data_pf.csv', encoding='cp949')\n",
    "df_test['STD_DT'] = df_test['STD_DT'].apply(lambda x : pd.to_datetime(str(x), format='%Y-%m-%d %H:%M:%S'))\n",
    "df_test = df_test.set_index(['STD_DT'])"
   ]
  },
  {
   "cell_type": "code",
   "execution_count": null,
   "metadata": {
    "colab": {
     "base_uri": "https://localhost:8080/",
     "height": 175
    },
    "id": "69HcW1BWgR-P",
    "outputId": "0df4cc0b-1623-4f79-8c8e-4f0be41bacf2"
   },
   "outputs": [
    {
     "data": {
      "text/html": [
       "\n",
       "  <div id=\"df-2883ac8c-3162-4814-9a10-77c8eef126d4\">\n",
       "    <div class=\"colab-df-container\">\n",
       "      <div>\n",
       "<style scoped>\n",
       "    .dataframe tbody tr th:only-of-type {\n",
       "        vertical-align: middle;\n",
       "    }\n",
       "\n",
       "    .dataframe tbody tr th {\n",
       "        vertical-align: top;\n",
       "    }\n",
       "\n",
       "    .dataframe thead th {\n",
       "        text-align: right;\n",
       "    }\n",
       "</style>\n",
       "<table border=\"1\" class=\"dataframe\">\n",
       "  <thead>\n",
       "    <tr style=\"text-align: right;\">\n",
       "      <th></th>\n",
       "      <th>NUM</th>\n",
       "      <th>MELT_TEMP</th>\n",
       "      <th>MOTORSPEED</th>\n",
       "      <th>MELT_WEIGHT</th>\n",
       "      <th>INSP</th>\n",
       "      <th>Measurement_error</th>\n",
       "      <th>MW_Period_Second</th>\n",
       "      <th>TAG</th>\n",
       "    </tr>\n",
       "    <tr>\n",
       "      <th>STD_DT</th>\n",
       "      <th></th>\n",
       "      <th></th>\n",
       "      <th></th>\n",
       "      <th></th>\n",
       "      <th></th>\n",
       "      <th></th>\n",
       "      <th></th>\n",
       "      <th></th>\n",
       "    </tr>\n",
       "  </thead>\n",
       "  <tbody>\n",
       "    <tr>\n",
       "      <th>2020-04-08 00:00:00</th>\n",
       "      <td>504000</td>\n",
       "      <td>50.9</td>\n",
       "      <td>12.3</td>\n",
       "      <td>137.0</td>\n",
       "      <td>3.19</td>\n",
       "      <td>0</td>\n",
       "      <td>2832</td>\n",
       "      <td>0</td>\n",
       "    </tr>\n",
       "    <tr>\n",
       "      <th>2020-04-08 00:00:06</th>\n",
       "      <td>504001</td>\n",
       "      <td>43.5</td>\n",
       "      <td>7.6</td>\n",
       "      <td>136.0</td>\n",
       "      <td>3.19</td>\n",
       "      <td>0</td>\n",
       "      <td>2832</td>\n",
       "      <td>1</td>\n",
       "    </tr>\n",
       "    <tr>\n",
       "      <th>2020-04-08 00:00:12</th>\n",
       "      <td>504002</td>\n",
       "      <td>44.4</td>\n",
       "      <td>17.0</td>\n",
       "      <td>134.0</td>\n",
       "      <td>3.19</td>\n",
       "      <td>0</td>\n",
       "      <td>2832</td>\n",
       "      <td>1</td>\n",
       "    </tr>\n",
       "  </tbody>\n",
       "</table>\n",
       "</div>\n",
       "      <button class=\"colab-df-convert\" onclick=\"convertToInteractive('df-2883ac8c-3162-4814-9a10-77c8eef126d4')\"\n",
       "              title=\"Convert this dataframe to an interactive table.\"\n",
       "              style=\"display:none;\">\n",
       "        \n",
       "  <svg xmlns=\"http://www.w3.org/2000/svg\" height=\"24px\"viewBox=\"0 0 24 24\"\n",
       "       width=\"24px\">\n",
       "    <path d=\"M0 0h24v24H0V0z\" fill=\"none\"/>\n",
       "    <path d=\"M18.56 5.44l.94 2.06.94-2.06 2.06-.94-2.06-.94-.94-2.06-.94 2.06-2.06.94zm-11 1L8.5 8.5l.94-2.06 2.06-.94-2.06-.94L8.5 2.5l-.94 2.06-2.06.94zm10 10l.94 2.06.94-2.06 2.06-.94-2.06-.94-.94-2.06-.94 2.06-2.06.94z\"/><path d=\"M17.41 7.96l-1.37-1.37c-.4-.4-.92-.59-1.43-.59-.52 0-1.04.2-1.43.59L10.3 9.45l-7.72 7.72c-.78.78-.78 2.05 0 2.83L4 21.41c.39.39.9.59 1.41.59.51 0 1.02-.2 1.41-.59l7.78-7.78 2.81-2.81c.8-.78.8-2.07 0-2.86zM5.41 20L4 18.59l7.72-7.72 1.47 1.35L5.41 20z\"/>\n",
       "  </svg>\n",
       "      </button>\n",
       "      \n",
       "  <style>\n",
       "    .colab-df-container {\n",
       "      display:flex;\n",
       "      flex-wrap:wrap;\n",
       "      gap: 12px;\n",
       "    }\n",
       "\n",
       "    .colab-df-convert {\n",
       "      background-color: #E8F0FE;\n",
       "      border: none;\n",
       "      border-radius: 50%;\n",
       "      cursor: pointer;\n",
       "      display: none;\n",
       "      fill: #1967D2;\n",
       "      height: 32px;\n",
       "      padding: 0 0 0 0;\n",
       "      width: 32px;\n",
       "    }\n",
       "\n",
       "    .colab-df-convert:hover {\n",
       "      background-color: #E2EBFA;\n",
       "      box-shadow: 0px 1px 2px rgba(60, 64, 67, 0.3), 0px 1px 3px 1px rgba(60, 64, 67, 0.15);\n",
       "      fill: #174EA6;\n",
       "    }\n",
       "\n",
       "    [theme=dark] .colab-df-convert {\n",
       "      background-color: #3B4455;\n",
       "      fill: #D2E3FC;\n",
       "    }\n",
       "\n",
       "    [theme=dark] .colab-df-convert:hover {\n",
       "      background-color: #434B5C;\n",
       "      box-shadow: 0px 1px 3px 1px rgba(0, 0, 0, 0.15);\n",
       "      filter: drop-shadow(0px 1px 2px rgba(0, 0, 0, 0.3));\n",
       "      fill: #FFFFFF;\n",
       "    }\n",
       "  </style>\n",
       "\n",
       "      <script>\n",
       "        const buttonEl =\n",
       "          document.querySelector('#df-2883ac8c-3162-4814-9a10-77c8eef126d4 button.colab-df-convert');\n",
       "        buttonEl.style.display =\n",
       "          google.colab.kernel.accessAllowed ? 'block' : 'none';\n",
       "\n",
       "        async function convertToInteractive(key) {\n",
       "          const element = document.querySelector('#df-2883ac8c-3162-4814-9a10-77c8eef126d4');\n",
       "          const dataTable =\n",
       "            await google.colab.kernel.invokeFunction('convertToInteractive',\n",
       "                                                     [key], {});\n",
       "          if (!dataTable) return;\n",
       "\n",
       "          const docLinkHtml = 'Like what you see? Visit the ' +\n",
       "            '<a target=\"_blank\" href=https://colab.research.google.com/notebooks/data_table.ipynb>data table notebook</a>'\n",
       "            + ' to learn more about interactive tables.';\n",
       "          element.innerHTML = '';\n",
       "          dataTable['output_type'] = 'display_data';\n",
       "          await google.colab.output.renderOutput(dataTable, element);\n",
       "          const docLink = document.createElement('div');\n",
       "          docLink.innerHTML = docLinkHtml;\n",
       "          element.appendChild(docLink);\n",
       "        }\n",
       "      </script>\n",
       "    </div>\n",
       "  </div>\n",
       "  "
      ],
      "text/plain": [
       "                        NUM  MELT_TEMP  MOTORSPEED  MELT_WEIGHT  INSP  \\\n",
       "STD_DT                                                                  \n",
       "2020-04-08 00:00:00  504000       50.9        12.3        137.0  3.19   \n",
       "2020-04-08 00:00:06  504001       43.5         7.6        136.0  3.19   \n",
       "2020-04-08 00:00:12  504002       44.4        17.0        134.0  3.19   \n",
       "\n",
       "                     Measurement_error  MW_Period_Second  TAG  \n",
       "STD_DT                                                         \n",
       "2020-04-08 00:00:00                  0              2832    0  \n",
       "2020-04-08 00:00:06                  0              2832    1  \n",
       "2020-04-08 00:00:12                  0              2832    1  "
      ]
     },
     "execution_count": 10,
     "metadata": {},
     "output_type": "execute_result"
    }
   ],
   "source": [
    "df_test.head(3)"
   ]
  },
  {
   "cell_type": "code",
   "execution_count": null,
   "metadata": {
    "id": "6Vvbt69egS2i"
   },
   "outputs": [],
   "source": [
    "df_train = df_train.drop(columns = ['NUM'])\n",
    "df_test = df_test.drop(columns = ['NUM'])"
   ]
  },
  {
   "cell_type": "code",
   "execution_count": null,
   "metadata": {
    "id": "1sC7L7xZgUY0"
   },
   "outputs": [],
   "source": [
    "train = df_train.copy()\n",
    "test = df_test.copy()"
   ]
  },
  {
   "cell_type": "code",
   "execution_count": null,
   "metadata": {
    "colab": {
     "base_uri": "https://localhost:8080/"
    },
    "id": "0Ie461xxgVIX",
    "outputId": "e8d92d2e-0b11-4e63-c8bc-09956ecd7375"
   },
   "outputs": [
    {
     "name": "stdout",
     "output_type": "stream",
     "text": [
      "(504000, 7)\n",
      "(331200, 7)\n"
     ]
    }
   ],
   "source": [
    "print(train.shape)\n",
    "print(test.shape)"
   ]
  },
  {
   "cell_type": "code",
   "execution_count": null,
   "metadata": {
    "id": "wVZgx-a7gV9y"
   },
   "outputs": [],
   "source": [
    "feature_cols = ['MELT_TEMP', 'MOTORSPEED', 'MELT_WEIGHT', 'INSP', 'Measurement_error', 'MW_Period_Second']\n",
    "label_cols = ['TAG']"
   ]
  },
  {
   "cell_type": "code",
   "execution_count": null,
   "metadata": {
    "colab": {
     "base_uri": "https://localhost:8080/"
    },
    "id": "Cz5AFpmdhw82",
    "outputId": "bb396108-8b77-48d4-f05e-61ed6fcd73cd"
   },
   "outputs": [
    {
     "data": {
      "text/plain": [
       "['MELT_TEMP', 'MOTORSPEED', 'MELT_WEIGHT', 'INSP', 'Measurement_error']"
      ]
     },
     "execution_count": 15,
     "metadata": {},
     "output_type": "execute_result"
    }
   ],
   "source": [
    "feature_cols[:-1]"
   ]
  },
  {
   "cell_type": "code",
   "execution_count": null,
   "metadata": {
    "id": "sgkpSuW9gXT6"
   },
   "outputs": [],
   "source": [
    "scaler = preprocessing.MinMaxScaler()\n",
    "\n",
    "train_sc = scaler.fit_transform(train)\n",
    "test_sc = scaler.transform(test)"
   ]
  },
  {
   "cell_type": "code",
   "execution_count": null,
   "metadata": {
    "id": "dbH5SR7nhkR-"
   },
   "outputs": [],
   "source": [
    "X_train_values = train_sc[:,:-1]\n",
    "y_train_values = train_sc[:,-1]"
   ]
  },
  {
   "cell_type": "code",
   "execution_count": null,
   "metadata": {
    "id": "iUR7LtLIhoAR"
   },
   "outputs": [],
   "source": [
    "X_train_over = pd.DataFrame(X_train_values, columns=feature_cols)\n",
    "y_train_over = pd.DataFrame(y_train_values, columns=label_cols)"
   ]
  },
  {
   "cell_type": "code",
   "execution_count": null,
   "metadata": {
    "id": "pfQlWmEMhm5r"
   },
   "outputs": [],
   "source": [
    "def make_dataset(data, label, window_size):\n",
    "  feature_list = []\n",
    "  label_list = []\n",
    "  for i in range(len(data) - window_size):\n",
    "    feature_list.append(np.array(data.iloc[i:i+window_size]))\n",
    "    label_list.append(np.array(label.iloc[i+window_size]))\n",
    "  return np.array(feature_list), np.array(label_list)"
   ]
  },
  {
   "cell_type": "code",
   "execution_count": null,
   "metadata": {
    "id": "CTSR95uoo6Em"
   },
   "outputs": [],
   "source": [
    "window_size = 10"
   ]
  },
  {
   "cell_type": "code",
   "execution_count": null,
   "metadata": {
    "id": "tdjzIS2lhsu0"
   },
   "outputs": [],
   "source": [
    "train_feature, train_label = make_dataset(X_train_over, y_train_over, window_size)"
   ]
  },
  {
   "cell_type": "code",
   "execution_count": null,
   "metadata": {
    "id": "Bh9Bp3IxifCN"
   },
   "outputs": [],
   "source": [
    "test_sc = pd.DataFrame(test_sc, columns=test.columns)"
   ]
  },
  {
   "cell_type": "code",
   "execution_count": null,
   "metadata": {
    "colab": {
     "base_uri": "https://localhost:8080/"
    },
    "id": "6sLVomVHiUA3",
    "outputId": "0d00af74-ac4e-48f6-ab96-e735fcf5580b"
   },
   "outputs": [
    {
     "data": {
      "text/plain": [
       "((331190, 10, 6), (331190, 1))"
      ]
     },
     "execution_count": 23,
     "metadata": {},
     "output_type": "execute_result"
    }
   ],
   "source": [
    "test_feature = test_sc[feature_cols]\n",
    "test_label = test_sc[label_cols]\n",
    "\n",
    "# test dataset (실제 예측 해볼 데이터)\n",
    "test_feature, test_label = make_dataset(test_feature, test_label, window_size)\n",
    "test_feature.shape, test_label.shape"
   ]
  },
  {
   "cell_type": "code",
   "execution_count": null,
   "metadata": {
    "colab": {
     "base_uri": "https://localhost:8080/"
    },
    "id": "erZvlqRDiXAv",
    "outputId": "c3379670-2706-441c-c95f-d6e2317a5a92"
   },
   "outputs": [
    {
     "data": {
      "text/plain": [
       "((352793, 10, 6), (151197, 10, 6))"
      ]
     },
     "execution_count": 24,
     "metadata": {},
     "output_type": "execute_result"
    }
   ],
   "source": [
    "# train, validation set 생성\n",
    "X_train, x_valid, y_train, y_valid = train_test_split(train_feature, train_label, test_size = 0.3)\n",
    "X_train.shape, x_valid.shape"
   ]
  },
  {
   "cell_type": "markdown",
   "metadata": {},
   "source": [
    "# LSTM"
   ]
  },
  {
   "cell_type": "code",
   "execution_count": null,
   "metadata": {
    "id": "BROhXY8MiprN"
   },
   "outputs": [],
   "source": [
    "# LSTM 모델 구축\n",
    "model = Sequential()\n",
    "model.add(LSTM(50, \n",
    "              input_shape=(train_feature.shape[1], train_feature.shape[2]),\n",
    "               activation = 'tanh',return_sequences=False)\n",
    "          )\n",
    "model.add(Dense(1, activation='sigmoid'))"
   ]
  },
  {
   "cell_type": "code",
   "execution_count": null,
   "metadata": {
    "id": "sufkJbMaiq0Y"
   },
   "outputs": [],
   "source": [
    "model_path = '../Model'"
   ]
  },
  {
   "cell_type": "code",
   "execution_count": null,
   "metadata": {
    "id": "bpfO-Sbei5Cn"
   },
   "outputs": [],
   "source": [
    "# model.compile(loss='binary_crossentropy', optimizer = 'adam', metrics=['accuracy'])\n",
    "# early_stop = EarlyStopping(monitor='val_loss', patience = 5)\n",
    "# filename = os.path.join(model_path, 'tmp_checkpoint.h5')\n",
    "# checkpoint = ModelCheckpoint(filename, monitor='val_loss', verbose=0,\n",
    "#                              save_best_only=True, mode='auto')"
   ]
  },
  {
   "cell_type": "code",
   "execution_count": null,
   "metadata": {
    "id": "W6r3Oc_2r8xL"
   },
   "outputs": [],
   "source": [
    "from keras import backend as K\n",
    "\n",
    "def recall_m(y_true, y_pred):\n",
    "    true_positives = K.sum(K.round(K.clip(y_true * y_pred, 0, 1)))\n",
    "    possible_positives = K.sum(K.round(K.clip(y_true, 0, 1)))\n",
    "    recall = true_positives / (possible_positives + K.epsilon())\n",
    "    return recall\n",
    "\n",
    "def precision_m(y_true, y_pred):\n",
    "    true_positives = K.sum(K.round(K.clip(y_true * y_pred, 0, 1)))\n",
    "    predicted_positives = K.sum(K.round(K.clip(y_pred, 0, 1)))\n",
    "    precision = true_positives / (predicted_positives + K.epsilon())\n",
    "    return precision\n",
    "\n",
    "def f1_m(y_true, y_pred):\n",
    "    precision = precision_m(y_true, y_pred)\n",
    "    recall = recall_m(y_true, y_pred)\n",
    "    return 2*((precision*recall)/(precision+recall+K.epsilon()))"
   ]
  },
  {
   "cell_type": "code",
   "execution_count": null,
   "metadata": {
    "id": "2c3bTGZWr3O4"
   },
   "outputs": [],
   "source": [
    "model.compile(loss='binary_crossentropy', optimizer = 'adam', metrics=['acc',f1_m,precision_m, recall_m])\n",
    "early_stop = EarlyStopping(monitor='val_loss', patience = 5)\n",
    "filename = os.path.join(model_path, 'tmp_checkpoint.h5')\n",
    "checkpoint = ModelCheckpoint(filename, monitor='val_loss', verbose=0,\n",
    "                             save_best_only=True, mode='auto')"
   ]
  },
  {
   "cell_type": "code",
   "execution_count": null,
   "metadata": {
    "colab": {
     "base_uri": "https://localhost:8080/"
    },
    "id": "lYCQ4LL_i5xg",
    "outputId": "04c6fbcd-1730-47f9-8a1d-6d28703d130b"
   },
   "outputs": [
    {
     "name": "stdout",
     "output_type": "stream",
     "text": [
      "Epoch 1/200\n",
      "7056/7056 [==============================] - 46s 5ms/step - loss: 0.4917 - acc: 0.7281 - f1_m: 0.4250 - precision_m: 0.5838 - recall_m: 0.3657 - val_loss: 0.4730 - val_acc: 0.7354 - val_f1_m: 0.3785 - val_precision_m: 0.6445 - val_recall_m: 0.2794\n",
      "Epoch 2/200\n",
      "7056/7056 [==============================] - 37s 5ms/step - loss: 0.4697 - acc: 0.7413 - f1_m: 0.4853 - precision_m: 0.6161 - recall_m: 0.4263 - val_loss: 0.4603 - val_acc: 0.7530 - val_f1_m: 0.4729 - val_precision_m: 0.6587 - val_recall_m: 0.3823\n",
      "Epoch 3/200\n",
      "7056/7056 [==============================] - 37s 5ms/step - loss: 0.4627 - acc: 0.7502 - f1_m: 0.4978 - precision_m: 0.6375 - recall_m: 0.4276 - val_loss: 0.4639 - val_acc: 0.7493 - val_f1_m: 0.4287 - val_precision_m: 0.6806 - val_recall_m: 0.3252\n",
      "Epoch 4/200\n",
      "7056/7056 [==============================] - 37s 5ms/step - loss: 0.4592 - acc: 0.7523 - f1_m: 0.5052 - precision_m: 0.6416 - recall_m: 0.4354 - val_loss: 0.4579 - val_acc: 0.7519 - val_f1_m: 0.4350 - val_precision_m: 0.6877 - val_recall_m: 0.3303\n",
      "Epoch 5/200\n",
      "7056/7056 [==============================] - 37s 5ms/step - loss: 0.4569 - acc: 0.7535 - f1_m: 0.5070 - precision_m: 0.6436 - recall_m: 0.4370 - val_loss: 0.4567 - val_acc: 0.7545 - val_f1_m: 0.4742 - val_precision_m: 0.6668 - val_recall_m: 0.3815\n",
      "Epoch 6/200\n",
      "7056/7056 [==============================] - 37s 5ms/step - loss: 0.4555 - acc: 0.7550 - f1_m: 0.5091 - precision_m: 0.6485 - recall_m: 0.4373 - val_loss: 0.4506 - val_acc: 0.7580 - val_f1_m: 0.5671 - val_precision_m: 0.6137 - val_recall_m: 0.5421\n",
      "Epoch 7/200\n",
      "7056/7056 [==============================] - 37s 5ms/step - loss: 0.4539 - acc: 0.7558 - f1_m: 0.5147 - precision_m: 0.6473 - recall_m: 0.4455 - val_loss: 0.4512 - val_acc: 0.7574 - val_f1_m: 0.4787 - val_precision_m: 0.6758 - val_recall_m: 0.3839\n",
      "Epoch 8/200\n",
      "7056/7056 [==============================] - 37s 5ms/step - loss: 0.4522 - acc: 0.7571 - f1_m: 0.5139 - precision_m: 0.6541 - recall_m: 0.4423 - val_loss: 0.4490 - val_acc: 0.7610 - val_f1_m: 0.5219 - val_precision_m: 0.6543 - val_recall_m: 0.4484\n",
      "Epoch 9/200\n",
      "7056/7056 [==============================] - 37s 5ms/step - loss: 0.4507 - acc: 0.7590 - f1_m: 0.5209 - precision_m: 0.6555 - recall_m: 0.4503 - val_loss: 0.4454 - val_acc: 0.7617 - val_f1_m: 0.5334 - val_precision_m: 0.6477 - val_recall_m: 0.4681\n",
      "Epoch 10/200\n",
      "7056/7056 [==============================] - 36s 5ms/step - loss: 0.4493 - acc: 0.7594 - f1_m: 0.5246 - precision_m: 0.6534 - recall_m: 0.4561 - val_loss: 0.4497 - val_acc: 0.7598 - val_f1_m: 0.5377 - val_precision_m: 0.6371 - val_recall_m: 0.4792\n",
      "Epoch 11/200\n",
      "7056/7056 [==============================] - 36s 5ms/step - loss: 0.4478 - acc: 0.7612 - f1_m: 0.5318 - precision_m: 0.6542 - recall_m: 0.4653 - val_loss: 0.4444 - val_acc: 0.7622 - val_f1_m: 0.5116 - val_precision_m: 0.6670 - val_recall_m: 0.4294\n",
      "Epoch 12/200\n",
      "7056/7056 [==============================] - 36s 5ms/step - loss: 0.4466 - acc: 0.7621 - f1_m: 0.5325 - precision_m: 0.6583 - recall_m: 0.4646 - val_loss: 0.4436 - val_acc: 0.7638 - val_f1_m: 0.5346 - val_precision_m: 0.6545 - val_recall_m: 0.4663\n",
      "Epoch 13/200\n",
      "7056/7056 [==============================] - 37s 5ms/step - loss: 0.4450 - acc: 0.7637 - f1_m: 0.5382 - precision_m: 0.6584 - recall_m: 0.4720 - val_loss: 0.4428 - val_acc: 0.7653 - val_f1_m: 0.5396 - val_precision_m: 0.6568 - val_recall_m: 0.4725\n",
      "Epoch 14/200\n",
      "7056/7056 [==============================] - 37s 5ms/step - loss: 0.4436 - acc: 0.7643 - f1_m: 0.5407 - precision_m: 0.6586 - recall_m: 0.4754 - val_loss: 0.4413 - val_acc: 0.7647 - val_f1_m: 0.5070 - val_precision_m: 0.6828 - val_recall_m: 0.4174\n",
      "Epoch 15/200\n",
      "7056/7056 [==============================] - 36s 5ms/step - loss: 0.4432 - acc: 0.7644 - f1_m: 0.5423 - precision_m: 0.6582 - recall_m: 0.4779 - val_loss: 0.4414 - val_acc: 0.7663 - val_f1_m: 0.5199 - val_precision_m: 0.6770 - val_recall_m: 0.4359\n",
      "Epoch 16/200\n",
      "7056/7056 [==============================] - 37s 5ms/step - loss: 0.4417 - acc: 0.7658 - f1_m: 0.5460 - precision_m: 0.6603 - recall_m: 0.4815 - val_loss: 0.4392 - val_acc: 0.7660 - val_f1_m: 0.5174 - val_precision_m: 0.6789 - val_recall_m: 0.4318\n",
      "Epoch 17/200\n",
      "7056/7056 [==============================] - 37s 5ms/step - loss: 0.4407 - acc: 0.7659 - f1_m: 0.5443 - precision_m: 0.6612 - recall_m: 0.4790 - val_loss: 0.4368 - val_acc: 0.7692 - val_f1_m: 0.5658 - val_precision_m: 0.6499 - val_recall_m: 0.5156\n",
      "Epoch 18/200\n",
      "7056/7056 [==============================] - 36s 5ms/step - loss: 0.4395 - acc: 0.7676 - f1_m: 0.5489 - precision_m: 0.6654 - recall_m: 0.4840 - val_loss: 0.4359 - val_acc: 0.7700 - val_f1_m: 0.5473 - val_precision_m: 0.6674 - val_recall_m: 0.4781\n",
      "Epoch 19/200\n",
      "7056/7056 [==============================] - 37s 5ms/step - loss: 0.4385 - acc: 0.7686 - f1_m: 0.5509 - precision_m: 0.6671 - recall_m: 0.4856 - val_loss: 0.4344 - val_acc: 0.7711 - val_f1_m: 0.5222 - val_precision_m: 0.6971 - val_recall_m: 0.4315\n",
      "Epoch 20/200\n",
      "7056/7056 [==============================] - 37s 5ms/step - loss: 0.4379 - acc: 0.7684 - f1_m: 0.5488 - precision_m: 0.6668 - recall_m: 0.4825 - val_loss: 0.4378 - val_acc: 0.7697 - val_f1_m: 0.5338 - val_precision_m: 0.6801 - val_recall_m: 0.4536\n",
      "Epoch 21/200\n",
      "7056/7056 [==============================] - 37s 5ms/step - loss: 0.4364 - acc: 0.7697 - f1_m: 0.5517 - precision_m: 0.6704 - recall_m: 0.4854 - val_loss: 0.4342 - val_acc: 0.7727 - val_f1_m: 0.5400 - val_precision_m: 0.6870 - val_recall_m: 0.4592\n",
      "Epoch 22/200\n",
      "7056/7056 [==============================] - 36s 5ms/step - loss: 0.4356 - acc: 0.7700 - f1_m: 0.5528 - precision_m: 0.6705 - recall_m: 0.4859 - val_loss: 0.4356 - val_acc: 0.7682 - val_f1_m: 0.5750 - val_precision_m: 0.6390 - val_recall_m: 0.5378\n",
      "Epoch 23/200\n",
      "7056/7056 [==============================] - 36s 5ms/step - loss: 0.4350 - acc: 0.7710 - f1_m: 0.5544 - precision_m: 0.6741 - recall_m: 0.4866 - val_loss: 0.4367 - val_acc: 0.7681 - val_f1_m: 0.5742 - val_precision_m: 0.6380 - val_recall_m: 0.5370\n",
      "Epoch 24/200\n",
      "7056/7056 [==============================] - 37s 5ms/step - loss: 0.4343 - acc: 0.7713 - f1_m: 0.5558 - precision_m: 0.6730 - recall_m: 0.4891 - val_loss: 0.4296 - val_acc: 0.7730 - val_f1_m: 0.5561 - val_precision_m: 0.6736 - val_recall_m: 0.4888\n",
      "Epoch 25/200\n",
      "7056/7056 [==============================] - 36s 5ms/step - loss: 0.4342 - acc: 0.7713 - f1_m: 0.5560 - precision_m: 0.6742 - recall_m: 0.4892 - val_loss: 0.4313 - val_acc: 0.7709 - val_f1_m: 0.5800 - val_precision_m: 0.6443 - val_recall_m: 0.5425\n",
      "Epoch 26/200\n",
      "7056/7056 [==============================] - 36s 5ms/step - loss: 0.4336 - acc: 0.7715 - f1_m: 0.5559 - precision_m: 0.6730 - recall_m: 0.4890 - val_loss: 0.4298 - val_acc: 0.7734 - val_f1_m: 0.5630 - val_precision_m: 0.6669 - val_recall_m: 0.5020\n",
      "Epoch 27/200\n",
      "7056/7056 [==============================] - 36s 5ms/step - loss: 0.4325 - acc: 0.7720 - f1_m: 0.5553 - precision_m: 0.6760 - recall_m: 0.4873 - val_loss: 0.4309 - val_acc: 0.7717 - val_f1_m: 0.5756 - val_precision_m: 0.6509 - val_recall_m: 0.5313\n",
      "Epoch 28/200\n",
      "7056/7056 [==============================] - 36s 5ms/step - loss: 0.4312 - acc: 0.7735 - f1_m: 0.5604 - precision_m: 0.6764 - recall_m: 0.4941 - val_loss: 0.4299 - val_acc: 0.7739 - val_f1_m: 0.5720 - val_precision_m: 0.6615 - val_recall_m: 0.5187\n",
      "Epoch 29/200\n",
      "7056/7056 [==============================] - 36s 5ms/step - loss: 0.4303 - acc: 0.7738 - f1_m: 0.5600 - precision_m: 0.6790 - recall_m: 0.4924 - val_loss: 0.4274 - val_acc: 0.7747 - val_f1_m: 0.5331 - val_precision_m: 0.7035 - val_recall_m: 0.4435\n",
      "Epoch 30/200\n",
      "7056/7056 [==============================] - 37s 5ms/step - loss: 0.4302 - acc: 0.7737 - f1_m: 0.5583 - precision_m: 0.6803 - recall_m: 0.4885 - val_loss: 0.4287 - val_acc: 0.7749 - val_f1_m: 0.5717 - val_precision_m: 0.6655 - val_recall_m: 0.5161\n",
      "Epoch 31/200\n",
      "7056/7056 [==============================] - 37s 5ms/step - loss: 0.4298 - acc: 0.7741 - f1_m: 0.5597 - precision_m: 0.6800 - recall_m: 0.4914 - val_loss: 0.4340 - val_acc: 0.7714 - val_f1_m: 0.5485 - val_precision_m: 0.6728 - val_recall_m: 0.4782\n",
      "Epoch 32/200\n",
      "7056/7056 [==============================] - 36s 5ms/step - loss: 0.4292 - acc: 0.7750 - f1_m: 0.5592 - precision_m: 0.6858 - recall_m: 0.4876 - val_loss: 0.4294 - val_acc: 0.7746 - val_f1_m: 0.5546 - val_precision_m: 0.6818 - val_recall_m: 0.4824\n",
      "Epoch 33/200\n",
      "7056/7056 [==============================] - 36s 5ms/step - loss: 0.4284 - acc: 0.7750 - f1_m: 0.5613 - precision_m: 0.6833 - recall_m: 0.4922 - val_loss: 0.4273 - val_acc: 0.7741 - val_f1_m: 0.5852 - val_precision_m: 0.6515 - val_recall_m: 0.5462\n",
      "Epoch 34/200\n",
      "7056/7056 [==============================] - 37s 5ms/step - loss: 0.4273 - acc: 0.7752 - f1_m: 0.5607 - precision_m: 0.6856 - recall_m: 0.4900 - val_loss: 0.4251 - val_acc: 0.7757 - val_f1_m: 0.5444 - val_precision_m: 0.6962 - val_recall_m: 0.4613\n",
      "Epoch 35/200\n",
      "7056/7056 [==============================] - 36s 5ms/step - loss: 0.4275 - acc: 0.7755 - f1_m: 0.5613 - precision_m: 0.6844 - recall_m: 0.4914 - val_loss: 0.4239 - val_acc: 0.7791 - val_f1_m: 0.5559 - val_precision_m: 0.6981 - val_recall_m: 0.4762\n",
      "Epoch 36/200\n",
      "7056/7056 [==============================] - 36s 5ms/step - loss: 0.4257 - acc: 0.7768 - f1_m: 0.5636 - precision_m: 0.6876 - recall_m: 0.4928 - val_loss: 0.4254 - val_acc: 0.7756 - val_f1_m: 0.5355 - val_precision_m: 0.7050 - val_recall_m: 0.4462\n",
      "Epoch 37/200\n",
      "7056/7056 [==============================] - 36s 5ms/step - loss: 0.4253 - acc: 0.7766 - f1_m: 0.5640 - precision_m: 0.6878 - recall_m: 0.4942 - val_loss: 0.4289 - val_acc: 0.7719 - val_f1_m: 0.5506 - val_precision_m: 0.6732 - val_recall_m: 0.4808\n",
      "Epoch 38/200\n",
      "7056/7056 [==============================] - 36s 5ms/step - loss: 0.4246 - acc: 0.7777 - f1_m: 0.5668 - precision_m: 0.6880 - recall_m: 0.4975 - val_loss: 0.4245 - val_acc: 0.7769 - val_f1_m: 0.5803 - val_precision_m: 0.6658 - val_recall_m: 0.5295\n",
      "Epoch 39/200\n",
      "7056/7056 [==============================] - 37s 5ms/step - loss: 0.4236 - acc: 0.7773 - f1_m: 0.5677 - precision_m: 0.6858 - recall_m: 0.5000 - val_loss: 0.4207 - val_acc: 0.7778 - val_f1_m: 0.5714 - val_precision_m: 0.6770 - val_recall_m: 0.5090\n",
      "Epoch 40/200\n",
      "7056/7056 [==============================] - 37s 5ms/step - loss: 0.4243 - acc: 0.7774 - f1_m: 0.5670 - precision_m: 0.6871 - recall_m: 0.4984 - val_loss: 0.4206 - val_acc: 0.7797 - val_f1_m: 0.5583 - val_precision_m: 0.6989 - val_recall_m: 0.4793\n",
      "Epoch 41/200\n",
      "7056/7056 [==============================] - 36s 5ms/step - loss: 0.4233 - acc: 0.7784 - f1_m: 0.5688 - precision_m: 0.6885 - recall_m: 0.5005 - val_loss: 0.4236 - val_acc: 0.7764 - val_f1_m: 0.5490 - val_precision_m: 0.6948 - val_recall_m: 0.4684\n",
      "Epoch 42/200\n",
      "7056/7056 [==============================] - 37s 5ms/step - loss: 0.4219 - acc: 0.7791 - f1_m: 0.5715 - precision_m: 0.6899 - recall_m: 0.5034 - val_loss: 0.4194 - val_acc: 0.7798 - val_f1_m: 0.5620 - val_precision_m: 0.6958 - val_recall_m: 0.4861\n",
      "Epoch 43/200\n",
      "7056/7056 [==============================] - 36s 5ms/step - loss: 0.4214 - acc: 0.7797 - f1_m: 0.5736 - precision_m: 0.6903 - recall_m: 0.5060 - val_loss: 0.4249 - val_acc: 0.7760 - val_f1_m: 0.5988 - val_precision_m: 0.6466 - val_recall_m: 0.5727\n",
      "Epoch 44/200\n",
      "7056/7056 [==============================] - 36s 5ms/step - loss: 0.4215 - acc: 0.7790 - f1_m: 0.5715 - precision_m: 0.6902 - recall_m: 0.5036 - val_loss: 0.4201 - val_acc: 0.7776 - val_f1_m: 0.5943 - val_precision_m: 0.6559 - val_recall_m: 0.5584\n",
      "Epoch 45/200\n",
      "7056/7056 [==============================] - 36s 5ms/step - loss: 0.4202 - acc: 0.7800 - f1_m: 0.5743 - precision_m: 0.6906 - recall_m: 0.5072 - val_loss: 0.4226 - val_acc: 0.7782 - val_f1_m: 0.5431 - val_precision_m: 0.7094 - val_recall_m: 0.4542\n",
      "Epoch 46/200\n",
      "7056/7056 [==============================] - 36s 5ms/step - loss: 0.4201 - acc: 0.7802 - f1_m: 0.5730 - precision_m: 0.6924 - recall_m: 0.5047 - val_loss: 0.4177 - val_acc: 0.7803 - val_f1_m: 0.5610 - val_precision_m: 0.6990 - val_recall_m: 0.4829\n",
      "Epoch 47/200\n",
      "7056/7056 [==============================] - 37s 5ms/step - loss: 0.4194 - acc: 0.7803 - f1_m: 0.5736 - precision_m: 0.6931 - recall_m: 0.5048 - val_loss: 0.4207 - val_acc: 0.7781 - val_f1_m: 0.5593 - val_precision_m: 0.6913 - val_recall_m: 0.4832\n",
      "Epoch 48/200\n",
      "7056/7056 [==============================] - 36s 5ms/step - loss: 0.4194 - acc: 0.7801 - f1_m: 0.5733 - precision_m: 0.6924 - recall_m: 0.5049 - val_loss: 0.4187 - val_acc: 0.7803 - val_f1_m: 0.5601 - val_precision_m: 0.7009 - val_recall_m: 0.4811\n",
      "Epoch 49/200\n",
      "7056/7056 [==============================] - 37s 5ms/step - loss: 0.4187 - acc: 0.7811 - f1_m: 0.5760 - precision_m: 0.6930 - recall_m: 0.5084 - val_loss: 0.4164 - val_acc: 0.7815 - val_f1_m: 0.5630 - val_precision_m: 0.7027 - val_recall_m: 0.4841\n",
      "Epoch 50/200\n",
      "7056/7056 [==============================] - 36s 5ms/step - loss: 0.4188 - acc: 0.7806 - f1_m: 0.5762 - precision_m: 0.6901 - recall_m: 0.5101 - val_loss: 0.4252 - val_acc: 0.7775 - val_f1_m: 0.5548 - val_precision_m: 0.6926 - val_recall_m: 0.4772\n",
      "Epoch 51/200\n",
      "7056/7056 [==============================] - 36s 5ms/step - loss: 0.4179 - acc: 0.7815 - f1_m: 0.5770 - precision_m: 0.6950 - recall_m: 0.5090 - val_loss: 0.4230 - val_acc: 0.7777 - val_f1_m: 0.5820 - val_precision_m: 0.6664 - val_recall_m: 0.5316\n",
      "Epoch 52/200\n",
      "7056/7056 [==============================] - 36s 5ms/step - loss: 0.4173 - acc: 0.7815 - f1_m: 0.5772 - precision_m: 0.6931 - recall_m: 0.5098 - val_loss: 0.4180 - val_acc: 0.7815 - val_f1_m: 0.5664 - val_precision_m: 0.6982 - val_recall_m: 0.4910\n",
      "Epoch 53/200\n",
      "7056/7056 [==============================] - 37s 5ms/step - loss: 0.4169 - acc: 0.7819 - f1_m: 0.5777 - precision_m: 0.6953 - recall_m: 0.5097 - val_loss: 0.4258 - val_acc: 0.7761 - val_f1_m: 0.5735 - val_precision_m: 0.6688 - val_recall_m: 0.5168\n",
      "Epoch 54/200\n",
      "7056/7056 [==============================] - 36s 5ms/step - loss: 0.4166 - acc: 0.7825 - f1_m: 0.5802 - precision_m: 0.6945 - recall_m: 0.5132 - val_loss: 0.4177 - val_acc: 0.7806 - val_f1_m: 0.5707 - val_precision_m: 0.6891 - val_recall_m: 0.5017\n"
     ]
    }
   ],
   "source": [
    "history = model.fit(X_train, y_train,\n",
    "                   epochs = 200,\n",
    "                   batch_size = 50,\n",
    "                   validation_data = (x_valid, y_valid)\n",
    "                   , callbacks=[early_stop, checkpoint])"
   ]
  },
  {
   "cell_type": "code",
   "execution_count": null,
   "metadata": {
    "id": "Mdaj8n3ei67A"
   },
   "outputs": [],
   "source": [
    "model.load_weights(filename)"
   ]
  },
  {
   "cell_type": "code",
   "execution_count": null,
   "metadata": {
    "colab": {
     "base_uri": "https://localhost:8080/"
    },
    "id": "Zuu3Wcjpi79e",
    "outputId": "80d1c32c-5c79-4ac2-b4fb-671c3f6ad616"
   },
   "outputs": [
    {
     "name": "stdout",
     "output_type": "stream",
     "text": [
      "10350/10350 [==============================] - 18s 2ms/step\n"
     ]
    }
   ],
   "source": [
    "pred = model.predict(test_feature)"
   ]
  },
  {
   "cell_type": "code",
   "execution_count": null,
   "metadata": {
    "colab": {
     "base_uri": "https://localhost:8080/",
     "height": 265
    },
    "id": "pk7DxHYEi8zb",
    "outputId": "65a3641b-6446-45e6-baf2-6b5bd62b2887"
   },
   "outputs": [
    {
     "data": {
      "image/png": "[encoded data removed]",
      "text/plain": [
       "<Figure size 432x288 with 1 Axes>"
      ]
     },
     "metadata": {
      "needs_background": "light"
     },
     "output_type": "display_data"
    }
   ],
   "source": [
    "plt.plot(history.history['loss'], label='train')\n",
    "plt.plot(history.history['val_loss'], label='validation')\n",
    "plt.legend()\n",
    "plt.show()"
   ]
  },
  {
   "cell_type": "code",
   "execution_count": null,
   "metadata": {
    "id": "i1NTIhupi9Wf"
   },
   "outputs": [],
   "source": [
    "pred_df = pd.DataFrame(pred, columns= ['TAG'])"
   ]
  },
  {
   "cell_type": "code",
   "execution_count": null,
   "metadata": {
    "id": "t6yZqbJWi-ZI"
   },
   "outputs": [],
   "source": [
    "pred_df['TAG'] = pred_df['TAG'].apply(lambda x: 1 if x> 0.5 else 0)"
   ]
  },
  {
   "cell_type": "code",
   "execution_count": null,
   "metadata": {
    "colab": {
     "base_uri": "https://localhost:8080/"
    },
    "id": "VzX0oYb1i_Dq",
    "outputId": "302b2baf-5e59-4b1d-8fe8-8e91ce2b73c7"
   },
   "outputs": [
    {
     "data": {
      "text/plain": [
       "1    248479\n",
       "0     82711\n",
       "Name: TAG, dtype: int64"
      ]
     },
     "execution_count": 49,
     "metadata": {},
     "output_type": "execute_result"
    }
   ],
   "source": [
    "pred_df['TAG'].value_counts()"
   ]
  },
  {
   "cell_type": "code",
   "execution_count": null,
   "metadata": {
    "id": "vTYC8qCdrANw"
   },
   "outputs": [],
   "source": [
    "pred_df['TAG2'] = test_label"
   ]
  },
  {
   "cell_type": "code",
   "execution_count": null,
   "metadata": {
    "colab": {
     "base_uri": "https://localhost:8080/",
     "height": 423
    },
    "id": "Svv9owXBrIqE",
    "outputId": "354f5dbb-1c5b-4b71-bb30-3ff022a9d169"
   },
   "outputs": [
    {
     "data": {
      "text/html": [
       "\n",
       "  <div id=\"df-ce5dbcdf-6762-45f9-acf4-3a1dc11e4046\">\n",
       "    <div class=\"colab-df-container\">\n",
       "      <div>\n",
       "<style scoped>\n",
       "    .dataframe tbody tr th:only-of-type {\n",
       "        vertical-align: middle;\n",
       "    }\n",
       "\n",
       "    .dataframe tbody tr th {\n",
       "        vertical-align: top;\n",
       "    }\n",
       "\n",
       "    .dataframe thead th {\n",
       "        text-align: right;\n",
       "    }\n",
       "</style>\n",
       "<table border=\"1\" class=\"dataframe\">\n",
       "  <thead>\n",
       "    <tr style=\"text-align: right;\">\n",
       "      <th></th>\n",
       "      <th>TAG</th>\n",
       "      <th>TAG2</th>\n",
       "    </tr>\n",
       "  </thead>\n",
       "  <tbody>\n",
       "    <tr>\n",
       "      <th>0</th>\n",
       "      <td>1</td>\n",
       "      <td>0</td>\n",
       "    </tr>\n",
       "    <tr>\n",
       "      <th>1</th>\n",
       "      <td>1</td>\n",
       "      <td>1</td>\n",
       "    </tr>\n",
       "    <tr>\n",
       "      <th>2</th>\n",
       "      <td>1</td>\n",
       "      <td>0</td>\n",
       "    </tr>\n",
       "    <tr>\n",
       "      <th>3</th>\n",
       "      <td>1</td>\n",
       "      <td>0</td>\n",
       "    </tr>\n",
       "    <tr>\n",
       "      <th>4</th>\n",
       "      <td>1</td>\n",
       "      <td>0</td>\n",
       "    </tr>\n",
       "    <tr>\n",
       "      <th>...</th>\n",
       "      <td>...</td>\n",
       "      <td>...</td>\n",
       "    </tr>\n",
       "    <tr>\n",
       "      <th>331185</th>\n",
       "      <td>1</td>\n",
       "      <td>0</td>\n",
       "    </tr>\n",
       "    <tr>\n",
       "      <th>331186</th>\n",
       "      <td>1</td>\n",
       "      <td>0</td>\n",
       "    </tr>\n",
       "    <tr>\n",
       "      <th>331187</th>\n",
       "      <td>1</td>\n",
       "      <td>0</td>\n",
       "    </tr>\n",
       "    <tr>\n",
       "      <th>331188</th>\n",
       "      <td>1</td>\n",
       "      <td>0</td>\n",
       "    </tr>\n",
       "    <tr>\n",
       "      <th>331189</th>\n",
       "      <td>1</td>\n",
       "      <td>0</td>\n",
       "    </tr>\n",
       "  </tbody>\n",
       "</table>\n",
       "<p>331190 rows × 2 columns</p>\n",
       "</div>\n",
       "      <button class=\"colab-df-convert\" onclick=\"convertToInteractive('df-ce5dbcdf-6762-45f9-acf4-3a1dc11e4046')\"\n",
       "              title=\"Convert this dataframe to an interactive table.\"\n",
       "              style=\"display:none;\">\n",
       "        \n",
       "  <svg xmlns=\"http://www.w3.org/2000/svg\" height=\"24px\"viewBox=\"0 0 24 24\"\n",
       "       width=\"24px\">\n",
       "    <path d=\"M0 0h24v24H0V0z\" fill=\"none\"/>\n",
       "    <path d=\"M18.56 5.44l.94 2.06.94-2.06 2.06-.94-2.06-.94-.94-2.06-.94 2.06-2.06.94zm-11 1L8.5 8.5l.94-2.06 2.06-.94-2.06-.94L8.5 2.5l-.94 2.06-2.06.94zm10 10l.94 2.06.94-2.06 2.06-.94-2.06-.94-.94-2.06-.94 2.06-2.06.94z\"/><path d=\"M17.41 7.96l-1.37-1.37c-.4-.4-.92-.59-1.43-.59-.52 0-1.04.2-1.43.59L10.3 9.45l-7.72 7.72c-.78.78-.78 2.05 0 2.83L4 21.41c.39.39.9.59 1.41.59.51 0 1.02-.2 1.41-.59l7.78-7.78 2.81-2.81c.8-.78.8-2.07 0-2.86zM5.41 20L4 18.59l7.72-7.72 1.47 1.35L5.41 20z\"/>\n",
       "  </svg>\n",
       "      </button>\n",
       "      \n",
       "  <style>\n",
       "    .colab-df-container {\n",
       "      display:flex;\n",
       "      flex-wrap:wrap;\n",
       "      gap: 12px;\n",
       "    }\n",
       "\n",
       "    .colab-df-convert {\n",
       "      background-color: #E8F0FE;\n",
       "      border: none;\n",
       "      border-radius: 50%;\n",
       "      cursor: pointer;\n",
       "      display: none;\n",
       "      fill: #1967D2;\n",
       "      height: 32px;\n",
       "      padding: 0 0 0 0;\n",
       "      width: 32px;\n",
       "    }\n",
       "\n",
       "    .colab-df-convert:hover {\n",
       "      background-color: #E2EBFA;\n",
       "      box-shadow: 0px 1px 2px rgba(60, 64, 67, 0.3), 0px 1px 3px 1px rgba(60, 64, 67, 0.15);\n",
       "      fill: #174EA6;\n",
       "    }\n",
       "\n",
       "    [theme=dark] .colab-df-convert {\n",
       "      background-color: #3B4455;\n",
       "      fill: #D2E3FC;\n",
       "    }\n",
       "\n",
       "    [theme=dark] .colab-df-convert:hover {\n",
       "      background-color: #434B5C;\n",
       "      box-shadow: 0px 1px 3px 1px rgba(0, 0, 0, 0.15);\n",
       "      filter: drop-shadow(0px 1px 2px rgba(0, 0, 0, 0.3));\n",
       "      fill: #FFFFFF;\n",
       "    }\n",
       "  </style>\n",
       "\n",
       "      <script>\n",
       "        const buttonEl =\n",
       "          document.querySelector('#df-ce5dbcdf-6762-45f9-acf4-3a1dc11e4046 button.colab-df-convert');\n",
       "        buttonEl.style.display =\n",
       "          google.colab.kernel.accessAllowed ? 'block' : 'none';\n",
       "\n",
       "        async function convertToInteractive(key) {\n",
       "          const element = document.querySelector('#df-ce5dbcdf-6762-45f9-acf4-3a1dc11e4046');\n",
       "          const dataTable =\n",
       "            await google.colab.kernel.invokeFunction('convertToInteractive',\n",
       "                                                     [key], {});\n",
       "          if (!dataTable) return;\n",
       "\n",
       "          const docLinkHtml = 'Like what you see? Visit the ' +\n",
       "            '<a target=\"_blank\" href=https://colab.research.google.com/notebooks/data_table.ipynb>data table notebook</a>'\n",
       "            + ' to learn more about interactive tables.';\n",
       "          element.innerHTML = '';\n",
       "          dataTable['output_type'] = 'display_data';\n",
       "          await google.colab.output.renderOutput(dataTable, element);\n",
       "          const docLink = document.createElement('div');\n",
       "          docLink.innerHTML = docLinkHtml;\n",
       "          element.appendChild(docLink);\n",
       "        }\n",
       "      </script>\n",
       "    </div>\n",
       "  </div>\n",
       "  "
      ],
      "text/plain": [
       "        TAG  TAG2\n",
       "0         1     0\n",
       "1         1     1\n",
       "2         1     0\n",
       "3         1     0\n",
       "4         1     0\n",
       "...     ...   ...\n",
       "331185    1     0\n",
       "331186    1     0\n",
       "331187    1     0\n",
       "331188    1     0\n",
       "331189    1     0\n",
       "\n",
       "[331190 rows x 2 columns]"
      ]
     },
     "execution_count": 54,
     "metadata": {},
     "output_type": "execute_result"
    }
   ],
   "source": [
    "pred_df['TAG2'] = pred_df['TAG2'].apply(lambda x : 0 if x == 1 else 1)\n",
    "pred_df"
   ]
  },
  {
   "cell_type": "code",
   "execution_count": null,
   "metadata": {
    "colab": {
     "base_uri": "https://localhost:8080/"
    },
    "id": "sdlXtNpqi_wn",
    "outputId": "914eb3e1-3da0-48c3-e5b9-cc65aad2d687"
   },
   "outputs": [
    {
     "name": "stdout",
     "output_type": "stream",
     "text": [
      "[[  6602  17061]\n",
      " [ 76109 231418]]\n"
     ]
    }
   ],
   "source": [
    "classify = confusion_matrix(test_label, pred_df['TAG'])\n",
    "print(classify)"
   ]
  },
  {
   "cell_type": "code",
   "execution_count": null,
   "metadata": {
    "colab": {
     "base_uri": "https://localhost:8080/",
     "height": 458
    },
    "id": "sBu5o0wcjBo1",
    "outputId": "1b64fce9-1bd7-44c7-fdfb-01ae8e96a294"
   },
   "outputs": [
    {
     "data": {
      "image/png": "[encoded data removed]",
      "text/plain": [
       "<Figure size 504x504 with 2 Axes>"
      ]
     },
     "metadata": {
      "needs_background": "light"
     },
     "output_type": "display_data"
    }
   ],
   "source": [
    "plt.figure(figsize=(7, 7))\n",
    "sns.heatmap(classify, xticklabels=['OK', 'NG'], yticklabels=['OK', 'NG'], annot=True, fmt='d')\n",
    "plt.title('Confusion Matrix')\n",
    "plt.xlabel('Predicted Class'); plt.ylabel('True Class')\n",
    "plt.show()"
   ]
  },
  {
   "cell_type": "code",
   "execution_count": null,
   "metadata": {
    "colab": {
     "base_uri": "https://localhost:8080/"
    },
    "id": "Lj_ctgRdjJPH",
    "outputId": "b53d3276-341d-49ad-f1e0-9af080439f43"
   },
   "outputs": [
    {
     "name": "stdout",
     "output_type": "stream",
     "text": [
      "precision : 0.9313\n",
      "recall : 0.7525\n",
      "f1-score : 0.8324\n",
      "recall : 0.7187\n"
     ]
    }
   ],
   "source": [
    "p = precision_score(test_label, pred_df['TAG'])\n",
    "print(\"precision : %0.4f\" %p)\n",
    "r = recall_score(test_label, pred_df['TAG'])\n",
    "print(\"recall : %0.4f\" %r)\n",
    "f1 = f1_score(test_label, pred_df['TAG'])\n",
    "print(\"f1-score : %0.4f\" %f1)\n",
    "acc = accuracy_score(test_label,pred_df['TAG'])\n",
    "print(\"recall : %0.4f\" %acc)"
   ]
  },
  {
   "cell_type": "code",
   "execution_count": null,
   "metadata": {
    "id": "ElyFwg5ZjNpb"
   },
   "outputs": [],
   "source": [
    "df_result = pred_df.copy()\n",
    "df_result.rename(columns = {'TAG' : 'pred'}, inplace = True)"
   ]
  }
 ],
 "metadata": {
  "accelerator": "GPU",
  "colab": {
   "collapsed_sections": [],
   "machine_shape": "hm",
   "provenance": []
  },
  "gpuClass": "premium",
  "kernelspec": {
   "display_name": "Python 3 (ipykernel)",
   "language": "python",
   "name": "python3"
  },
  "language_info": {
   "codemirror_mode": {
    "name": "ipython",
    "version": 3
   },
   "file_extension": ".py",
   "mimetype": "text/x-python",
   "name": "python",
   "nbconvert_exporter": "python",
   "pygments_lexer": "ipython3",
   "version": "3.9.12"
  }
 },
 "nbformat": 4,
 "nbformat_minor": 1
}
