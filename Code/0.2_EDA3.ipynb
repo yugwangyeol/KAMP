{
 "cells": [
  {
   "cell_type": "markdown",
   "id": "844dde57",
   "metadata": {},
   "source": [
    "# Import"
   ]
  },
  {
   "cell_type": "code",
   "execution_count": 1,
   "id": "516c175e",
   "metadata": {
    "colab": {
     "base_uri": "https://localhost:8080/",
     "height": 34
    },
    "id": "431dcb68",
    "outputId": "b4735530-1f14-4ad7-a5c9-044b95c0910c"
   },
   "outputs": [
    {
     "data": {
      "text/html": [
       "<style>.container { width:100% !important; }</style>"
      ],
      "text/plain": [
       "<IPython.core.display.HTML object>"
      ]
     },
     "metadata": {},
     "output_type": "display_data"
    }
   ],
   "source": [
    "from IPython.core.display import display, HTML\n",
    "display(HTML(\"<style>.container { width:100% !important; }</style>\"))\n",
    "\n",
    "import os\n",
    "import pandas as pd\n",
    "import numpy as np\n",
    "import matplotlib.pyplot as plt\n",
    "import seaborn as sns\n",
    "%matplotlib inline\n",
    "\n",
    "from datetime import datetime, timedelta, date\n",
    "from sklearn import preprocessing\n",
    "\n",
    "import plotly.graph_objects as go\n",
    "\n",
    "# pandas max row \n",
    "pd.options.display.max_rows = 1000\n",
    "pd.options.display.max_columns = 1000"
   ]
  },
  {
   "cell_type": "markdown",
   "id": "9d6d4a34",
   "metadata": {},
   "source": [
    "# Data Load"
   ]
  },
  {
   "cell_type": "markdown",
   "id": "a41efab1",
   "metadata": {
    "id": "LSSjfWYUS7XR"
   },
   "source": [
    "- 시간 전처리: index화 + datatime 변형\n",
    "- 시간 보정 작업: index 기준 나머지 \n",
    "- 소수점 변환: 용해 온도, 교반속도 소수점 변환"
   ]
  },
  {
   "cell_type": "code",
   "execution_count": 2,
   "id": "47c7eb7c",
   "metadata": {
    "id": "795578c2"
   },
   "outputs": [],
   "source": [
    "df = pd.read_csv('경진대회용 용해탱크 데이터셋.csv', encoding='cp949')\n",
    "\n",
    "# 시간 정보 각 index별 6초 단위 값 삽입\n",
    "def num_change(x):\n",
    "    remainder = divmod(x, 10)[1]\n",
    "    change_second = remainder * 6\n",
    "    \n",
    "    if len(str(change_second)) == 1:\n",
    "        value = '0' + str(change_second)\n",
    "    else: \n",
    "        value = str(change_second)\n",
    "    \n",
    "    return value\n",
    "df['NUM'] = df['NUM'].agg(lambda x: num_change(x))\n",
    "\n",
    "df_cp = df.copy()\n",
    "df_cp['STD_DT'] = df_cp['STD_DT'] + ':' + df_cp['NUM']\n",
    "\n",
    "# 시간 정보 : object => datatime으로 변형 / index화\n",
    "df_cp['STD_DT'] = df_cp['STD_DT'].apply(lambda x : pd.to_datetime(str(x), format='%Y-%m-%d %H:%M:%S'))"
   ]
  },
  {
   "cell_type": "markdown",
   "id": "090cc51c",
   "metadata": {},
   "source": [
    "# Data Preprocessing"
   ]
  },
  {
   "cell_type": "code",
   "execution_count": 3,
   "id": "6403c583",
   "metadata": {
    "colab": {
     "base_uri": "https://localhost:8080/",
     "height": 708
    },
    "id": "ueobGHlIo043",
    "outputId": "99190454-e437-4c96-9b9f-4f9234a7a672"
   },
   "outputs": [
    {
     "data": {
      "text/html": [
       "<div>\n",
       "<style scoped>\n",
       "    .dataframe tbody tr th:only-of-type {\n",
       "        vertical-align: middle;\n",
       "    }\n",
       "\n",
       "    .dataframe tbody tr th {\n",
       "        vertical-align: top;\n",
       "    }\n",
       "\n",
       "    .dataframe thead th {\n",
       "        text-align: right;\n",
       "    }\n",
       "</style>\n",
       "<table border=\"1\" class=\"dataframe\">\n",
       "  <thead>\n",
       "    <tr style=\"text-align: right;\">\n",
       "      <th></th>\n",
       "      <th>MELT_TEMP</th>\n",
       "      <th>MOTORSPEED</th>\n",
       "      <th>MELT_WEIGHT</th>\n",
       "      <th>INSP</th>\n",
       "      <th>TAG</th>\n",
       "    </tr>\n",
       "    <tr>\n",
       "      <th>STD_DT</th>\n",
       "      <th></th>\n",
       "      <th></th>\n",
       "      <th></th>\n",
       "      <th></th>\n",
       "      <th></th>\n",
       "    </tr>\n",
       "  </thead>\n",
       "  <tbody>\n",
       "    <tr>\n",
       "      <th>2020-03-04 00:00:00</th>\n",
       "      <td>48.9</td>\n",
       "      <td>11.6</td>\n",
       "      <td>631</td>\n",
       "      <td>3.19</td>\n",
       "      <td>OK</td>\n",
       "    </tr>\n",
       "    <tr>\n",
       "      <th>2020-03-04 00:00:06</th>\n",
       "      <td>43.3</td>\n",
       "      <td>7.8</td>\n",
       "      <td>609</td>\n",
       "      <td>3.19</td>\n",
       "      <td>OK</td>\n",
       "    </tr>\n",
       "    <tr>\n",
       "      <th>2020-03-04 00:00:12</th>\n",
       "      <td>46.4</td>\n",
       "      <td>15.4</td>\n",
       "      <td>608</td>\n",
       "      <td>3.19</td>\n",
       "      <td>OK</td>\n",
       "    </tr>\n",
       "    <tr>\n",
       "      <th>2020-03-04 00:00:18</th>\n",
       "      <td>37.9</td>\n",
       "      <td>21.2</td>\n",
       "      <td>606</td>\n",
       "      <td>3.19</td>\n",
       "      <td>OK</td>\n",
       "    </tr>\n",
       "    <tr>\n",
       "      <th>2020-03-04 00:00:24</th>\n",
       "      <td>79.8</td>\n",
       "      <td>173.6</td>\n",
       "      <td>604</td>\n",
       "      <td>3.21</td>\n",
       "      <td>OK</td>\n",
       "    </tr>\n",
       "    <tr>\n",
       "      <th>2020-03-04 00:00:30</th>\n",
       "      <td>74.3</td>\n",
       "      <td>172.2</td>\n",
       "      <td>603</td>\n",
       "      <td>3.21</td>\n",
       "      <td>OK</td>\n",
       "    </tr>\n",
       "    <tr>\n",
       "      <th>2020-03-04 00:00:36</th>\n",
       "      <td>39.0</td>\n",
       "      <td>21.2</td>\n",
       "      <td>602</td>\n",
       "      <td>3.19</td>\n",
       "      <td>OK</td>\n",
       "    </tr>\n",
       "    <tr>\n",
       "      <th>2020-03-04 00:00:42</th>\n",
       "      <td>49.3</td>\n",
       "      <td>15.2</td>\n",
       "      <td>600</td>\n",
       "      <td>3.19</td>\n",
       "      <td>OK</td>\n",
       "    </tr>\n",
       "    <tr>\n",
       "      <th>2020-03-04 00:00:48</th>\n",
       "      <td>42.7</td>\n",
       "      <td>0.0</td>\n",
       "      <td>599</td>\n",
       "      <td>3.19</td>\n",
       "      <td>OK</td>\n",
       "    </tr>\n",
       "    <tr>\n",
       "      <th>2020-03-04 00:00:54</th>\n",
       "      <td>48.9</td>\n",
       "      <td>14.8</td>\n",
       "      <td>598</td>\n",
       "      <td>3.20</td>\n",
       "      <td>OK</td>\n",
       "    </tr>\n",
       "    <tr>\n",
       "      <th>2020-03-04 00:01:00</th>\n",
       "      <td>50.7</td>\n",
       "      <td>12.8</td>\n",
       "      <td>596</td>\n",
       "      <td>3.19</td>\n",
       "      <td>OK</td>\n",
       "    </tr>\n",
       "    <tr>\n",
       "      <th>2020-03-04 00:01:06</th>\n",
       "      <td>40.8</td>\n",
       "      <td>6.6</td>\n",
       "      <td>595</td>\n",
       "      <td>3.19</td>\n",
       "      <td>OK</td>\n",
       "    </tr>\n",
       "    <tr>\n",
       "      <th>2020-03-04 00:01:12</th>\n",
       "      <td>47.4</td>\n",
       "      <td>13.8</td>\n",
       "      <td>594</td>\n",
       "      <td>3.19</td>\n",
       "      <td>OK</td>\n",
       "    </tr>\n",
       "    <tr>\n",
       "      <th>2020-03-04 00:01:18</th>\n",
       "      <td>35.8</td>\n",
       "      <td>20.1</td>\n",
       "      <td>592</td>\n",
       "      <td>3.19</td>\n",
       "      <td>OK</td>\n",
       "    </tr>\n",
       "    <tr>\n",
       "      <th>2020-03-04 00:01:24</th>\n",
       "      <td>74.0</td>\n",
       "      <td>174.0</td>\n",
       "      <td>590</td>\n",
       "      <td>3.22</td>\n",
       "      <td>OK</td>\n",
       "    </tr>\n",
       "    <tr>\n",
       "      <th>2020-03-04 00:01:30</th>\n",
       "      <td>77.2</td>\n",
       "      <td>172.9</td>\n",
       "      <td>588</td>\n",
       "      <td>3.22</td>\n",
       "      <td>OK</td>\n",
       "    </tr>\n",
       "    <tr>\n",
       "      <th>2020-03-04 00:01:36</th>\n",
       "      <td>42.4</td>\n",
       "      <td>19.5</td>\n",
       "      <td>586</td>\n",
       "      <td>3.18</td>\n",
       "      <td>OK</td>\n",
       "    </tr>\n",
       "    <tr>\n",
       "      <th>2020-03-04 00:01:42</th>\n",
       "      <td>46.0</td>\n",
       "      <td>15.8</td>\n",
       "      <td>585</td>\n",
       "      <td>3.19</td>\n",
       "      <td>OK</td>\n",
       "    </tr>\n",
       "    <tr>\n",
       "      <th>2020-03-04 00:01:48</th>\n",
       "      <td>44.0</td>\n",
       "      <td>0.0</td>\n",
       "      <td>584</td>\n",
       "      <td>3.19</td>\n",
       "      <td>OK</td>\n",
       "    </tr>\n",
       "    <tr>\n",
       "      <th>2020-03-04 00:01:54</th>\n",
       "      <td>50.4</td>\n",
       "      <td>13.3</td>\n",
       "      <td>582</td>\n",
       "      <td>3.19</td>\n",
       "      <td>OK</td>\n",
       "    </tr>\n",
       "  </tbody>\n",
       "</table>\n",
       "</div>"
      ],
      "text/plain": [
       "                     MELT_TEMP  MOTORSPEED  MELT_WEIGHT  INSP TAG\n",
       "STD_DT                                                           \n",
       "2020-03-04 00:00:00       48.9        11.6          631  3.19  OK\n",
       "2020-03-04 00:00:06       43.3         7.8          609  3.19  OK\n",
       "2020-03-04 00:00:12       46.4        15.4          608  3.19  OK\n",
       "2020-03-04 00:00:18       37.9        21.2          606  3.19  OK\n",
       "2020-03-04 00:00:24       79.8       173.6          604  3.21  OK\n",
       "2020-03-04 00:00:30       74.3       172.2          603  3.21  OK\n",
       "2020-03-04 00:00:36       39.0        21.2          602  3.19  OK\n",
       "2020-03-04 00:00:42       49.3        15.2          600  3.19  OK\n",
       "2020-03-04 00:00:48       42.7         0.0          599  3.19  OK\n",
       "2020-03-04 00:00:54       48.9        14.8          598  3.20  OK\n",
       "2020-03-04 00:01:00       50.7        12.8          596  3.19  OK\n",
       "2020-03-04 00:01:06       40.8         6.6          595  3.19  OK\n",
       "2020-03-04 00:01:12       47.4        13.8          594  3.19  OK\n",
       "2020-03-04 00:01:18       35.8        20.1          592  3.19  OK\n",
       "2020-03-04 00:01:24       74.0       174.0          590  3.22  OK\n",
       "2020-03-04 00:01:30       77.2       172.9          588  3.22  OK\n",
       "2020-03-04 00:01:36       42.4        19.5          586  3.18  OK\n",
       "2020-03-04 00:01:42       46.0        15.8          585  3.19  OK\n",
       "2020-03-04 00:01:48       44.0         0.0          584  3.19  OK\n",
       "2020-03-04 00:01:54       50.4        13.3          582  3.19  OK"
      ]
     },
     "execution_count": 3,
     "metadata": {},
     "output_type": "execute_result"
    }
   ],
   "source": [
    "df_cp = df_cp.set_index(['STD_DT'])\n",
    "\n",
    "## 소수점 변환: 용해 온도(MELT_TEMP), 교반속도(MOTORSPEED)\n",
    "def change_value(x):\n",
    "    operation_value = str(x)             # str 형식으로 변환\n",
    "    length_value = len(operation_value)  # 길이 확인\n",
    "\n",
    "    if length_value == 1:\n",
    "        value = '0.' + operation_value\n",
    "    elif length_value == 2:\n",
    "        value = operation_value[0] + '.' + operation_value[1]\n",
    "    else: \n",
    "        int_cnt = length_value - 1\n",
    "        value = operation_value[:int_cnt] + '.' + operation_value[int_cnt]\n",
    "        \n",
    "\n",
    "    change_value = float(value)\n",
    "    return change_value\n",
    "\n",
    "df_cp['MELT_TEMP'] = df_cp['MELT_TEMP'].agg(lambda x: change_value(x))\n",
    "df_cp['MOTORSPEED'] = df_cp['MOTORSPEED'].agg(lambda x: change_value(x))\n",
    "\n",
    "del df_cp['NUM']\n",
    "\n",
    "df_cp.head(20)"
   ]
  },
  {
   "cell_type": "markdown",
   "id": "c74f7009",
   "metadata": {
    "id": "xsxu4cpBUED4"
   },
   "source": [
    "# EDA\n",
    "\n",
    "#### [1] 불량과 정상 사이의 분포도 확인 \n",
    "- Motospped(교반속도), MELT_TEMP(융해온도)가 높을 때의 경우 불량이 없음 => 이들에 대한 상관관계가 존재할까 확인"
   ]
  },
  {
   "cell_type": "code",
   "execution_count": 4,
   "id": "0bc17ab1",
   "metadata": {
    "colab": {
     "base_uri": "https://localhost:8080/",
     "height": 1000
    },
    "id": "3d0e2178",
    "outputId": "4ff4ca66-5df7-4f2a-81ef-df2d9b3e1225"
   },
   "outputs": [
    {
     "data": {
      "image/png": "[encoded data removed]",
      "text/plain": [
       "<Figure size 1296x1728 with 8 Axes>"
      ]
     },
     "metadata": {
      "needs_background": "light"
     },
     "output_type": "display_data"
    }
   ],
   "source": [
    "fig, ax = plt.subplots(4, 2, figsize = (18,24))\n",
    "sns.violinplot(x='TAG', y='MELT_TEMP', data = df_cp, ax = ax[0,0])\n",
    "sns.stripplot(x='TAG', y='MELT_TEMP', data = df_cp, ax = ax[0,1])\n",
    "\n",
    "sns.violinplot(x='TAG', y='MOTORSPEED', data = df_cp, ax = ax[1,0])\n",
    "sns.stripplot(x='TAG', y='MOTORSPEED', data = df_cp, ax = ax[1,1])\n",
    "\n",
    "sns.violinplot(x='TAG', y='MELT_WEIGHT', data = df_cp, ax = ax[2,0])\n",
    "sns.stripplot(x='TAG', y='MELT_WEIGHT', data = df_cp, ax = ax[2,1])\n",
    "\n",
    "sns.violinplot(x='TAG', y='INSP', data = df_cp, ax = ax[3,0])\n",
    "sns.stripplot(x='TAG', y='INSP', data = df_cp, ax = ax[3,1])\n",
    "plt.show()"
   ]
  },
  {
   "cell_type": "markdown",
   "id": "63edf5ec",
   "metadata": {
    "id": "7ODs1Ak1osai"
   },
   "source": [
    "#### 상관관계 Plot\n",
    "- 용해 온도와 교반 속도, 수분 함유량간의 양의 상관관계가 높음 \n",
    "(수분 함유량의 경우 숫자로 되어있는 category)"
   ]
  },
  {
   "cell_type": "code",
   "execution_count": 5,
   "id": "27b0e3cd",
   "metadata": {
    "colab": {
     "base_uri": "https://localhost:8080/",
     "height": 596
    },
    "id": "6eXyYKkJmzBg",
    "outputId": "4ced30a7-ac4b-49d4-fd77-1433410d5abf"
   },
   "outputs": [
    {
     "data": {
      "image/png": "[encoded data removed]",
      "text/plain": [
       "<Figure size 1440x720 with 2 Axes>"
      ]
     },
     "metadata": {
      "needs_background": "light"
     },
     "output_type": "display_data"
    }
   ],
   "source": [
    "plt.figure(figsize=(20,10))\n",
    "sns.heatmap(df_cp.iloc[:,:-1].corr(), annot=True, cmap=\"YlGnBu\")\n",
    "plt.show()"
   ]
  },
  {
   "cell_type": "markdown",
   "id": "9814a7ca",
   "metadata": {},
   "source": [
    "#### 불량이 발생한 시점 범위 확인 해보기 \n",
    "\n",
    "- 참고사항: 하루에 발생하는 데이터 건수(14,400)\n",
    "\n",
    "- 날짜별: 3월 17일 ~ 4월 14일 범위\n",
    "- 시간별"
   ]
  },
  {
   "cell_type": "code",
   "execution_count": 13,
   "id": "cd1fabcf",
   "metadata": {},
   "outputs": [],
   "source": [
    "not_ok = df_static[df_static['TAG'] == 1].reset_index()\n",
    "\n",
    "# 날짜만 추출(어느날 분포)\n",
    "not_ok['day'] = not_ok['STD_DT'].dt.date"
   ]
  },
  {
   "cell_type": "code",
   "execution_count": 19,
   "id": "e721dfcb",
   "metadata": {},
   "outputs": [
    {
     "data": {
      "text/html": [
       "<div>\n",
       "<style scoped>\n",
       "    .dataframe tbody tr th:only-of-type {\n",
       "        vertical-align: middle;\n",
       "    }\n",
       "\n",
       "    .dataframe tbody tr th {\n",
       "        vertical-align: top;\n",
       "    }\n",
       "\n",
       "    .dataframe thead th {\n",
       "        text-align: right;\n",
       "    }\n",
       "</style>\n",
       "<table border=\"1\" class=\"dataframe\">\n",
       "  <thead>\n",
       "    <tr style=\"text-align: right;\">\n",
       "      <th></th>\n",
       "      <th>STD_DT</th>\n",
       "      <th>NUM</th>\n",
       "      <th>MELT_TEMP</th>\n",
       "      <th>MOTORSPEED</th>\n",
       "      <th>MELT_WEIGHT</th>\n",
       "      <th>INSP</th>\n",
       "      <th>TAG</th>\n",
       "    </tr>\n",
       "  </thead>\n",
       "  <tbody>\n",
       "    <tr>\n",
       "      <th>0</th>\n",
       "      <td>2020-03-04 0:00</td>\n",
       "      <td>00</td>\n",
       "      <td>489</td>\n",
       "      <td>116</td>\n",
       "      <td>631</td>\n",
       "      <td>3.19</td>\n",
       "      <td>OK</td>\n",
       "    </tr>\n",
       "    <tr>\n",
       "      <th>1</th>\n",
       "      <td>2020-03-04 0:00</td>\n",
       "      <td>06</td>\n",
       "      <td>433</td>\n",
       "      <td>78</td>\n",
       "      <td>609</td>\n",
       "      <td>3.19</td>\n",
       "      <td>OK</td>\n",
       "    </tr>\n",
       "    <tr>\n",
       "      <th>2</th>\n",
       "      <td>2020-03-04 0:00</td>\n",
       "      <td>12</td>\n",
       "      <td>464</td>\n",
       "      <td>154</td>\n",
       "      <td>608</td>\n",
       "      <td>3.19</td>\n",
       "      <td>OK</td>\n",
       "    </tr>\n",
       "    <tr>\n",
       "      <th>3</th>\n",
       "      <td>2020-03-04 0:00</td>\n",
       "      <td>18</td>\n",
       "      <td>379</td>\n",
       "      <td>212</td>\n",
       "      <td>606</td>\n",
       "      <td>3.19</td>\n",
       "      <td>OK</td>\n",
       "    </tr>\n",
       "    <tr>\n",
       "      <th>4</th>\n",
       "      <td>2020-03-04 0:00</td>\n",
       "      <td>24</td>\n",
       "      <td>798</td>\n",
       "      <td>1736</td>\n",
       "      <td>604</td>\n",
       "      <td>3.21</td>\n",
       "      <td>OK</td>\n",
       "    </tr>\n",
       "    <tr>\n",
       "      <th>...</th>\n",
       "      <td>...</td>\n",
       "      <td>...</td>\n",
       "      <td>...</td>\n",
       "      <td>...</td>\n",
       "      <td>...</td>\n",
       "      <td>...</td>\n",
       "      <td>...</td>\n",
       "    </tr>\n",
       "    <tr>\n",
       "      <th>835195</th>\n",
       "      <td>2020-04-30 23:59</td>\n",
       "      <td>30</td>\n",
       "      <td>755</td>\n",
       "      <td>1743</td>\n",
       "      <td>318</td>\n",
       "      <td>3.21</td>\n",
       "      <td>OK</td>\n",
       "    </tr>\n",
       "    <tr>\n",
       "      <th>835196</th>\n",
       "      <td>2020-04-30 23:59</td>\n",
       "      <td>36</td>\n",
       "      <td>385</td>\n",
       "      <td>206</td>\n",
       "      <td>317</td>\n",
       "      <td>3.19</td>\n",
       "      <td>OK</td>\n",
       "    </tr>\n",
       "    <tr>\n",
       "      <th>835197</th>\n",
       "      <td>2020-04-30 23:59</td>\n",
       "      <td>42</td>\n",
       "      <td>465</td>\n",
       "      <td>148</td>\n",
       "      <td>316</td>\n",
       "      <td>3.20</td>\n",
       "      <td>OK</td>\n",
       "    </tr>\n",
       "    <tr>\n",
       "      <th>835198</th>\n",
       "      <td>2020-04-30 23:59</td>\n",
       "      <td>48</td>\n",
       "      <td>467</td>\n",
       "      <td>0</td>\n",
       "      <td>314</td>\n",
       "      <td>3.19</td>\n",
       "      <td>OK</td>\n",
       "    </tr>\n",
       "    <tr>\n",
       "      <th>835199</th>\n",
       "      <td>2020-04-30 23:59</td>\n",
       "      <td>54</td>\n",
       "      <td>453</td>\n",
       "      <td>125</td>\n",
       "      <td>312</td>\n",
       "      <td>3.20</td>\n",
       "      <td>OK</td>\n",
       "    </tr>\n",
       "  </tbody>\n",
       "</table>\n",
       "<p>835200 rows × 7 columns</p>\n",
       "</div>"
      ],
      "text/plain": [
       "                  STD_DT NUM  MELT_TEMP  MOTORSPEED  MELT_WEIGHT  INSP TAG\n",
       "0        2020-03-04 0:00  00        489         116          631  3.19  OK\n",
       "1        2020-03-04 0:00  06        433          78          609  3.19  OK\n",
       "2        2020-03-04 0:00  12        464         154          608  3.19  OK\n",
       "3        2020-03-04 0:00  18        379         212          606  3.19  OK\n",
       "4        2020-03-04 0:00  24        798        1736          604  3.21  OK\n",
       "...                  ...  ..        ...         ...          ...   ...  ..\n",
       "835195  2020-04-30 23:59  30        755        1743          318  3.21  OK\n",
       "835196  2020-04-30 23:59  36        385         206          317  3.19  OK\n",
       "835197  2020-04-30 23:59  42        465         148          316  3.20  OK\n",
       "835198  2020-04-30 23:59  48        467           0          314  3.19  OK\n",
       "835199  2020-04-30 23:59  54        453         125          312  3.20  OK\n",
       "\n",
       "[835200 rows x 7 columns]"
      ]
     },
     "execution_count": 19,
     "metadata": {},
     "output_type": "execute_result"
    }
   ],
   "source": [
    "df"
   ]
  },
  {
   "cell_type": "code",
   "execution_count": 15,
   "id": "630e043d",
   "metadata": {},
   "outputs": [
    {
     "data": {
      "text/plain": [
       "2020-03-29    11520\n",
       "2020-03-27    11520\n",
       "2020-03-28    11520\n",
       "2020-03-30    11520\n",
       "2020-03-26    11519\n",
       "2020-03-31     7964\n",
       "2020-03-25     7737\n",
       "2020-03-23     6609\n",
       "2020-03-21     6587\n",
       "2020-03-24     6556\n",
       "2020-03-22     6547\n",
       "2020-04-04     6516\n",
       "2020-03-20     6314\n",
       "2020-04-03     6230\n",
       "2020-04-01     6195\n",
       "2020-04-05     6180\n",
       "2020-04-02     6076\n",
       "2020-04-12     4219\n",
       "2020-04-11     4201\n",
       "2020-04-06     3938\n",
       "2020-03-19     3906\n",
       "2020-04-10     3744\n",
       "2020-04-13     3531\n",
       "2020-04-07     3344\n",
       "2020-04-09     3306\n",
       "2020-04-08     3050\n",
       "2020-03-18     2792\n",
       "2020-03-17     2310\n",
       "2020-04-14     1616\n",
       "Name: day, dtype: int64"
      ]
     },
     "execution_count": 15,
     "metadata": {},
     "output_type": "execute_result"
    }
   ],
   "source": [
    "not_ok['day'].value_counts()"
   ]
  },
  {
   "cell_type": "markdown",
   "id": "1fb57295",
   "metadata": {
    "id": "9mGYY5fColS4"
   },
   "source": [
    "#### 불량 발생 전후의 변화량 확인"
   ]
  },
  {
   "cell_type": "code",
   "execution_count": null,
   "id": "ab73ffd9",
   "metadata": {},
   "outputs": [],
   "source": []
  },
  {
   "cell_type": "markdown",
   "id": "2beae637",
   "metadata": {
    "id": "NZFQW7RItguB"
   },
   "source": [
    "#### GLS 적용: 해당 부분 넘어가기\n",
    "\n",
    "- 결과: 적용 실패(잔차 간의 행렬 구할 때 너무 값이 커져서 RAM이 터짐(이런)"
   ]
  },
  {
   "cell_type": "code",
   "execution_count": 7,
   "id": "97073de5",
   "metadata": {
    "id": "aKv7hk2Ltn9W"
   },
   "outputs": [],
   "source": [
    "import statsmodels.api as sm\n",
    "import statsmodels.formula.api as smf\n",
    "from statsmodels.stats.outliers_influence import OLSInfluence\n",
    "from scipy.stats import t"
   ]
  },
  {
   "cell_type": "code",
   "execution_count": 10,
   "id": "8b3a62aa",
   "metadata": {
    "colab": {
     "base_uri": "https://localhost:8080/"
    },
    "id": "dd-ZJeRdtgq-",
    "outputId": "03949bed-4b6b-4c5f-faf0-1378c1027b33"
   },
   "outputs": [],
   "source": [
    "df_static = df_cp.copy()\n",
    "df_static['TAG'] = df_static['TAG'].agg(lambda x: 1 if x =='NG' else 0) \n",
    "\n",
    "feature_name = list(df_static.columns[:-1])\n",
    "# 잔차 추가(augementation): 범주형 독립변수가 있으면 상수항은 포함시키지 않는다.\n",
    "# value = sm.add_constant(value)\n",
    "\n",
    "df_static = df_static.reset_index()"
   ]
  },
  {
   "cell_type": "code",
   "execution_count": 16,
   "id": "165e1786",
   "metadata": {},
   "outputs": [],
   "source": [
    "df_filered = df_static[df_static['STD_DT'].between('2020-03-16', '2020-03-18')]"
   ]
  },
  {
   "cell_type": "code",
   "execution_count": 17,
   "id": "f932bda4",
   "metadata": {
    "id": "_SH4MyA2uOtg"
   },
   "outputs": [
    {
     "name": "stdout",
     "output_type": "stream",
     "text": [
      "                                 OLS Regression Results                                \n",
      "=======================================================================================\n",
      "Dep. Variable:                      y   R-squared (uncentered):                   0.000\n",
      "Model:                            OLS   Adj. R-squared (uncentered):             -0.000\n",
      "Method:                 Least Squares   F-statistic:                             0.8762\n",
      "Date:                Thu, 27 Oct 2022   Prob (F-statistic):                       0.349\n",
      "Time:                        23:47:38   Log-Likelihood:                          1530.0\n",
      "No. Observations:               28800   AIC:                                     -3058.\n",
      "Df Residuals:                   28799   BIC:                                     -3050.\n",
      "Df Model:                           1                                                  \n",
      "Covariance Type:            nonrobust                                                  \n",
      "==============================================================================\n",
      "                 coef    std err          t      P>|t|      [0.025      0.975]\n",
      "------------------------------------------------------------------------------\n",
      "x1            -0.0055      0.006     -0.936      0.349      -0.017       0.006\n",
      "==============================================================================\n",
      "Omnibus:                     8232.053   Durbin-Watson:                   2.000\n",
      "Prob(Omnibus):                  0.000   Jarque-Bera (JB):            23562.856\n",
      "Skew:                           1.509   Prob(JB):                         0.00\n",
      "Kurtosis:                       6.244   Cond. No.                         1.00\n",
      "==============================================================================\n",
      "\n",
      "Notes:\n",
      "[1] R² is computed without centering (uncentered) since the model does not contain a constant.\n",
      "[2] Standard Errors assume that the covariance matrix of the errors is correctly specified.\n",
      "--------------------------------------------------------------\n",
      "잔차 간의 Corrleation(T 분포): -0.9360743838759579\n",
      "잔차 간의 Corrleation(pvalue): 0.3492427401498638\n",
      "                            GLS Regression Results                            \n",
      "==============================================================================\n",
      "Dep. Variable:                    TAG   R-squared:                       0.292\n",
      "Model:                            GLS   Adj. R-squared:                  0.292\n",
      "Method:                 Least Squares   F-statistic:                     2966.\n",
      "Date:                Thu, 27 Oct 2022   Prob (F-statistic):               0.00\n",
      "Time:                        23:57:30   Log-Likelihood:                 1653.1\n",
      "No. Observations:               28801   AIC:                            -3296.\n",
      "Df Residuals:                   28796   BIC:                            -3255.\n",
      "Df Model:                           4                                         \n",
      "Covariance Type:            nonrobust                                         \n",
      "===============================================================================\n",
      "                  coef    std err          t      P>|t|      [0.025      0.975]\n",
      "-------------------------------------------------------------------------------\n",
      "Intercept      14.3145      0.912     15.691      0.000      12.526      16.103\n",
      "MELT_TEMP      -0.0312      0.000    -83.521      0.000      -0.032      -0.030\n",
      "MOTORSPEED      0.0061   6.52e-05     93.179      0.000       0.006       0.006\n",
      "MELT_WEIGHT  3.326e-06    1.9e-06      1.754      0.079    -3.9e-07    7.04e-06\n",
      "INSP           -4.0462      0.289    -14.015      0.000      -4.612      -3.480\n",
      "==============================================================================\n",
      "Omnibus:                     7985.996   Durbin-Watson:                   1.997\n",
      "Prob(Omnibus):                  0.000   Jarque-Bera (JB):            22644.206\n",
      "Skew:                           1.466   Prob(JB):                         0.00\n",
      "Kurtosis:                       6.205   Cond. No.                     5.73e+05\n",
      "==============================================================================\n",
      "\n",
      "Notes:\n",
      "[1] Standard Errors assume that the covariance matrix of the errors is correctly specified.\n",
      "[2] The condition number is large, 5.73e+05. This might indicate that there are\n",
      "strong multicollinearity or other numerical problems.\n"
     ]
    }
   ],
   "source": [
    "# OLS 회귀 적용(이유: 시계열 가중치 얻기 위함)\n",
    "model = sm.OLS.from_formula(\"TAG ~ 0 + \" + \"+\".join(feature_name), data = df_filered).fit()\n",
    "\n",
    "# 모델의 잔차 구함\n",
    "ols_resid = model.resid\n",
    "\n",
    "# 잔차 간의 시계열(일로 +1, -1)간의 회귀  \n",
    "res_fit = sm.OLS(list(ols_resid[1:]), list(ols_resid[:-1])).fit()\n",
    "\n",
    "# OLS 잔차 간의 상관계수의 계수(일관된 추정치 값)\n",
    "rho = res_fit.params\n",
    "\n",
    "print(res_fit.summary())\n",
    "\n",
    "# 잔차 간의 상관계수 확인: 매우 높음\n",
    "print(\"--------------------------------------------------------------\")\n",
    "print(\"잔차 간의 Corrleation(T 분포): \" + str(res_fit.tvalues[0]))\n",
    "print(\"잔차 간의 Corrleation(pvalue): \" + str(res_fit.pvalues[0]))\n",
    "\n",
    "from scipy.linalg import toeplitz #  퇴플리츠 행렬 modlue\n",
    "\n",
    "# 시계열 길이 맞춘 퇴플리츠 행렬 생성 후 시걔열 간의 잔차 간의 상관정도를 행렬 만듦\n",
    "order = toeplitz(np.arange(len(ols_resid)))\n",
    "sigma = rho**order # 오차 공분산 구조가 실제로 자기 상관 구조를 정의\n",
    "\n",
    "# GLS 적용 \n",
    "gls_model = sm.GLS.from_formula(\"TAG ~ \" + \"+\".join(feature_name), data = df_filered, sigma = sigma)\n",
    "gls_results = gls_model.fit()\n",
    "print(gls_results.summary())"
   ]
  },
  {
   "cell_type": "code",
   "execution_count": null,
   "id": "4647d0e4",
   "metadata": {},
   "outputs": [],
   "source": []
  }
 ],
 "metadata": {
  "colab": {
   "collapsed_sections": [],
   "machine_shape": "hm",
   "provenance": []
  },
  "kernelspec": {
   "display_name": "Python 3 (ipykernel)",
   "language": "python",
   "name": "python3"
  },
  "language_info": {
   "codemirror_mode": {
    "name": "ipython",
    "version": 3
   },
   "file_extension": ".py",
   "mimetype": "text/x-python",
   "name": "python",
   "nbconvert_exporter": "python",
   "pygments_lexer": "ipython3",
   "version": "3.9.12"
  }
 },
 "nbformat": 4,
 "nbformat_minor": 5
}
