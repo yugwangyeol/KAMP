{
 "cells": [
  {
   "cell_type": "markdown",
   "metadata": {},
   "source": [
    "# Import"
   ]
  },
  {
   "cell_type": "code",
   "execution_count": 62,
   "metadata": {
    "id": "L3ys3Ai4esCL"
   },
   "outputs": [],
   "source": [
    "import os\n",
    "import pandas as pd\n",
    "import numpy as np\n",
    "import matplotlib.pyplot as plt\n",
    "import seaborn as sns\n",
    "\n",
    "%matplotlib inline"
   ]
  },
  {
   "cell_type": "code",
   "execution_count": 63,
   "metadata": {
    "id": "vYvcK8onfODK"
   },
   "outputs": [
    {
     "name": "stdout",
     "output_type": "stream",
     "text": [
      "WARNING:tensorflow:From C:\\ProgramData\\Anaconda3\\lib\\site-packages\\tensorflow\\python\\compat\\v2_compat.py:107: disable_resource_variables (from tensorflow.python.ops.variable_scope) is deprecated and will be removed in a future version.\n",
      "Instructions for updating:\n",
      "non-resource variables are not supported in the long term\n"
     ]
    }
   ],
   "source": [
    "from datetime import datetime, timedelta, date\n",
    "from sklearn.preprocessing import  MinMaxScaler\n",
    "from sklearn.metrics import confusion_matrix, precision_score, recall_score, f1_score, accuracy_score\n",
    "from sklearn import preprocessing\n",
    "import plotly.graph_objects as go\n",
    "import tensorflow as tf\n",
    "tf.compat.v1.disable_v2_behavior() \n",
    "\n",
    "# pandas max row \n",
    "pd.options.display.max_rows = 1000\n",
    "pd.options.display.max_columns = 1000"
   ]
  },
  {
   "cell_type": "code",
   "execution_count": 64,
   "metadata": {
    "id": "l69EJylYfOob"
   },
   "outputs": [],
   "source": [
    "#from imblearn.over_sampling import SMOTE \n",
    "from sklearn.model_selection import train_test_split\n",
    "#from keras.models import Sequential\n",
    "#from keras.layers import Dense, LSTM\n",
    "#from keras.preprocessing import sequence\n",
    "#from keras.utils import np_utils\n",
    "#from keras.callbacks import EarlyStopping, ModelCheckpoint"
   ]
  },
  {
   "cell_type": "code",
   "execution_count": 65,
   "metadata": {
    "id": "SiVkGVjLLJrE"
   },
   "outputs": [],
   "source": [
    "import matplotlib.pyplot as plt\n",
    "import seaborn as sns\n",
    "from tensorflow.keras.layers import Dense,RepeatVector, LSTM, Dropout\n",
    "from tensorflow.keras.layers import Flatten, Conv1D, MaxPooling1D\n",
    "from tensorflow.keras.layers import Bidirectional, Dropout\n",
    "from tensorflow.keras.models import Sequential\n",
    "from tensorflow.keras.utils import plot_model\n",
    "from tensorflow.keras.optimizers import Adam\n",
    "from tensorflow.keras.callbacks import EarlyStopping, ModelCheckpoint\n",
    "tf.compat.v1.disable_v2_behavior() "
   ]
  },
  {
   "cell_type": "markdown",
   "metadata": {
    "id": "XvH2lz6JRE6g"
   },
   "source": [
    "정상 불량 balanced"
   ]
  },
  {
   "cell_type": "markdown",
   "metadata": {},
   "source": [
    "# Data Load"
   ]
  },
  {
   "cell_type": "code",
   "execution_count": 66,
   "metadata": {
    "id": "9P7nz8S3WKaT"
   },
   "outputs": [],
   "source": [
    "df = pd.read_csv('../Data/df_preprocessing.csv', encoding='cp949')"
   ]
  },
  {
   "cell_type": "code",
   "execution_count": 67,
   "metadata": {
    "colab": {
     "base_uri": "https://localhost:8080/",
     "height": 143
    },
    "id": "S69D_22XSuUc",
    "outputId": "30791330-64d6-47fb-f51a-6256ebb56bb8"
   },
   "outputs": [
    {
     "data": {
      "text/html": [
       "<div>\n",
       "<style scoped>\n",
       "    .dataframe tbody tr th:only-of-type {\n",
       "        vertical-align: middle;\n",
       "    }\n",
       "\n",
       "    .dataframe tbody tr th {\n",
       "        vertical-align: top;\n",
       "    }\n",
       "\n",
       "    .dataframe thead th {\n",
       "        text-align: right;\n",
       "    }\n",
       "</style>\n",
       "<table border=\"1\" class=\"dataframe\">\n",
       "  <thead>\n",
       "    <tr style=\"text-align: right;\">\n",
       "      <th></th>\n",
       "      <th>STD_DT</th>\n",
       "      <th>NUM</th>\n",
       "      <th>MELT_TEMP</th>\n",
       "      <th>MOTORSPEED</th>\n",
       "      <th>MELT_WEIGHT</th>\n",
       "      <th>INSP</th>\n",
       "      <th>Measurement_error</th>\n",
       "      <th>MW_Period_Second</th>\n",
       "      <th>TAG</th>\n",
       "    </tr>\n",
       "  </thead>\n",
       "  <tbody>\n",
       "    <tr>\n",
       "      <th>0</th>\n",
       "      <td>2020-03-04 00:00:00</td>\n",
       "      <td>0</td>\n",
       "      <td>48.9</td>\n",
       "      <td>11.6</td>\n",
       "      <td>631.0</td>\n",
       "      <td>3.19</td>\n",
       "      <td>0</td>\n",
       "      <td>912</td>\n",
       "      <td>0</td>\n",
       "    </tr>\n",
       "    <tr>\n",
       "      <th>1</th>\n",
       "      <td>2020-03-04 00:00:06</td>\n",
       "      <td>1</td>\n",
       "      <td>43.3</td>\n",
       "      <td>7.8</td>\n",
       "      <td>609.0</td>\n",
       "      <td>3.19</td>\n",
       "      <td>0</td>\n",
       "      <td>912</td>\n",
       "      <td>0</td>\n",
       "    </tr>\n",
       "    <tr>\n",
       "      <th>2</th>\n",
       "      <td>2020-03-04 00:00:12</td>\n",
       "      <td>2</td>\n",
       "      <td>46.4</td>\n",
       "      <td>15.4</td>\n",
       "      <td>608.0</td>\n",
       "      <td>3.19</td>\n",
       "      <td>0</td>\n",
       "      <td>912</td>\n",
       "      <td>0</td>\n",
       "    </tr>\n",
       "  </tbody>\n",
       "</table>\n",
       "</div>"
      ],
      "text/plain": [
       "                STD_DT  NUM  MELT_TEMP  MOTORSPEED  MELT_WEIGHT  INSP  \\\n",
       "0  2020-03-04 00:00:00    0       48.9        11.6        631.0  3.19   \n",
       "1  2020-03-04 00:00:06    1       43.3         7.8        609.0  3.19   \n",
       "2  2020-03-04 00:00:12    2       46.4        15.4        608.0  3.19   \n",
       "\n",
       "   Measurement_error  MW_Period_Second  TAG  \n",
       "0                  0               912    0  \n",
       "1                  0               912    0  \n",
       "2                  0               912    0  "
      ]
     },
     "execution_count": 67,
     "metadata": {},
     "output_type": "execute_result"
    }
   ],
   "source": [
    "df.head(3)"
   ]
  },
  {
   "cell_type": "code",
   "execution_count": 68,
   "metadata": {
    "id": "z5DH-a4TRzJZ"
   },
   "outputs": [],
   "source": [
    "df = df.set_index(['STD_DT'])"
   ]
  },
  {
   "cell_type": "code",
   "execution_count": 69,
   "metadata": {
    "id": "m3Y1JVWwR7V5"
   },
   "outputs": [],
   "source": [
    "df.index = pd.to_datetime(df.index, format='%Y-%m-%d %H:%M:%S')"
   ]
  },
  {
   "cell_type": "code",
   "execution_count": 70,
   "metadata": {
    "colab": {
     "base_uri": "https://localhost:8080/",
     "height": 175
    },
    "id": "0WKvZeejWUkL",
    "outputId": "c7252bdf-e8b0-406f-81b0-f1ba09ae0bba"
   },
   "outputs": [
    {
     "data": {
      "text/html": [
       "<div>\n",
       "<style scoped>\n",
       "    .dataframe tbody tr th:only-of-type {\n",
       "        vertical-align: middle;\n",
       "    }\n",
       "\n",
       "    .dataframe tbody tr th {\n",
       "        vertical-align: top;\n",
       "    }\n",
       "\n",
       "    .dataframe thead th {\n",
       "        text-align: right;\n",
       "    }\n",
       "</style>\n",
       "<table border=\"1\" class=\"dataframe\">\n",
       "  <thead>\n",
       "    <tr style=\"text-align: right;\">\n",
       "      <th></th>\n",
       "      <th>NUM</th>\n",
       "      <th>MELT_TEMP</th>\n",
       "      <th>MOTORSPEED</th>\n",
       "      <th>MELT_WEIGHT</th>\n",
       "      <th>INSP</th>\n",
       "      <th>Measurement_error</th>\n",
       "      <th>MW_Period_Second</th>\n",
       "      <th>TAG</th>\n",
       "    </tr>\n",
       "    <tr>\n",
       "      <th>STD_DT</th>\n",
       "      <th></th>\n",
       "      <th></th>\n",
       "      <th></th>\n",
       "      <th></th>\n",
       "      <th></th>\n",
       "      <th></th>\n",
       "      <th></th>\n",
       "      <th></th>\n",
       "    </tr>\n",
       "  </thead>\n",
       "  <tbody>\n",
       "    <tr>\n",
       "      <th>2020-03-04 00:00:00</th>\n",
       "      <td>0</td>\n",
       "      <td>48.9</td>\n",
       "      <td>11.6</td>\n",
       "      <td>631.0</td>\n",
       "      <td>3.19</td>\n",
       "      <td>0</td>\n",
       "      <td>912</td>\n",
       "      <td>0</td>\n",
       "    </tr>\n",
       "    <tr>\n",
       "      <th>2020-03-04 00:00:06</th>\n",
       "      <td>1</td>\n",
       "      <td>43.3</td>\n",
       "      <td>7.8</td>\n",
       "      <td>609.0</td>\n",
       "      <td>3.19</td>\n",
       "      <td>0</td>\n",
       "      <td>912</td>\n",
       "      <td>0</td>\n",
       "    </tr>\n",
       "    <tr>\n",
       "      <th>2020-03-04 00:00:12</th>\n",
       "      <td>2</td>\n",
       "      <td>46.4</td>\n",
       "      <td>15.4</td>\n",
       "      <td>608.0</td>\n",
       "      <td>3.19</td>\n",
       "      <td>0</td>\n",
       "      <td>912</td>\n",
       "      <td>0</td>\n",
       "    </tr>\n",
       "  </tbody>\n",
       "</table>\n",
       "</div>"
      ],
      "text/plain": [
       "                     NUM  MELT_TEMP  MOTORSPEED  MELT_WEIGHT  INSP  \\\n",
       "STD_DT                                                               \n",
       "2020-03-04 00:00:00    0       48.9        11.6        631.0  3.19   \n",
       "2020-03-04 00:00:06    1       43.3         7.8        609.0  3.19   \n",
       "2020-03-04 00:00:12    2       46.4        15.4        608.0  3.19   \n",
       "\n",
       "                     Measurement_error  MW_Period_Second  TAG  \n",
       "STD_DT                                                         \n",
       "2020-03-04 00:00:00                  0               912    0  \n",
       "2020-03-04 00:00:06                  0               912    0  \n",
       "2020-03-04 00:00:12                  0               912    0  "
      ]
     },
     "execution_count": 70,
     "metadata": {},
     "output_type": "execute_result"
    }
   ],
   "source": [
    "df.head(3)"
   ]
  },
  {
   "cell_type": "code",
   "execution_count": 71,
   "metadata": {
    "colab": {
     "base_uri": "https://localhost:8080/"
    },
    "id": "kNt8P31B0pHR",
    "outputId": "6b511563-90e4-4492-eee2-d6cad9c41763"
   },
   "outputs": [
    {
     "data": {
      "text/plain": [
       "584640.0"
      ]
     },
     "execution_count": 71,
     "metadata": {},
     "output_type": "execute_result"
    }
   ],
   "source": [
    "df.shape[0] * 0.7"
   ]
  },
  {
   "cell_type": "code",
   "execution_count": 72,
   "metadata": {
    "colab": {
     "base_uri": "https://localhost:8080/"
    },
    "id": "UesVO2K01Cq5",
    "outputId": "31c83257-e1a0-4d3b-9220-0e5b3d96e18f"
   },
   "outputs": [
    {
     "data": {
      "text/plain": [
       "Timestamp('2020-04-13 14:24:00')"
      ]
     },
     "execution_count": 72,
     "metadata": {},
     "output_type": "execute_result"
    }
   ],
   "source": [
    "df.index[584640]"
   ]
  },
  {
   "cell_type": "code",
   "execution_count": 73,
   "metadata": {
    "colab": {
     "base_uri": "https://localhost:8080/",
     "height": 231
    },
    "id": "0x4BGa1J1woW",
    "outputId": "9cfbe668-6159-4549-e2e6-51cdb9ca7892"
   },
   "outputs": [
    {
     "name": "stderr",
     "output_type": "stream",
     "text": [
      "C:\\Users\\pc\\AppData\\Local\\Temp\\ipykernel_27604\\524142599.py:1: FutureWarning: Indexing a DataFrame with a datetimelike index using a single string to slice the rows, like `frame[string]`, is deprecated and will be removed in a future version. Use `frame.loc[string]` instead.\n",
      "  df['2020-04-13'].tail(3)\n"
     ]
    },
    {
     "data": {
      "text/html": [
       "<div>\n",
       "<style scoped>\n",
       "    .dataframe tbody tr th:only-of-type {\n",
       "        vertical-align: middle;\n",
       "    }\n",
       "\n",
       "    .dataframe tbody tr th {\n",
       "        vertical-align: top;\n",
       "    }\n",
       "\n",
       "    .dataframe thead th {\n",
       "        text-align: right;\n",
       "    }\n",
       "</style>\n",
       "<table border=\"1\" class=\"dataframe\">\n",
       "  <thead>\n",
       "    <tr style=\"text-align: right;\">\n",
       "      <th></th>\n",
       "      <th>NUM</th>\n",
       "      <th>MELT_TEMP</th>\n",
       "      <th>MOTORSPEED</th>\n",
       "      <th>MELT_WEIGHT</th>\n",
       "      <th>INSP</th>\n",
       "      <th>Measurement_error</th>\n",
       "      <th>MW_Period_Second</th>\n",
       "      <th>TAG</th>\n",
       "    </tr>\n",
       "    <tr>\n",
       "      <th>STD_DT</th>\n",
       "      <th></th>\n",
       "      <th></th>\n",
       "      <th></th>\n",
       "      <th></th>\n",
       "      <th></th>\n",
       "      <th></th>\n",
       "      <th></th>\n",
       "      <th></th>\n",
       "    </tr>\n",
       "  </thead>\n",
       "  <tbody>\n",
       "    <tr>\n",
       "      <th>2020-04-13 23:59:42</th>\n",
       "      <td>590397</td>\n",
       "      <td>49.1</td>\n",
       "      <td>16.0</td>\n",
       "      <td>208.0</td>\n",
       "      <td>3.19</td>\n",
       "      <td>0</td>\n",
       "      <td>3156</td>\n",
       "      <td>0</td>\n",
       "    </tr>\n",
       "    <tr>\n",
       "      <th>2020-04-13 23:59:48</th>\n",
       "      <td>590398</td>\n",
       "      <td>48.3</td>\n",
       "      <td>9.0</td>\n",
       "      <td>205.0</td>\n",
       "      <td>3.19</td>\n",
       "      <td>0</td>\n",
       "      <td>3156</td>\n",
       "      <td>0</td>\n",
       "    </tr>\n",
       "    <tr>\n",
       "      <th>2020-04-13 23:59:54</th>\n",
       "      <td>590399</td>\n",
       "      <td>48.4</td>\n",
       "      <td>12.2</td>\n",
       "      <td>203.0</td>\n",
       "      <td>3.19</td>\n",
       "      <td>0</td>\n",
       "      <td>3156</td>\n",
       "      <td>0</td>\n",
       "    </tr>\n",
       "  </tbody>\n",
       "</table>\n",
       "</div>"
      ],
      "text/plain": [
       "                        NUM  MELT_TEMP  MOTORSPEED  MELT_WEIGHT  INSP  \\\n",
       "STD_DT                                                                  \n",
       "2020-04-13 23:59:42  590397       49.1        16.0        208.0  3.19   \n",
       "2020-04-13 23:59:48  590398       48.3         9.0        205.0  3.19   \n",
       "2020-04-13 23:59:54  590399       48.4        12.2        203.0  3.19   \n",
       "\n",
       "                     Measurement_error  MW_Period_Second  TAG  \n",
       "STD_DT                                                         \n",
       "2020-04-13 23:59:42                  0              3156    0  \n",
       "2020-04-13 23:59:48                  0              3156    0  \n",
       "2020-04-13 23:59:54                  0              3156    0  "
      ]
     },
     "execution_count": 73,
     "metadata": {},
     "output_type": "execute_result"
    }
   ],
   "source": [
    "df['2020-04-13'].tail(3)"
   ]
  },
  {
   "cell_type": "code",
   "execution_count": 74,
   "metadata": {
    "colab": {
     "base_uri": "https://localhost:8080/"
    },
    "id": "xavoVyxI1ISJ",
    "outputId": "c1031bdd-0fe4-4735-c0f2-c6bd8b29737b"
   },
   "outputs": [
    {
     "data": {
      "text/plain": [
       "(590400, 8)"
      ]
     },
     "execution_count": 74,
     "metadata": {},
     "output_type": "execute_result"
    }
   ],
   "source": [
    "df[:'2020-04-13 23:59:54'].shape"
   ]
  },
  {
   "cell_type": "code",
   "execution_count": 80,
   "metadata": {
    "id": "1378mHZcHYqt"
   },
   "outputs": [],
   "source": [
    "df_train = df_train.drop(columns = ['NUM'])\n",
    "df_test = df_test.drop(columns = ['NUM'])"
   ]
  },
  {
   "cell_type": "code",
   "execution_count": 81,
   "metadata": {
    "id": "I6rdqOQsWYpV"
   },
   "outputs": [],
   "source": [
    "train = df_train.copy()\n",
    "test = df_test.copy()"
   ]
  },
  {
   "cell_type": "code",
   "execution_count": 82,
   "metadata": {
    "colab": {
     "base_uri": "https://localhost:8080/"
    },
    "id": "9F66uKVkWaEL",
    "outputId": "318b7f04-34ce-4983-b610-6685694432d4"
   },
   "outputs": [
    {
     "name": "stdout",
     "output_type": "stream",
     "text": [
      "(403200, 7)\n",
      "(432000, 7)\n"
     ]
    }
   ],
   "source": [
    "print(train.shape)\n",
    "print(test.shape)"
   ]
  },
  {
   "cell_type": "code",
   "execution_count": 83,
   "metadata": {
    "id": "5k0P4i0QCErJ"
   },
   "outputs": [],
   "source": [
    "feature_cols = ['MELT_TEMP', 'MOTORSPEED', 'MELT_WEIGHT', 'INSP', 'Measurement_error', 'MW_Period_Second']\n",
    "label_cols = ['TAG']"
   ]
  },
  {
   "cell_type": "code",
   "execution_count": 84,
   "metadata": {
    "id": "7un0yFLjGIVz"
   },
   "outputs": [],
   "source": [
    "X_train = train[feature_cols]\n",
    "y_train = train[label_cols]"
   ]
  },
  {
   "cell_type": "code",
   "execution_count": 85,
   "metadata": {
    "colab": {
     "base_uri": "https://localhost:8080/",
     "height": 175
    },
    "id": "ADML00gkH97a",
    "outputId": "f38a62e2-2c25-4150-a362-c674a749a178"
   },
   "outputs": [
    {
     "data": {
      "text/html": [
       "<div>\n",
       "<style scoped>\n",
       "    .dataframe tbody tr th:only-of-type {\n",
       "        vertical-align: middle;\n",
       "    }\n",
       "\n",
       "    .dataframe tbody tr th {\n",
       "        vertical-align: top;\n",
       "    }\n",
       "\n",
       "    .dataframe thead th {\n",
       "        text-align: right;\n",
       "    }\n",
       "</style>\n",
       "<table border=\"1\" class=\"dataframe\">\n",
       "  <thead>\n",
       "    <tr style=\"text-align: right;\">\n",
       "      <th></th>\n",
       "      <th>MELT_TEMP</th>\n",
       "      <th>MOTORSPEED</th>\n",
       "      <th>MELT_WEIGHT</th>\n",
       "      <th>INSP</th>\n",
       "      <th>Measurement_error</th>\n",
       "      <th>MW_Period_Second</th>\n",
       "    </tr>\n",
       "    <tr>\n",
       "      <th>STD_DT</th>\n",
       "      <th></th>\n",
       "      <th></th>\n",
       "      <th></th>\n",
       "      <th></th>\n",
       "      <th></th>\n",
       "      <th></th>\n",
       "    </tr>\n",
       "  </thead>\n",
       "  <tbody>\n",
       "    <tr>\n",
       "      <th>2020-03-04 00:00:00</th>\n",
       "      <td>48.9</td>\n",
       "      <td>11.6</td>\n",
       "      <td>631.0</td>\n",
       "      <td>3.19</td>\n",
       "      <td>0</td>\n",
       "      <td>912</td>\n",
       "    </tr>\n",
       "    <tr>\n",
       "      <th>2020-03-04 00:00:06</th>\n",
       "      <td>43.3</td>\n",
       "      <td>7.8</td>\n",
       "      <td>609.0</td>\n",
       "      <td>3.19</td>\n",
       "      <td>0</td>\n",
       "      <td>912</td>\n",
       "    </tr>\n",
       "    <tr>\n",
       "      <th>2020-03-04 00:00:12</th>\n",
       "      <td>46.4</td>\n",
       "      <td>15.4</td>\n",
       "      <td>608.0</td>\n",
       "      <td>3.19</td>\n",
       "      <td>0</td>\n",
       "      <td>912</td>\n",
       "    </tr>\n",
       "  </tbody>\n",
       "</table>\n",
       "</div>"
      ],
      "text/plain": [
       "                     MELT_TEMP  MOTORSPEED  MELT_WEIGHT  INSP  \\\n",
       "STD_DT                                                          \n",
       "2020-03-04 00:00:00       48.9        11.6        631.0  3.19   \n",
       "2020-03-04 00:00:06       43.3         7.8        609.0  3.19   \n",
       "2020-03-04 00:00:12       46.4        15.4        608.0  3.19   \n",
       "\n",
       "                     Measurement_error  MW_Period_Second  \n",
       "STD_DT                                                    \n",
       "2020-03-04 00:00:00                  0               912  \n",
       "2020-03-04 00:00:06                  0               912  \n",
       "2020-03-04 00:00:12                  0               912  "
      ]
     },
     "execution_count": 85,
     "metadata": {},
     "output_type": "execute_result"
    }
   ],
   "source": [
    "X_train.head(3)"
   ]
  },
  {
   "cell_type": "code",
   "execution_count": 86,
   "metadata": {
    "colab": {
     "base_uri": "https://localhost:8080/",
     "height": 175
    },
    "id": "wDD-vJOHH_IK",
    "outputId": "49ac3ee6-6bdd-4cb7-9f12-80538a32d9ad"
   },
   "outputs": [
    {
     "data": {
      "text/html": [
       "<div>\n",
       "<style scoped>\n",
       "    .dataframe tbody tr th:only-of-type {\n",
       "        vertical-align: middle;\n",
       "    }\n",
       "\n",
       "    .dataframe tbody tr th {\n",
       "        vertical-align: top;\n",
       "    }\n",
       "\n",
       "    .dataframe thead th {\n",
       "        text-align: right;\n",
       "    }\n",
       "</style>\n",
       "<table border=\"1\" class=\"dataframe\">\n",
       "  <thead>\n",
       "    <tr style=\"text-align: right;\">\n",
       "      <th></th>\n",
       "      <th>TAG</th>\n",
       "    </tr>\n",
       "    <tr>\n",
       "      <th>STD_DT</th>\n",
       "      <th></th>\n",
       "    </tr>\n",
       "  </thead>\n",
       "  <tbody>\n",
       "    <tr>\n",
       "      <th>2020-03-04 00:00:00</th>\n",
       "      <td>0</td>\n",
       "    </tr>\n",
       "    <tr>\n",
       "      <th>2020-03-04 00:00:06</th>\n",
       "      <td>0</td>\n",
       "    </tr>\n",
       "    <tr>\n",
       "      <th>2020-03-04 00:00:12</th>\n",
       "      <td>0</td>\n",
       "    </tr>\n",
       "  </tbody>\n",
       "</table>\n",
       "</div>"
      ],
      "text/plain": [
       "                     TAG\n",
       "STD_DT                  \n",
       "2020-03-04 00:00:00    0\n",
       "2020-03-04 00:00:06    0\n",
       "2020-03-04 00:00:12    0"
      ]
     },
     "execution_count": 86,
     "metadata": {},
     "output_type": "execute_result"
    }
   ],
   "source": [
    "y_train.head(3) # 1이 불량, 0이 정상"
   ]
  },
  {
   "cell_type": "code",
   "execution_count": 88,
   "metadata": {
    "id": "iLfwvUO8aZGw"
   },
   "outputs": [],
   "source": [
    "window_size = 20"
   ]
  },
  {
   "cell_type": "code",
   "execution_count": 89,
   "metadata": {
    "id": "r3RrwruQ2S9g"
   },
   "outputs": [],
   "source": [
    "def make_dataset_X(data, window_size):\n",
    "  feature_list = []\n",
    "  for i in range(0, len(data) - window_size, 10):\n",
    "    feature_list.append(np.array(data.iloc[i:i+window_size]))\n",
    "  return np.array(feature_list)"
   ]
  },
  {
   "cell_type": "code",
   "execution_count": 90,
   "metadata": {
    "id": "ApKvivaLqoDW"
   },
   "outputs": [],
   "source": [
    "train_feature = make_dataset_X(X_train,window_size)"
   ]
  },
  {
   "cell_type": "code",
   "execution_count": 91,
   "metadata": {
    "colab": {
     "base_uri": "https://localhost:8080/",
     "height": 426
    },
    "id": "XyHreQ7laicG",
    "outputId": "cbc9e841-6a8b-4dba-9d3a-8d7dd4d07de2"
   },
   "outputs": [
    {
     "data": {
      "text/html": [
       "<div>\n",
       "<style scoped>\n",
       "    .dataframe tbody tr th:only-of-type {\n",
       "        vertical-align: middle;\n",
       "    }\n",
       "\n",
       "    .dataframe tbody tr th {\n",
       "        vertical-align: top;\n",
       "    }\n",
       "\n",
       "    .dataframe thead th {\n",
       "        text-align: right;\n",
       "    }\n",
       "</style>\n",
       "<table border=\"1\" class=\"dataframe\">\n",
       "  <thead>\n",
       "    <tr style=\"text-align: right;\">\n",
       "      <th></th>\n",
       "      <th>MELT_TEMP</th>\n",
       "      <th>MOTORSPEED</th>\n",
       "      <th>MELT_WEIGHT</th>\n",
       "      <th>INSP</th>\n",
       "      <th>Measurement_error</th>\n",
       "      <th>MW_Period_Second</th>\n",
       "    </tr>\n",
       "    <tr>\n",
       "      <th>STD_DT</th>\n",
       "      <th></th>\n",
       "      <th></th>\n",
       "      <th></th>\n",
       "      <th></th>\n",
       "      <th></th>\n",
       "      <th></th>\n",
       "    </tr>\n",
       "  </thead>\n",
       "  <tbody>\n",
       "    <tr>\n",
       "      <th>2020-03-04 00:00:00</th>\n",
       "      <td>48.9</td>\n",
       "      <td>11.6</td>\n",
       "      <td>631.0</td>\n",
       "      <td>3.19</td>\n",
       "      <td>0</td>\n",
       "      <td>912</td>\n",
       "    </tr>\n",
       "    <tr>\n",
       "      <th>2020-03-04 00:00:06</th>\n",
       "      <td>43.3</td>\n",
       "      <td>7.8</td>\n",
       "      <td>609.0</td>\n",
       "      <td>3.19</td>\n",
       "      <td>0</td>\n",
       "      <td>912</td>\n",
       "    </tr>\n",
       "    <tr>\n",
       "      <th>2020-03-04 00:00:12</th>\n",
       "      <td>46.4</td>\n",
       "      <td>15.4</td>\n",
       "      <td>608.0</td>\n",
       "      <td>3.19</td>\n",
       "      <td>0</td>\n",
       "      <td>912</td>\n",
       "    </tr>\n",
       "    <tr>\n",
       "      <th>2020-03-04 00:00:18</th>\n",
       "      <td>37.9</td>\n",
       "      <td>21.2</td>\n",
       "      <td>606.0</td>\n",
       "      <td>3.19</td>\n",
       "      <td>0</td>\n",
       "      <td>912</td>\n",
       "    </tr>\n",
       "    <tr>\n",
       "      <th>2020-03-04 00:00:24</th>\n",
       "      <td>79.8</td>\n",
       "      <td>173.6</td>\n",
       "      <td>604.0</td>\n",
       "      <td>3.21</td>\n",
       "      <td>0</td>\n",
       "      <td>912</td>\n",
       "    </tr>\n",
       "    <tr>\n",
       "      <th>2020-03-04 00:00:30</th>\n",
       "      <td>74.3</td>\n",
       "      <td>172.2</td>\n",
       "      <td>603.0</td>\n",
       "      <td>3.21</td>\n",
       "      <td>0</td>\n",
       "      <td>912</td>\n",
       "    </tr>\n",
       "    <tr>\n",
       "      <th>2020-03-04 00:00:36</th>\n",
       "      <td>39.0</td>\n",
       "      <td>21.2</td>\n",
       "      <td>602.0</td>\n",
       "      <td>3.19</td>\n",
       "      <td>0</td>\n",
       "      <td>912</td>\n",
       "    </tr>\n",
       "    <tr>\n",
       "      <th>2020-03-04 00:00:42</th>\n",
       "      <td>49.3</td>\n",
       "      <td>15.2</td>\n",
       "      <td>600.0</td>\n",
       "      <td>3.19</td>\n",
       "      <td>0</td>\n",
       "      <td>912</td>\n",
       "    </tr>\n",
       "    <tr>\n",
       "      <th>2020-03-04 00:00:48</th>\n",
       "      <td>42.7</td>\n",
       "      <td>0.0</td>\n",
       "      <td>599.0</td>\n",
       "      <td>3.19</td>\n",
       "      <td>0</td>\n",
       "      <td>912</td>\n",
       "    </tr>\n",
       "    <tr>\n",
       "      <th>2020-03-04 00:00:54</th>\n",
       "      <td>48.9</td>\n",
       "      <td>14.8</td>\n",
       "      <td>598.0</td>\n",
       "      <td>3.20</td>\n",
       "      <td>0</td>\n",
       "      <td>912</td>\n",
       "    </tr>\n",
       "    <tr>\n",
       "      <th>2020-03-04 00:01:00</th>\n",
       "      <td>50.7</td>\n",
       "      <td>12.8</td>\n",
       "      <td>596.0</td>\n",
       "      <td>3.19</td>\n",
       "      <td>0</td>\n",
       "      <td>912</td>\n",
       "    </tr>\n",
       "  </tbody>\n",
       "</table>\n",
       "</div>"
      ],
      "text/plain": [
       "                     MELT_TEMP  MOTORSPEED  MELT_WEIGHT  INSP  \\\n",
       "STD_DT                                                          \n",
       "2020-03-04 00:00:00       48.9        11.6        631.0  3.19   \n",
       "2020-03-04 00:00:06       43.3         7.8        609.0  3.19   \n",
       "2020-03-04 00:00:12       46.4        15.4        608.0  3.19   \n",
       "2020-03-04 00:00:18       37.9        21.2        606.0  3.19   \n",
       "2020-03-04 00:00:24       79.8       173.6        604.0  3.21   \n",
       "2020-03-04 00:00:30       74.3       172.2        603.0  3.21   \n",
       "2020-03-04 00:00:36       39.0        21.2        602.0  3.19   \n",
       "2020-03-04 00:00:42       49.3        15.2        600.0  3.19   \n",
       "2020-03-04 00:00:48       42.7         0.0        599.0  3.19   \n",
       "2020-03-04 00:00:54       48.9        14.8        598.0  3.20   \n",
       "2020-03-04 00:01:00       50.7        12.8        596.0  3.19   \n",
       "\n",
       "                     Measurement_error  MW_Period_Second  \n",
       "STD_DT                                                    \n",
       "2020-03-04 00:00:00                  0               912  \n",
       "2020-03-04 00:00:06                  0               912  \n",
       "2020-03-04 00:00:12                  0               912  \n",
       "2020-03-04 00:00:18                  0               912  \n",
       "2020-03-04 00:00:24                  0               912  \n",
       "2020-03-04 00:00:30                  0               912  \n",
       "2020-03-04 00:00:36                  0               912  \n",
       "2020-03-04 00:00:42                  0               912  \n",
       "2020-03-04 00:00:48                  0               912  \n",
       "2020-03-04 00:00:54                  0               912  \n",
       "2020-03-04 00:01:00                  0               912  "
      ]
     },
     "execution_count": 91,
     "metadata": {},
     "output_type": "execute_result"
    }
   ],
   "source": [
    "X_train.head(11)"
   ]
  },
  {
   "cell_type": "code",
   "execution_count": 93,
   "metadata": {
    "colab": {
     "base_uri": "https://localhost:8080/",
     "height": 708
    },
    "id": "LoLOS2luq0da",
    "outputId": "f1e1333e-7d6e-43ae-d63c-81b8c0e2d1d1"
   },
   "outputs": [
    {
     "data": {
      "text/html": [
       "<div>\n",
       "<style scoped>\n",
       "    .dataframe tbody tr th:only-of-type {\n",
       "        vertical-align: middle;\n",
       "    }\n",
       "\n",
       "    .dataframe tbody tr th {\n",
       "        vertical-align: top;\n",
       "    }\n",
       "\n",
       "    .dataframe thead th {\n",
       "        text-align: right;\n",
       "    }\n",
       "</style>\n",
       "<table border=\"1\" class=\"dataframe\">\n",
       "  <thead>\n",
       "    <tr style=\"text-align: right;\">\n",
       "      <th></th>\n",
       "      <th>TAG</th>\n",
       "    </tr>\n",
       "    <tr>\n",
       "      <th>STD_DT</th>\n",
       "      <th></th>\n",
       "    </tr>\n",
       "  </thead>\n",
       "  <tbody>\n",
       "    <tr>\n",
       "      <th>2020-03-04 00:00:00</th>\n",
       "      <td>0</td>\n",
       "    </tr>\n",
       "    <tr>\n",
       "      <th>2020-03-04 00:00:06</th>\n",
       "      <td>0</td>\n",
       "    </tr>\n",
       "    <tr>\n",
       "      <th>2020-03-04 00:00:12</th>\n",
       "      <td>0</td>\n",
       "    </tr>\n",
       "    <tr>\n",
       "      <th>2020-03-04 00:00:18</th>\n",
       "      <td>0</td>\n",
       "    </tr>\n",
       "    <tr>\n",
       "      <th>2020-03-04 00:00:24</th>\n",
       "      <td>0</td>\n",
       "    </tr>\n",
       "    <tr>\n",
       "      <th>2020-03-04 00:00:30</th>\n",
       "      <td>0</td>\n",
       "    </tr>\n",
       "    <tr>\n",
       "      <th>2020-03-04 00:00:36</th>\n",
       "      <td>0</td>\n",
       "    </tr>\n",
       "    <tr>\n",
       "      <th>2020-03-04 00:00:42</th>\n",
       "      <td>0</td>\n",
       "    </tr>\n",
       "    <tr>\n",
       "      <th>2020-03-04 00:00:48</th>\n",
       "      <td>0</td>\n",
       "    </tr>\n",
       "    <tr>\n",
       "      <th>2020-03-04 00:00:54</th>\n",
       "      <td>0</td>\n",
       "    </tr>\n",
       "    <tr>\n",
       "      <th>2020-03-04 00:01:00</th>\n",
       "      <td>0</td>\n",
       "    </tr>\n",
       "    <tr>\n",
       "      <th>2020-03-04 00:01:06</th>\n",
       "      <td>0</td>\n",
       "    </tr>\n",
       "    <tr>\n",
       "      <th>2020-03-04 00:01:12</th>\n",
       "      <td>0</td>\n",
       "    </tr>\n",
       "    <tr>\n",
       "      <th>2020-03-04 00:01:18</th>\n",
       "      <td>0</td>\n",
       "    </tr>\n",
       "    <tr>\n",
       "      <th>2020-03-04 00:01:24</th>\n",
       "      <td>0</td>\n",
       "    </tr>\n",
       "    <tr>\n",
       "      <th>2020-03-04 00:01:30</th>\n",
       "      <td>0</td>\n",
       "    </tr>\n",
       "    <tr>\n",
       "      <th>2020-03-04 00:01:36</th>\n",
       "      <td>0</td>\n",
       "    </tr>\n",
       "    <tr>\n",
       "      <th>2020-03-04 00:01:42</th>\n",
       "      <td>0</td>\n",
       "    </tr>\n",
       "    <tr>\n",
       "      <th>2020-03-04 00:01:48</th>\n",
       "      <td>0</td>\n",
       "    </tr>\n",
       "    <tr>\n",
       "      <th>2020-03-04 00:01:54</th>\n",
       "      <td>0</td>\n",
       "    </tr>\n",
       "  </tbody>\n",
       "</table>\n",
       "</div>"
      ],
      "text/plain": [
       "                     TAG\n",
       "STD_DT                  \n",
       "2020-03-04 00:00:00    0\n",
       "2020-03-04 00:00:06    0\n",
       "2020-03-04 00:00:12    0\n",
       "2020-03-04 00:00:18    0\n",
       "2020-03-04 00:00:24    0\n",
       "2020-03-04 00:00:30    0\n",
       "2020-03-04 00:00:36    0\n",
       "2020-03-04 00:00:42    0\n",
       "2020-03-04 00:00:48    0\n",
       "2020-03-04 00:00:54    0\n",
       "2020-03-04 00:01:00    0\n",
       "2020-03-04 00:01:06    0\n",
       "2020-03-04 00:01:12    0\n",
       "2020-03-04 00:01:18    0\n",
       "2020-03-04 00:01:24    0\n",
       "2020-03-04 00:01:30    0\n",
       "2020-03-04 00:01:36    0\n",
       "2020-03-04 00:01:42    0\n",
       "2020-03-04 00:01:48    0\n",
       "2020-03-04 00:01:54    0"
      ]
     },
     "execution_count": 93,
     "metadata": {},
     "output_type": "execute_result"
    }
   ],
   "source": [
    "y_train.head(20)"
   ]
  },
  {
   "cell_type": "code",
   "execution_count": 94,
   "metadata": {
    "colab": {
     "base_uri": "https://localhost:8080/"
    },
    "id": "vUQdMj_PrFNH",
    "outputId": "6c6ff89c-0340-4402-dce8-5c7e277d2a57"
   },
   "outputs": [
    {
     "data": {
      "text/plain": [
       "(40318, 20, 6)"
      ]
     },
     "execution_count": 94,
     "metadata": {},
     "output_type": "execute_result"
    }
   ],
   "source": [
    "train_feature.shape"
   ]
  },
  {
   "cell_type": "code",
   "execution_count": 95,
   "metadata": {
    "colab": {
     "base_uri": "https://localhost:8080/"
    },
    "id": "xfNV6RHArI70",
    "outputId": "e4de0698-23e9-4f48-a931-99240000d11c"
   },
   "outputs": [
    {
     "name": "stderr",
     "output_type": "stream",
     "text": [
      "C:\\Users\\pc\\AppData\\Local\\Temp\\ipykernel_27604\\4267234388.py:2: SettingWithCopyWarning: \n",
      "A value is trying to be set on a copy of a slice from a DataFrame.\n",
      "Try using .loc[row_indexer,col_indexer] = value instead\n",
      "\n",
      "See the caveats in the documentation: https://pandas.pydata.org/pandas-docs/stable/user_guide/indexing.html#returning-a-view-versus-a-copy\n",
      "  y_train['DT_min'] = y_train.apply(lambda x : x.name.strftime(\"%Y-%m-%d %H:%M\") , axis = 1)\n"
     ]
    }
   ],
   "source": [
    "y_train.index = train.index\n",
    "y_train['DT_min'] = y_train.apply(lambda x : x.name.strftime(\"%Y-%m-%d %H:%M\") , axis = 1)\n",
    "y_train_min = pd.pivot_table(y_train, index = ['DT_min'], values = ['TAG'], aggfunc = 'max') # 1분간 1번이라도 불량이 발생하면 0(불량)으로 처리\n",
    "train_label = y_train_min.TAG.values[window_size//10:] # y값은 과거의 데이터를 보고 예측하는거기 때문에 1 step 넘기기"
   ]
  },
  {
   "cell_type": "code",
   "execution_count": 96,
   "metadata": {
    "colab": {
     "base_uri": "https://localhost:8080/",
     "height": 455
    },
    "id": "B6lMGduCe05g",
    "outputId": "d75b1199-0251-4834-90a4-21060c3b34a1"
   },
   "outputs": [
    {
     "data": {
      "text/html": [
       "<div>\n",
       "<style scoped>\n",
       "    .dataframe tbody tr th:only-of-type {\n",
       "        vertical-align: middle;\n",
       "    }\n",
       "\n",
       "    .dataframe tbody tr th {\n",
       "        vertical-align: top;\n",
       "    }\n",
       "\n",
       "    .dataframe thead th {\n",
       "        text-align: right;\n",
       "    }\n",
       "</style>\n",
       "<table border=\"1\" class=\"dataframe\">\n",
       "  <thead>\n",
       "    <tr style=\"text-align: right;\">\n",
       "      <th></th>\n",
       "      <th>TAG</th>\n",
       "    </tr>\n",
       "    <tr>\n",
       "      <th>DT_min</th>\n",
       "      <th></th>\n",
       "    </tr>\n",
       "  </thead>\n",
       "  <tbody>\n",
       "    <tr>\n",
       "      <th>2020-03-04 00:00</th>\n",
       "      <td>0</td>\n",
       "    </tr>\n",
       "    <tr>\n",
       "      <th>2020-03-04 00:01</th>\n",
       "      <td>0</td>\n",
       "    </tr>\n",
       "    <tr>\n",
       "      <th>2020-03-04 00:02</th>\n",
       "      <td>0</td>\n",
       "    </tr>\n",
       "    <tr>\n",
       "      <th>2020-03-04 00:03</th>\n",
       "      <td>0</td>\n",
       "    </tr>\n",
       "    <tr>\n",
       "      <th>2020-03-04 00:04</th>\n",
       "      <td>0</td>\n",
       "    </tr>\n",
       "    <tr>\n",
       "      <th>...</th>\n",
       "      <td>...</td>\n",
       "    </tr>\n",
       "    <tr>\n",
       "      <th>2020-03-31 23:55</th>\n",
       "      <td>1</td>\n",
       "    </tr>\n",
       "    <tr>\n",
       "      <th>2020-03-31 23:56</th>\n",
       "      <td>1</td>\n",
       "    </tr>\n",
       "    <tr>\n",
       "      <th>2020-03-31 23:57</th>\n",
       "      <td>1</td>\n",
       "    </tr>\n",
       "    <tr>\n",
       "      <th>2020-03-31 23:58</th>\n",
       "      <td>1</td>\n",
       "    </tr>\n",
       "    <tr>\n",
       "      <th>2020-03-31 23:59</th>\n",
       "      <td>1</td>\n",
       "    </tr>\n",
       "  </tbody>\n",
       "</table>\n",
       "<p>40320 rows × 1 columns</p>\n",
       "</div>"
      ],
      "text/plain": [
       "                  TAG\n",
       "DT_min               \n",
       "2020-03-04 00:00    0\n",
       "2020-03-04 00:01    0\n",
       "2020-03-04 00:02    0\n",
       "2020-03-04 00:03    0\n",
       "2020-03-04 00:04    0\n",
       "...               ...\n",
       "2020-03-31 23:55    1\n",
       "2020-03-31 23:56    1\n",
       "2020-03-31 23:57    1\n",
       "2020-03-31 23:58    1\n",
       "2020-03-31 23:59    1\n",
       "\n",
       "[40320 rows x 1 columns]"
      ]
     },
     "execution_count": 96,
     "metadata": {},
     "output_type": "execute_result"
    }
   ],
   "source": [
    "y_train_min"
   ]
  },
  {
   "cell_type": "code",
   "execution_count": 97,
   "metadata": {
    "colab": {
     "base_uri": "https://localhost:8080/"
    },
    "id": "gUmQGrB23GZw",
    "outputId": "1581f579-ae80-4292-b70e-de4fdfce7867"
   },
   "outputs": [
    {
     "data": {
      "text/plain": [
       "((403200, 6), (403200, 2))"
      ]
     },
     "execution_count": 97,
     "metadata": {},
     "output_type": "execute_result"
    }
   ],
   "source": [
    "X_train.shape, y_train.shape"
   ]
  },
  {
   "cell_type": "code",
   "execution_count": 98,
   "metadata": {
    "colab": {
     "base_uri": "https://localhost:8080/"
    },
    "id": "X9tbzGY6ruzz",
    "outputId": "79b83132-17b5-4d45-9e06-2d8934ef8f19"
   },
   "outputs": [
    {
     "data": {
      "text/plain": [
       "((40318, 20, 6), (40318,))"
      ]
     },
     "execution_count": 98,
     "metadata": {},
     "output_type": "execute_result"
    }
   ],
   "source": [
    "train_feature.shape, train_label.shape"
   ]
  },
  {
   "cell_type": "code",
   "execution_count": 99,
   "metadata": {
    "colab": {
     "base_uri": "https://localhost:8080/"
    },
    "id": "rbNU0Z8-27Hz",
    "outputId": "14c03e4e-7555-4d53-8274-4f4252641545"
   },
   "outputs": [
    {
     "data": {
      "text/plain": [
       "array([0, 0, 0, ..., 1, 1, 1], dtype=int64)"
      ]
     },
     "execution_count": 99,
     "metadata": {},
     "output_type": "execute_result"
    }
   ],
   "source": [
    "train_label"
   ]
  },
  {
   "cell_type": "code",
   "execution_count": 100,
   "metadata": {
    "id": "1Upu-CvI30LG"
   },
   "outputs": [],
   "source": [
    "test_feature = test[feature_cols]\n",
    "test_label = test[label_cols]\n",
    "\n",
    "# test_feature\n",
    "test_feature = make_dataset_X(test_feature, window_size)"
   ]
  },
  {
   "cell_type": "code",
   "execution_count": 103,
   "metadata": {
    "colab": {
     "base_uri": "https://localhost:8080/"
    },
    "id": "8fY88pfL33K7",
    "outputId": "80a3546b-cd99-4fb5-c401-c06b49c91d96"
   },
   "outputs": [
    {
     "name": "stderr",
     "output_type": "stream",
     "text": [
      "C:\\Users\\pc\\AppData\\Local\\Temp\\ipykernel_27604\\3669689304.py:3: SettingWithCopyWarning: \n",
      "A value is trying to be set on a copy of a slice from a DataFrame.\n",
      "Try using .loc[row_indexer,col_indexer] = value instead\n",
      "\n",
      "See the caveats in the documentation: https://pandas.pydata.org/pandas-docs/stable/user_guide/indexing.html#returning-a-view-versus-a-copy\n",
      "  test_label['DT_min'] = test_label.apply(lambda x : x.name.strftime(\"%Y-%m-%d %H:%M\") , axis = 1)\n"
     ]
    }
   ],
   "source": [
    "# test label\n",
    "test_label.index = test.index\n",
    "test_label['DT_min'] = test_label.apply(lambda x : x.name.strftime(\"%Y-%m-%d %H:%M\") , axis = 1)\n",
    "test_label_min = pd.pivot_table(test_label, index = ['DT_min'], values = ['TAG'], aggfunc = 'max') # 1분간 1번이라도 불량이 발생하면 0(불량)으로 처리\n",
    "test_label = test_label_min.TAG.values[window_size//10:] # y값은 과거의 데이터를 보고 예측하는거기 때문에 1 step 넘기기"
   ]
  },
  {
   "cell_type": "code",
   "execution_count": 104,
   "metadata": {
    "colab": {
     "base_uri": "https://localhost:8080/"
    },
    "id": "7Ob17Xku5tph",
    "outputId": "cf63d04c-3651-4d14-d15a-e03586be6b48"
   },
   "outputs": [
    {
     "data": {
      "text/plain": [
       "((43198, 20, 6), (43198,))"
      ]
     },
     "execution_count": 104,
     "metadata": {},
     "output_type": "execute_result"
    }
   ],
   "source": [
    "test_feature.shape, test_label.shape"
   ]
  },
  {
   "cell_type": "code",
   "execution_count": 105,
   "metadata": {
    "id": "e5lsPB_g54Hr"
   },
   "outputs": [],
   "source": [
    "# # train, validation set 생성\n",
    "X_train, x_valid, y_train, y_valid = train_test_split(train_feature, train_label, test_size = 0.3) X_train.shape, x_valid.shape"
   ]
  },
  {
   "cell_type": "markdown",
   "metadata": {},
   "source": [
    "# LSTM"
   ]
  },
  {
   "cell_type": "code",
   "execution_count": 110,
   "metadata": {
    "id": "c48WJYUPKQnC"
   },
   "outputs": [
    {
     "name": "stdout",
     "output_type": "stream",
     "text": [
      "WARNING:tensorflow:Layer lstm_1 will not use cuDNN kernels since it doesn't meet the criteria. It will use a generic GPU kernel as fallback when running on GPU.\n"
     ]
    }
   ],
   "source": [
    "# LSTM 모델 구축\n",
    "model = Sequential()\n",
    "model.add(LSTM(50, \n",
    "              input_shape=(train_feature.shape[1], train_feature.shape[2]),\n",
    "               activation = 'tanh',return_sequences=False)\n",
    "          )\n",
    "model.add(Dense(1, activation='sigmoid'))"
   ]
  },
  {
   "cell_type": "code",
   "execution_count": 111,
   "metadata": {
    "id": "SVXEieqMMXvi"
   },
   "outputs": [],
   "source": [
    "model_path = '../Model'"
   ]
  },
  {
   "cell_type": "code",
   "execution_count": 112,
   "metadata": {
    "id": "jbh0bZckbLjF"
   },
   "outputs": [],
   "source": [
    "from keras import backend as K\n",
    "\n",
    "def recall_m(y_true, y_pred):\n",
    "    true_positives = K.sum(K.round(K.clip(y_true * y_pred, 0, 1)))\n",
    "    possible_positives = K.sum(K.round(K.clip(y_true, 0, 1)))\n",
    "    recall = true_positives / (possible_positives + K.epsilon())\n",
    "    return recall\n",
    "\n",
    "def precision_m(y_true, y_pred):\n",
    "    true_positives = K.sum(K.round(K.clip(y_true * y_pred, 0, 1)))\n",
    "    predicted_positives = K.sum(K.round(K.clip(y_pred, 0, 1)))\n",
    "    precision = true_positives / (predicted_positives + K.epsilon())\n",
    "    return precision\n",
    "\n",
    "def f1_m(y_true, y_pred):\n",
    "    precision = precision_m(y_true, y_pred)\n",
    "    recall = recall_m(y_true, y_pred)\n",
    "    return 2*((precision*recall)/(precision+recall+K.epsilon()))"
   ]
  },
  {
   "cell_type": "code",
   "execution_count": 113,
   "metadata": {
    "id": "m20SWdAIbmYd"
   },
   "outputs": [],
   "source": [
    "model.compile(loss='binary_crossentropy', optimizer = 'adam', metrics=['acc',f1_m,precision_m, recall_m])\n",
    "early_stop = EarlyStopping(monitor='val_loss', patience = 5)\n",
    "filename = os.path.join(model_path, 'tmp_checkpoint.h5')\n",
    "checkpoint = ModelCheckpoint(filename, monitor='val_loss', verbose=0,\n",
    "                             save_best_only=True, mode='auto')"
   ]
  },
  {
   "cell_type": "code",
   "execution_count": 114,
   "metadata": {
    "id": "sZeG2NW7MFNM"
   },
   "outputs": [],
   "source": [
    "# model.compile(loss='binary_crossentropy', optimizer = 'adam', metrics=['accuracy'])\n",
    "# early_stop = EarlyStopping(monitor='val_loss', patience = 5)\n",
    "# filename = os.path.join(model_path, 'tmp_checkpoint.h5')\n",
    "# checkpoint = ModelCheckpoint(filename, monitor='val_loss', verbose=0,\n",
    "#                              save_best_only=True, mode='auto')"
   ]
  },
  {
   "cell_type": "code",
   "execution_count": 115,
   "metadata": {
    "colab": {
     "base_uri": "https://localhost:8080/"
    },
    "id": "urYwzy46vgA0",
    "outputId": "3b84cedc-c3c1-4cad-f3d7-0827b613dffd"
   },
   "outputs": [
    {
     "data": {
      "text/plain": [
       "((43198, 20, 6), (43198,))"
      ]
     },
     "execution_count": 115,
     "metadata": {},
     "output_type": "execute_result"
    }
   ],
   "source": [
    "test_feature.shape, test_label.shape"
   ]
  },
  {
   "cell_type": "code",
   "execution_count": 116,
   "metadata": {
    "colab": {
     "base_uri": "https://localhost:8080/"
    },
    "id": "MZi1iaAP7-ZU",
    "outputId": "356aba21-5e6e-425f-8f37-d6566d79d479"
   },
   "outputs": [
    {
     "name": "stdout",
     "output_type": "stream",
     "text": [
      "Train on 40318 samples, validate on 43198 samples\n",
      "Epoch 1/200\n",
      "40310/40318 [============================>.] - ETA: 0s - loss: 0.6799 - acc: 0.5625 - f1_m: 0.5863 - precision_m: 0.5846 - recall_m: 0.6622"
     ]
    },
    {
     "name": "stderr",
     "output_type": "stream",
     "text": [
      "C:\\ProgramData\\Anaconda3\\lib\\site-packages\\keras\\engine\\training_v1.py:2332: UserWarning: `Model.state_updates` will be removed in a future version. This property should not be used in TensorFlow 2.0, as `updates` are applied automatically.\n",
      "  updates = self.state_updates\n"
     ]
    },
    {
     "name": "stdout",
     "output_type": "stream",
     "text": [
      "40318/40318 [==============================] - 110s 3ms/sample - loss: 0.6799 - acc: 0.5625 - f1_m: 0.5864 - precision_m: 0.5846 - recall_m: 0.6623 - val_loss: 0.7413 - val_acc: 0.4320 - val_f1_m: 0.4602 - val_precision_m: 0.4080 - val_recall_m: 0.5911\n",
      "Epoch 2/200\n",
      "40318/40318 [==============================] - 103s 3ms/sample - loss: 0.6743 - acc: 0.5781 - f1_m: 0.5836 - precision_m: 0.6027 - recall_m: 0.6217 - val_loss: 0.7344 - val_acc: 0.4223 - val_f1_m: 0.2946 - val_precision_m: 0.3397 - val_recall_m: 0.3021\n",
      "Epoch 3/200\n",
      "40318/40318 [==============================] - 105s 3ms/sample - loss: 0.6753 - acc: 0.5683 - f1_m: 0.5417 - precision_m: 0.6128 - recall_m: 0.5634 - val_loss: 0.7571 - val_acc: 0.4512 - val_f1_m: 0.5979 - val_precision_m: 0.4491 - val_recall_m: 0.9744\n",
      "Epoch 4/200\n",
      "40318/40318 [==============================] - 102s 3ms/sample - loss: 0.6740 - acc: 0.5788 - f1_m: 0.5447 - precision_m: 0.6166 - recall_m: 0.5477 - val_loss: 0.7645 - val_acc: 0.4229 - val_f1_m: 0.3935 - val_precision_m: 0.3844 - val_recall_m: 0.4594\n",
      "Epoch 5/200\n",
      "40318/40318 [==============================] - 99s 2ms/sample - loss: 0.6734 - acc: 0.5803 - f1_m: 0.5315 - precision_m: 0.6294 - recall_m: 0.5125 - val_loss: 0.7532 - val_acc: 0.4243 - val_f1_m: 0.2383 - val_precision_m: 0.3037 - val_recall_m: 0.2281\n",
      "Epoch 6/200\n",
      "40318/40318 [==============================] - 99s 2ms/sample - loss: 0.6713 - acc: 0.5813 - f1_m: 0.5346 - precision_m: 0.6317 - recall_m: 0.5184 - val_loss: 0.7560 - val_acc: 0.4403 - val_f1_m: 0.5305 - val_precision_m: 0.4306 - val_recall_m: 0.7618\n",
      "Epoch 7/200\n",
      "40318/40318 [==============================] - 99s 2ms/sample - loss: 0.6713 - acc: 0.5839 - f1_m: 0.5461 - precision_m: 0.6325 - recall_m: 0.5307 - val_loss: 0.7516 - val_acc: 0.4162 - val_f1_m: 0.3015 - val_precision_m: 0.3381 - val_recall_m: 0.3163\n"
     ]
    }
   ],
   "source": [
    "history = model.fit(train_feature, train_label,\n",
    "                   epochs = 200,\n",
    "                   batch_size = 10,\n",
    "                   validation_data = (test_feature, test_label)\n",
    "                   , callbacks=[early_stop, checkpoint])"
   ]
  },
  {
   "cell_type": "code",
   "execution_count": 117,
   "metadata": {
    "colab": {
     "base_uri": "https://localhost:8080/"
    },
    "id": "2WBO9eTc8O9d",
    "outputId": "a7deb6aa-5956-4695-c966-14a67f95865d"
   },
   "outputs": [
    {
     "name": "stderr",
     "output_type": "stream",
     "text": [
      "C:\\ProgramData\\Anaconda3\\lib\\site-packages\\keras\\engine\\training_v1.py:2356: UserWarning: `Model.state_updates` will be removed in a future version. This property should not be used in TensorFlow 2.0, as `updates` are applied automatically.\n",
      "  updates=self.state_updates,\n"
     ]
    }
   ],
   "source": [
    "model.load_weights(filename)\n",
    "pred = model.predict(test_feature)"
   ]
  },
  {
   "cell_type": "code",
   "execution_count": 118,
   "metadata": {
    "colab": {
     "base_uri": "https://localhost:8080/",
     "height": 265
    },
    "id": "Fem2j-V38T6M",
    "outputId": "e886805b-d02f-4fd4-c9b0-9d4f4f315f39"
   },
   "outputs": [
    {
     "data": {
      "image/png": "[encoded data removed]",
      "text/plain": [
       "<Figure size 640x480 with 1 Axes>"
      ]
     },
     "metadata": {},
     "output_type": "display_data"
    }
   ],
   "source": [
    "plt.plot(history.history['f1_m'], label='train')\n",
    "plt.plot(history.history['val_f1_m'], label='validation')\n",
    "plt.legend()\n",
    "plt.show()"
   ]
  },
  {
   "cell_type": "code",
   "execution_count": 119,
   "metadata": {
    "id": "5SwLNsJF8VkV"
   },
   "outputs": [],
   "source": [
    "pred_df = pd.DataFrame(pred, columns= ['TAG'])"
   ]
  },
  {
   "cell_type": "code",
   "execution_count": 120,
   "metadata": {
    "id": "1bb_9D-x8WrC"
   },
   "outputs": [],
   "source": [
    "pred_df['TAG'] = pred_df['TAG'].apply(lambda x: 1 if x> 0.5 else 0)"
   ]
  },
  {
   "cell_type": "code",
   "execution_count": 121,
   "metadata": {
    "colab": {
     "base_uri": "https://localhost:8080/"
    },
    "id": "pfTPtjmm8Xub",
    "outputId": "5a618ef6-918d-41dc-8d7e-ace3c67e6c6d"
   },
   "outputs": [
    {
     "data": {
      "text/plain": [
       "0    25834\n",
       "1    17364\n",
       "Name: TAG, dtype: int64"
      ]
     },
     "execution_count": 121,
     "metadata": {},
     "output_type": "execute_result"
    }
   ],
   "source": [
    "pred_df['TAG'].value_counts()"
   ]
  },
  {
   "cell_type": "code",
   "execution_count": 122,
   "metadata": {
    "colab": {
     "base_uri": "https://localhost:8080/"
    },
    "id": "4Cd3I5wy8KWa",
    "outputId": "67a6917f-a778-4bfd-e189-afbcb96ad532"
   },
   "outputs": [
    {
     "data": {
      "text/plain": [
       "0    23794\n",
       "1    19404\n",
       "dtype: int64"
      ]
     },
     "execution_count": 122,
     "metadata": {},
     "output_type": "execute_result"
    }
   ],
   "source": [
    "pd.Series(test_label).value_counts()"
   ]
  },
  {
   "cell_type": "code",
   "execution_count": 123,
   "metadata": {
    "colab": {
     "base_uri": "https://localhost:8080/"
    },
    "id": "_b6YYdKG8Yhe",
    "outputId": "c71e7074-ff3d-4aab-e943-71d13359863f"
   },
   "outputs": [
    {
     "name": "stdout",
     "output_type": "stream",
     "text": [
      "[[12335 11459]\n",
      " [13499  5905]]\n"
     ]
    }
   ],
   "source": [
    "classify = confusion_matrix(test_label, pred_df)\n",
    "print(classify)"
   ]
  },
  {
   "cell_type": "code",
   "execution_count": 124,
   "metadata": {
    "colab": {
     "base_uri": "https://localhost:8080/"
    },
    "id": "n4WLxemmb_IK",
    "outputId": "ac6e1568-38e8-4614-a2ca-3104052e9d00"
   },
   "outputs": [
    {
     "name": "stdout",
     "output_type": "stream",
     "text": [
      "              precision    recall  f1-score   support\n",
      "\n",
      "           0       0.48      0.52      0.50     23794\n",
      "           1       0.34      0.30      0.32     19404\n",
      "\n",
      "    accuracy                           0.42     43198\n",
      "   macro avg       0.41      0.41      0.41     43198\n",
      "weighted avg       0.42      0.42      0.42     43198\n",
      "\n"
     ]
    }
   ],
   "source": [
    "from sklearn.metrics import classification_report\n",
    "print(classification_report(test_label, pred_df))"
   ]
  },
  {
   "cell_type": "code",
   "execution_count": 125,
   "metadata": {
    "colab": {
     "base_uri": "https://localhost:8080/",
     "height": 458
    },
    "id": "iUhJDlnb7cVp",
    "outputId": "960cac03-4051-4659-983d-f674b9bf727d"
   },
   "outputs": [
    {
     "data": {
      "image/png": "[encoded data removed]",
      "text/plain": [
       "<Figure size 700x700 with 2 Axes>"
      ]
     },
     "metadata": {},
     "output_type": "display_data"
    }
   ],
   "source": [
    "plt.figure(figsize=(7, 7))\n",
    "sns.heatmap(classify, xticklabels=['OK', 'NG'], yticklabels=['OK', 'NG'], annot=True, fmt='d')\n",
    "plt.title('Confusion Matrix')\n",
    "plt.xlabel('Predicted Class'); plt.ylabel('True Class')\n",
    "plt.show()"
   ]
  },
  {
   "cell_type": "code",
   "execution_count": 126,
   "metadata": {
    "colab": {
     "base_uri": "https://localhost:8080/"
    },
    "id": "I0hQ3HJ78ZVv",
    "outputId": "078e1d57-4ec1-4af6-9e71-232aa43bbc20"
   },
   "outputs": [
    {
     "name": "stdout",
     "output_type": "stream",
     "text": [
      "precision : 0.3401\n",
      "recall : 0.3043\n",
      "f1-score : 0.3212\n",
      "accuracy : 0.4222\n"
     ]
    }
   ],
   "source": [
    "p = precision_score(test_label, pred_df)\n",
    "print(\"precision : %0.4f\" %p)\n",
    "r = recall_score(test_label, pred_df)\n",
    "print(\"recall : %0.4f\" %r)\n",
    "f1 = f1_score(test_label, pred_df)\n",
    "print(\"f1-score : %0.4f\" %f1)\n",
    "acc = accuracy_score(test_label, pred_df)\n",
    "print(\"accuracy : %0.4f\" %acc)"
   ]
  },
  {
   "cell_type": "code",
   "execution_count": 127,
   "metadata": {
    "id": "0cIx60z88ict"
   },
   "outputs": [],
   "source": [
    "df_result = pred_df.copy()\n",
    "df_result.rename(columns = {'TAG' : 'pred'}, inplace = True)"
   ]
  }
 ],
 "metadata": {
  "accelerator": "GPU",
  "colab": {
   "collapsed_sections": [],
   "machine_shape": "hm",
   "provenance": []
  },
  "gpuClass": "standard",
  "kernelspec": {
   "display_name": "Python 3 (ipykernel)",
   "language": "python",
   "name": "python3"
  },
  "language_info": {
   "codemirror_mode": {
    "name": "ipython",
    "version": 3
   },
   "file_extension": ".py",
   "mimetype": "text/x-python",
   "name": "python",
   "nbconvert_exporter": "python",
   "pygments_lexer": "ipython3",
   "version": "3.9.12"
  }
 },
 "nbformat": 4,
 "nbformat_minor": 1
}
