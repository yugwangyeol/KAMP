{
 "cells": [
  {
   "cell_type": "markdown",
   "metadata": {},
   "source": [
    "# Import"
   ]
  },
  {
   "cell_type": "code",
   "execution_count": 4,
   "metadata": {
    "scrolled": false
   },
   "outputs": [],
   "source": [
    "import numpy as np\n",
    "import pandas as pd "
   ]
  },
  {
   "cell_type": "markdown",
   "metadata": {},
   "source": [
    "# Data Load"
   ]
  },
  {
   "cell_type": "markdown",
   "metadata": {},
   "source": [
    "#### 추가적인 Tag 변화\n",
    "\n",
    "- ##### 1과 1 사이의 0이 있으면 1로 변경해주는 data\n",
    "- 예시) \n",
    "\n",
    "1 0 0 0 0 1 0 0  => 1 1 1 1 1 0 0 변환"
   ]
  },
  {
   "cell_type": "code",
   "execution_count": 5,
   "metadata": {},
   "outputs": [],
   "source": [
    "# 데이터 불러오기\n",
    "train_data = pd.read_csv('./Dataset/train_time_data_pf.csv')\n",
    "val_data = pd.read_csv('./Dataset/validation_time_data_pf.csv')\n",
    "\n",
    "data = pd.concat([train_data, val_data])\n",
    "data = data.reset_index(drop = True)"
   ]
  },
  {
   "cell_type": "markdown",
   "metadata": {},
   "source": [
    "# Data Structure"
   ]
  },
  {
   "cell_type": "code",
   "execution_count": 6,
   "metadata": {
    "scrolled": true
   },
   "outputs": [
    {
     "name": "stderr",
     "output_type": "stream",
     "text": [
      "100%|██████████████████████████████████████████████████████████████████████| 835200/835200 [00:04<00:00, 182514.05it/s]\n"
     ]
    }
   ],
   "source": [
    "# [1] 분 단위로 cycle별 Tag 저자 dataFrame 생성\n",
    "from tqdm import tqdm \n",
    "\n",
    "data['STD_DT'] = data['STD_DT'].apply(lambda x : pd.to_datetime(str(x), format='%Y-%m-%d %H:%M:%S'))\n",
    "minute_result = []\n",
    "title_list = []\n",
    "cnt = data.shape[0]\n",
    "\n",
    "for idx in tqdm(range(data.shape[0])):\n",
    "    \n",
    "    # 분 단위로 Dataset 저장하기 위한 코드\n",
    "    if idx == 0 :                     \n",
    "        result = []      \n",
    "    elif idx % 10 == 0 :\n",
    "        minute_result.append(result)\n",
    "        result = []\n",
    "    \n",
    "    Tag = data['TAG'][idx]\n",
    "    result.append(Tag)\n",
    "    \n",
    "    if idx <= 9:\n",
    "        name = data.columns[-1]\n",
    "        second = str(data['STD_DT'].dt.second[idx])\n",
    "            \n",
    "        if len(second) == 1:\n",
    "            second = '0' + second  \n",
    "            \n",
    "        change_title = name + '_' + second\n",
    "        title_list.append(change_title)\n",
    "    \n",
    "    if idx == (cnt - 1):\n",
    "        minute_result.append(result)"
   ]
  },
  {
   "cell_type": "code",
   "execution_count": 7,
   "metadata": {},
   "outputs": [
    {
     "name": "stdout",
     "output_type": "stream",
     "text": [
      "                     TAG_00  TAG_06  TAG_12  TAG_18  TAG_24  TAG_30  TAG_36  \\\n",
      "2020-03-04 00:00:00       0       0       0       0       0       0       0   \n",
      "2020-03-04 00:01:00       0       0       0       0       0       0       0   \n",
      "2020-03-04 00:02:00       0       0       0       0       0       0       0   \n",
      "2020-03-04 00:03:00       0       0       0       0       0       0       0   \n",
      "2020-03-04 00:04:00       0       0       0       0       0       0       0   \n",
      "...                     ...     ...     ...     ...     ...     ...     ...   \n",
      "2020-04-30 23:55:00       0       0       0       0       0       0       0   \n",
      "2020-04-30 23:56:00       0       0       0       0       0       0       0   \n",
      "2020-04-30 23:57:00       0       0       0       0       0       0       0   \n",
      "2020-04-30 23:58:00       0       0       0       0       0       0       0   \n",
      "2020-04-30 23:59:00       0       0       0       0       0       0       0   \n",
      "\n",
      "                     TAG_42  TAG_48  TAG_54  \n",
      "2020-03-04 00:00:00       0       0       0  \n",
      "2020-03-04 00:01:00       0       0       0  \n",
      "2020-03-04 00:02:00       0       0       0  \n",
      "2020-03-04 00:03:00       0       0       0  \n",
      "2020-03-04 00:04:00       0       0       0  \n",
      "...                     ...     ...     ...  \n",
      "2020-04-30 23:55:00       0       0       0  \n",
      "2020-04-30 23:56:00       0       0       0  \n",
      "2020-04-30 23:57:00       0       0       0  \n",
      "2020-04-30 23:58:00       0       0       0  \n",
      "2020-04-30 23:59:00       0       0       0  \n",
      "\n",
      "[83520 rows x 10 columns]\n"
     ]
    }
   ],
   "source": [
    "## 분 index\n",
    "df_byminute = data.set_index('STD_DT')['TAG'].resample('T').sum()        \n",
    "day_list = list(pd.DataFrame(df_byminute).index)\n",
    "\n",
    "## 분마다의 Tag dataFrame 생성\n",
    "tag_pd = pd.DataFrame(minute_result)\n",
    "tag_pd.index = day_list\n",
    "tag_pd.columns = title_list\n",
    "print(tag_pd)"
   ]
  },
  {
   "cell_type": "code",
   "execution_count": null,
   "metadata": {
    "scrolled": false
   },
   "outputs": [
    {
     "name": "stderr",
     "output_type": "stream",
     "text": [
      " 45%|█████████████████████████████████▏                                        | 37460/83520 [00:04<00:05, 8557.10it/s]"
     ]
    }
   ],
   "source": [
    "## Tag 전처리\n",
    "change_tag = [] \n",
    "\n",
    "# for day_num in tqdm(range(tag_pd.shape[0])):\n",
    "\n",
    "for day_num in tqdm(range(tag_pd.shape[0])):\n",
    "    \n",
    "    day_anomaly = tag_pd.iloc[day_num]\n",
    "    day_anomaly_cnt = day_anomaly.sum()\n",
    "\n",
    "    one_tag_idx = []\n",
    "    \n",
    "    # 1분 주기 동안 Tag가 \"NO\"인 경우가 1개 이하 \n",
    "    if day_anomaly_cnt <= 1:\n",
    "        change_tag.append(list(day_anomaly))\n",
    "        pass\n",
    "    \n",
    "    # 1분 주기 동아 Tag가 2개 이상인 경우\n",
    "    ## 1분 동안의 1이 등장하는 index를 기준으로 최소값과 최대값을 구하고 그 사이를 0을 ㅗ변환\n",
    "    else:\n",
    "        change_day_anomaly = []\n",
    "        for idx, num in enumerate(day_anomaly):\n",
    "            if num == 1:\n",
    "                one_tag_idx.append(idx)\n",
    "            else:\n",
    "                pass\n",
    "            \n",
    "        max_idx = max(one_tag_idx)\n",
    "        min_idx = min(one_tag_idx)\n",
    "        \n",
    "        # 각 분마다의 초 iindex를 기준으로 0으로 변환\n",
    "        for idx, num in enumerate(day_anomaly):\n",
    "            if min_idx <= idx <= max_idx:\n",
    "                change_day_anomaly.append(1)\n",
    "            else:\n",
    "                change_day_anomaly.append(0)\n",
    "                \n",
    "        change_tag.append(change_day_anomaly)\n",
    "        \n",
    "chagnge_tag_pd = pd.DataFrame(change_tag)\n",
    "chagnge_tag_pd.index = day_list\n",
    "chagnge_tag_pd.columns = title_list\n",
    "print(chagnge_tag_pd)"
   ]
  },
  {
   "cell_type": "code",
   "execution_count": null,
   "metadata": {
    "scrolled": true
   },
   "outputs": [],
   "source": [
    "# 잘바뀌었는지 검증 time\n",
    "ver = df_byminute.reset_index()\n",
    "\n",
    "# No day\n",
    "No_day = list(ver[ver['TAG'] != 0]['STD_DT'])\n",
    "No_idx = []\n",
    "\n",
    "for day in tqdm(No_day):\n",
    "    value_idx = ver[ver['STD_DT'] == day].index[0]\n",
    "    No_idx.append(value_idx)\n",
    "\n",
    "import random\n",
    "random.seed(0)\n",
    "\n",
    "random_idx = random.sample(No_idx, 20)\n",
    "\n",
    "# 변경 이상있는지 Sampling을 통해서 확인\n",
    "for idx in random_idx:\n",
    "    bef_tag = pd.DataFrame(tag_pd.iloc[idx]).T\n",
    "    aft_tag = pd.DataFrame(chagnge_tag_pd.iloc[idx]).T\n",
    "    \n",
    "    print(\"TAG가 NO 개수: {}개\".format(sum(tag_pd.iloc[idx])))\n",
    "    print(\"변경 전:\")\n",
    "    display(bef_tag)\n",
    "    print(\"변경 전:\")\n",
    "    display(aft_tag)\n",
    "    print(\"\\n\")"
   ]
  },
  {
   "cell_type": "code",
   "execution_count": 197,
   "metadata": {
    "scrolled": true
   },
   "outputs": [
    {
     "name": "stderr",
     "output_type": "stream",
     "text": [
      "100%|█████████████████████████████████████████████████████████████████████████| 83520/83520 [00:05<00:00, 16105.30it/s]\n"
     ]
    },
    {
     "name": "stdout",
     "output_type": "stream",
     "text": [
      "이전 TAG 개수 \n",
      " 0    658133\n",
      "1    177067\n",
      "Name: TAG, dtype: int64\n",
      "이후 TAG 개수 \n",
      " 0    519391\n",
      "1    315809\n",
      "Name: TAG, dtype: int64\n"
     ]
    }
   ],
   "source": [
    "# Tag 변경 코드\n",
    "total_list = []\n",
    "\n",
    "for c_idx in tqdm(range(chagnge_tag_pd.shape[0])):\n",
    "    minute_value = chagnge_tag_pd.iloc[c_idx]\n",
    "    for per_value in minute_value:\n",
    "        total_list.append(per_value)\n",
    "        \n",
    "change_dt = data.copy()\n",
    "change_dt['TAG'] = total_list\n",
    "\n",
    "print(\"이전 TAG 개수 \\n {}\".format(data['TAG'].value_counts()))\n",
    "print(\"이후 TAG 개수 \\n {}\".format(change_dt['TAG'].value_counts()))"
   ]
  },
  {
   "cell_type": "code",
   "execution_count": 202,
   "metadata": {},
   "outputs": [],
   "source": [
    "# 값 저장 \n",
    "train = change_dt[change_dt['STD_DT'] < '2020-04-08']\n",
    "test = change_dt[change_dt['STD_DT'] >= '2020-04-08']\n",
    "\n",
    "train.to_csv('train_result_df.csv')\n",
    "test.to_csv('test_result_df.csv')"
   ]
  }
 ],
 "metadata": {
  "accelerator": "GPU",
  "colab": {
   "collapsed_sections": [],
   "machine_shape": "hm",
   "provenance": []
  },
  "gpuClass": "standard",
  "kernelspec": {
   "display_name": "Python 3 (ipykernel)",
   "language": "python",
   "name": "python3"
  },
  "language_info": {
   "codemirror_mode": {
    "name": "ipython",
    "version": 3
   },
   "file_extension": ".py",
   "mimetype": "text/x-python",
   "name": "python",
   "nbconvert_exporter": "python",
   "pygments_lexer": "ipython3",
   "version": "3.9.12"
  }
 },
 "nbformat": 4,
 "nbformat_minor": 1
}
