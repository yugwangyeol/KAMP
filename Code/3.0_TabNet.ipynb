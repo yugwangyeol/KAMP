{
 "cells": [
  {
   "cell_type": "markdown",
   "id": "fc1e47a9-3561-46e7-bd49-81b53b017db5",
   "metadata": {},
   "source": [
    "# Import"
   ]
  },
  {
   "cell_type": "code",
   "execution_count": null,
   "id": "1a588277-c90b-4001-891c-70e1d20e0eb5",
   "metadata": {},
   "outputs": [],
   "source": [
    "# base\n",
    "import pandas as pd\n",
    "import numpy as np\n",
    "import os\n",
    "import torch\n",
    "import os\n",
    "\n",
    "# TabNet\n",
    "from pytorch_tabnet.tab_model import TabNetClassifier\n",
    "from pytorch_tabnet.pretraining import TabNetPretrainer\n",
    "\n",
    "# preprocessing\n",
    "from sklearn.preprocessing import LabelEncoder\n",
    "\n",
    "#Verification\n",
    "from sklearn.metrics import (precision_recall_curve, roc_curve, make_scorer, log_loss,\n",
    "                             f1_score, confusion_matrix, auc, roc_auc_score, accuracy_score)\n",
    "from pytorch_tabnet.metrics import Metric\n",
    "\n",
    "# set\n",
    "np.random.seed(0)\n",
    "\n",
    "#import wget\n",
    "from pathlib import Path\n",
    "from matplotlib import pyplot as plt\n",
    "from torch.optim.lr_scheduler import ReduceLROnPlateau, CosineAnnealingWarmRestarts\n",
    "%matplotlib inline"
   ]
  },
  {
   "cell_type": "markdown",
   "id": "8a455326-53e5-4f7f-b8fb-479bdf26ab1c",
   "metadata": {},
   "source": [
    "# Data Load"
   ]
  },
  {
   "cell_type": "code",
   "execution_count": 6,
   "id": "297327db-1b7c-411d-b0b3-a35558bf6d82",
   "metadata": {},
   "outputs": [],
   "source": [
    "train = pd.read_csv('../Data/test_result_df.csv').drop(['Unnamed: 0'],axis=1).set_index('STD_DT')\n",
    "test = pd.read_csv('../Data/test_result_df.csv').drop(['Unnamed: 0'],axis=1).set_index('STD_DT')"
   ]
  },
  {
   "cell_type": "code",
   "execution_count": 7,
   "id": "b301c452-cb6d-4f27-800f-85f887294b63",
   "metadata": {},
   "outputs": [],
   "source": [
    "target = 'TAG'    \n",
    "if \"Set\" not in train.columns:\n",
    "    train[\"Set\"] = np.random.choice([\"train\", \"valid\"], p =[.8, .2], size=(train.shape[0],))\n",
    "    \n",
    "test['Set'] = 'test'\n",
    "data = pd.concat([train,test]).reset_index(drop=True)\n",
    "\n",
    "train_indices = data[data.Set==\"train\"].index\n",
    "valid_indices = data[data.Set==\"valid\"].index\n",
    "test_indices = data[data.Set==\"test\"].index"
   ]
  },
  {
   "cell_type": "code",
   "execution_count": 8,
   "id": "7e670e2d-1b09-47d8-b9b5-b83648a5871e",
   "metadata": {},
   "outputs": [
    {
     "name": "stdout",
     "output_type": "stream",
     "text": [
      "<class 'pandas.core.frame.DataFrame'>\n",
      "Index: 50400 entries, 2020-03-04 00:00:00 to 2020-04-07 23:59:00\n",
      "Data columns (total 62 columns):\n",
      " #   Column                Non-Null Count  Dtype  \n",
      "---  ------                --------------  -----  \n",
      " 0   MELT_TEMP_00          50400 non-null  float64\n",
      " 1   MOTORSPEED_00         50400 non-null  float64\n",
      " 2   MELT_WEIGHT_00        50400 non-null  float64\n",
      " 3   INSP_00               50400 non-null  float64\n",
      " 4   Measurement_error_00  50400 non-null  float64\n",
      " 5   MW_Period_Second_00   50400 non-null  float64\n",
      " 6   MELT_TEMP_06          50400 non-null  float64\n",
      " 7   MOTORSPEED_06         50400 non-null  float64\n",
      " 8   MELT_WEIGHT_06        50400 non-null  float64\n",
      " 9   INSP_06               50400 non-null  float64\n",
      " 10  Measurement_error_06  50400 non-null  float64\n",
      " 11  MW_Period_Second_06   50400 non-null  float64\n",
      " 12  MELT_TEMP_12          50400 non-null  float64\n",
      " 13  MOTORSPEED_12         50400 non-null  float64\n",
      " 14  MELT_WEIGHT_12        50400 non-null  float64\n",
      " 15  INSP_12               50400 non-null  float64\n",
      " 16  Measurement_error_12  50400 non-null  float64\n",
      " 17  MW_Period_Second_12   50400 non-null  float64\n",
      " 18  MELT_TEMP_18          50400 non-null  float64\n",
      " 19  MOTORSPEED_18         50400 non-null  float64\n",
      " 20  MELT_WEIGHT_18        50400 non-null  float64\n",
      " 21  INSP_18               50400 non-null  float64\n",
      " 22  Measurement_error_18  50400 non-null  float64\n",
      " 23  MW_Period_Second_18   50400 non-null  float64\n",
      " 24  MELT_TEMP_24          50400 non-null  float64\n",
      " 25  MOTORSPEED_24         50400 non-null  float64\n",
      " 26  MELT_WEIGHT_24        50400 non-null  float64\n",
      " 27  INSP_24               50400 non-null  float64\n",
      " 28  Measurement_error_24  50400 non-null  float64\n",
      " 29  MW_Period_Second_24   50400 non-null  float64\n",
      " 30  MELT_TEMP_30          50400 non-null  float64\n",
      " 31  MOTORSPEED_30         50400 non-null  float64\n",
      " 32  MELT_WEIGHT_30        50400 non-null  float64\n",
      " 33  INSP_30               50400 non-null  float64\n",
      " 34  Measurement_error_30  50400 non-null  float64\n",
      " 35  MW_Period_Second_30   50400 non-null  float64\n",
      " 36  MELT_TEMP_36          50400 non-null  float64\n",
      " 37  MOTORSPEED_36         50400 non-null  float64\n",
      " 38  MELT_WEIGHT_36        50400 non-null  float64\n",
      " 39  INSP_36               50400 non-null  float64\n",
      " 40  Measurement_error_36  50400 non-null  float64\n",
      " 41  MW_Period_Second_36   50400 non-null  float64\n",
      " 42  MELT_TEMP_42          50400 non-null  float64\n",
      " 43  MOTORSPEED_42         50400 non-null  float64\n",
      " 44  MELT_WEIGHT_42        50400 non-null  float64\n",
      " 45  INSP_42               50400 non-null  float64\n",
      " 46  Measurement_error_42  50400 non-null  float64\n",
      " 47  MW_Period_Second_42   50400 non-null  float64\n",
      " 48  MELT_TEMP_48          50400 non-null  float64\n",
      " 49  MOTORSPEED_48         50400 non-null  float64\n",
      " 50  MELT_WEIGHT_48        50400 non-null  float64\n",
      " 51  INSP_48               50400 non-null  float64\n",
      " 52  Measurement_error_48  50400 non-null  float64\n",
      " 53  MW_Period_Second_48   50400 non-null  float64\n",
      " 54  MELT_TEMP_54          50400 non-null  float64\n",
      " 55  MOTORSPEED_54         50400 non-null  float64\n",
      " 56  MELT_WEIGHT_54        50400 non-null  float64\n",
      " 57  INSP_54               50400 non-null  float64\n",
      " 58  Measurement_error_54  50400 non-null  float64\n",
      " 59  MW_Period_Second_54   50400 non-null  float64\n",
      " 60  TAG                   50400 non-null  int64  \n",
      " 61  Set                   50400 non-null  object \n",
      "dtypes: float64(60), int64(1), object(1)\n",
      "memory usage: 24.2+ MB\n"
     ]
    }
   ],
   "source": [
    "train.info()"
   ]
  },
  {
   "cell_type": "markdown",
   "id": "c6c9df2c-a5cb-45dc-b0fd-fc3d729ef2ec",
   "metadata": {
    "tags": []
   },
   "source": [
    "# Preprocessing"
   ]
  },
  {
   "cell_type": "code",
   "execution_count": 9,
   "id": "8e68b99c-6243-4297-8f11-1fd636333db0",
   "metadata": {},
   "outputs": [
    {
     "name": "stdout",
     "output_type": "stream",
     "text": [
      "MELT_TEMP_00 148\n",
      "MOTORSPEED_00 124\n",
      "INSP_00 4\n",
      "Measurement_error_00 2\n",
      "MELT_TEMP_06 151\n",
      "MOTORSPEED_06 79\n",
      "INSP_06 4\n",
      "Measurement_error_06 2\n",
      "MELT_TEMP_12 150\n",
      "MOTORSPEED_12 127\n",
      "INSP_12 4\n",
      "Measurement_error_12 2\n",
      "MELT_TEMP_18 148\n",
      "MOTORSPEED_18 120\n",
      "INSP_18 4\n",
      "Measurement_error_18 2\n",
      "MELT_TEMP_24 149\n",
      "MOTORSPEED_24 124\n",
      "INSP_24 4\n",
      "Measurement_error_24 2\n",
      "MELT_TEMP_30 151\n",
      "MOTORSPEED_30 122\n",
      "INSP_30 4\n",
      "Measurement_error_30 2\n",
      "MELT_TEMP_36 151\n",
      "MOTORSPEED_36 120\n",
      "INSP_36 4\n",
      "Measurement_error_36 2\n",
      "MELT_TEMP_42 147\n",
      "MOTORSPEED_42 123\n",
      "INSP_42 4\n",
      "Measurement_error_42 2\n",
      "MELT_TEMP_48 154\n",
      "MOTORSPEED_48 77\n",
      "INSP_48 3\n",
      "Measurement_error_48 2\n",
      "MELT_TEMP_54 151\n",
      "MOTORSPEED_54 120\n",
      "INSP_54 4\n",
      "Measurement_error_54 2\n",
      "TAG 2\n",
      "Set 3\n"
     ]
    }
   ],
   "source": [
    "nunique = data.nunique()\n",
    "types = data.dtypes\n",
    "\n",
    "categorical_columns = []\n",
    "categorical_dims =  {}\n",
    "for col in data.columns:\n",
    "    if types[col] == 'object' or nunique[col] < 250:\n",
    "        print(col, data[col].nunique())\n",
    "        l_enc = LabelEncoder()\n",
    "        data[col] = data[col].fillna(\"VV_likely\")\n",
    "        data[col] = l_enc.fit_transform(data[col].values)\n",
    "        categorical_columns.append(col)\n",
    "        categorical_dims[col] = len(l_enc.classes_)\n",
    "    else:\n",
    "        data.fillna(data.loc[train_indices, col].mean(), inplace=True)\n",
    "\n",
    "\n",
    "# Categorical Embedding을 위해 Categorical 변수의 차원과 idxs를 담음.\n",
    "unused_feat = ['Set']\n",
    "features = [ col for col in data.columns if col not in unused_feat+[target]] \n",
    "cat_idxs = [ i for i, f in enumerate(features) if f in categorical_columns]\n",
    "cat_dims = [ categorical_dims[f] for i, f in enumerate(features) if f in categorical_columns]\n",
    "\n",
    "\n",
    "\n",
    "X_train = data[features].values[train_indices]\n",
    "y_train = data[target].values[train_indices]\n",
    "\n",
    "X_valid = data[features].values[valid_indices]\n",
    "y_valid = data[target].values[valid_indices]\n",
    "\n",
    "X_test = data[features].values[test_indices]\n",
    "y_test = data[target].values[test_indices]"
   ]
  },
  {
   "cell_type": "markdown",
   "id": "14cf8d71-c6a5-4c9b-ac02-2baae57d59bc",
   "metadata": {},
   "source": [
    "# TabNet"
   ]
  },
  {
   "cell_type": "code",
   "execution_count": 10,
   "id": "429582a3-68b1-425b-85fc-5f628ea2544d",
   "metadata": {},
   "outputs": [
    {
     "name": "stderr",
     "output_type": "stream",
     "text": [
      "C:\\ProgramData\\Anaconda3\\lib\\site-packages\\pytorch_tabnet\\abstract_model.py:75: UserWarning: Device used : cuda\n",
      "  warnings.warn(f\"Device used : {self.device}\")\n"
     ]
    }
   ],
   "source": [
    "# TabNetPretrainer\n",
    "unsupervised_model = TabNetPretrainer(\n",
    "    optimizer_fn=torch.optim.Adam,\n",
    "    optimizer_params=dict(lr=1e-2),\n",
    "    mask_type='entmax' # \"sparsemax\"\n",
    ")"
   ]
  },
  {
   "cell_type": "code",
   "execution_count": 11,
   "id": "66d9e97a-9de6-4348-844b-41987559e4f5",
   "metadata": {},
   "outputs": [
    {
     "name": "stdout",
     "output_type": "stream",
     "text": [
      "epoch 0  | loss: 10.20664| val_0_unsup_loss_numpy: 8.18136978149414|  0:00:06s\n",
      "epoch 1  | loss: 6.08882 | val_0_unsup_loss_numpy: 5.754459857940674|  0:00:10s\n",
      "epoch 2  | loss: 3.53186 | val_0_unsup_loss_numpy: 2.9631900787353516|  0:00:14s\n",
      "epoch 3  | loss: 1.983   | val_0_unsup_loss_numpy: 2.4399499893188477|  0:00:19s\n",
      "epoch 4  | loss: 1.82303 | val_0_unsup_loss_numpy: 2.3099899291992188|  0:00:23s\n",
      "epoch 5  | loss: 1.74192 | val_0_unsup_loss_numpy: 2.2235500812530518|  0:00:27s\n",
      "epoch 6  | loss: 1.68246 | val_0_unsup_loss_numpy: 2.1512300968170166|  0:00:32s\n",
      "epoch 7  | loss: 1.63179 | val_0_unsup_loss_numpy: 2.085930109024048|  0:00:36s\n",
      "epoch 8  | loss: 1.57999 | val_0_unsup_loss_numpy: 2.0193800926208496|  0:00:40s\n",
      "epoch 9  | loss: 1.53503 | val_0_unsup_loss_numpy: 1.9562499523162842|  0:00:44s\n",
      "epoch 10 | loss: 1.4913  | val_0_unsup_loss_numpy: 1.9056299924850464|  0:00:48s\n",
      "epoch 11 | loss: 1.45636 | val_0_unsup_loss_numpy: 1.8576099872589111|  0:00:53s\n",
      "epoch 12 | loss: 1.42078 | val_0_unsup_loss_numpy: 1.8116099834442139|  0:00:57s\n",
      "epoch 13 | loss: 1.39208 | val_0_unsup_loss_numpy: 1.7623800039291382|  0:01:01s\n",
      "epoch 14 | loss: 1.36296 | val_0_unsup_loss_numpy: 1.7278499603271484|  0:01:05s\n",
      "epoch 15 | loss: 1.34083 | val_0_unsup_loss_numpy: 1.6940100193023682|  0:01:09s\n",
      "epoch 16 | loss: 1.32117 | val_0_unsup_loss_numpy: 1.660599946975708|  0:01:13s\n",
      "epoch 17 | loss: 1.30446 | val_0_unsup_loss_numpy: 1.6281399726867676|  0:01:17s\n",
      "epoch 18 | loss: 1.288   | val_0_unsup_loss_numpy: 1.6060099601745605|  0:01:21s\n",
      "epoch 19 | loss: 1.2762  | val_0_unsup_loss_numpy: 1.567620038986206|  0:01:26s\n",
      "epoch 20 | loss: 1.25584 | val_0_unsup_loss_numpy: 1.5356800556182861|  0:01:30s\n",
      "epoch 21 | loss: 1.23886 | val_0_unsup_loss_numpy: 1.5032299757003784|  0:01:34s\n",
      "epoch 22 | loss: 1.21687 | val_0_unsup_loss_numpy: 1.5052800178527832|  0:01:38s\n",
      "epoch 23 | loss: 1.20013 | val_0_unsup_loss_numpy: 1.470270037651062|  0:01:42s\n",
      "epoch 24 | loss: 1.18169 | val_0_unsup_loss_numpy: 1.4488699436187744|  0:01:46s\n",
      "epoch 25 | loss: 1.16131 | val_0_unsup_loss_numpy: 1.3877700567245483|  0:01:50s\n",
      "epoch 26 | loss: 1.13744 | val_0_unsup_loss_numpy: 1.4068399667739868|  0:01:54s\n",
      "epoch 27 | loss: 1.11443 | val_0_unsup_loss_numpy: 1.3061200380325317|  0:01:58s\n",
      "epoch 28 | loss: 1.09277 | val_0_unsup_loss_numpy: 1.272379994392395|  0:02:03s\n",
      "epoch 29 | loss: 1.073   | val_0_unsup_loss_numpy: 1.2426799535751343|  0:02:07s\n",
      "epoch 30 | loss: 1.05233 | val_0_unsup_loss_numpy: 1.2159899473190308|  0:02:11s\n",
      "epoch 31 | loss: 1.03409 | val_0_unsup_loss_numpy: 1.195520043373108|  0:02:15s\n",
      "epoch 32 | loss: 1.01474 | val_0_unsup_loss_numpy: 1.1587400436401367|  0:02:19s\n",
      "epoch 33 | loss: 0.99802 | val_0_unsup_loss_numpy: 1.1456400156021118|  0:02:23s\n",
      "epoch 34 | loss: 0.9838  | val_0_unsup_loss_numpy: 1.1251399517059326|  0:02:27s\n",
      "epoch 35 | loss: 0.97031 | val_0_unsup_loss_numpy: 1.097249984741211|  0:02:32s\n",
      "epoch 36 | loss: 0.95838 | val_0_unsup_loss_numpy: 1.0800700187683105|  0:02:36s\n",
      "epoch 37 | loss: 0.94575 | val_0_unsup_loss_numpy: 1.0590100288391113|  0:02:40s\n",
      "epoch 38 | loss: 0.93461 | val_0_unsup_loss_numpy: 1.0412299633026123|  0:02:44s\n",
      "epoch 39 | loss: 0.92232 | val_0_unsup_loss_numpy: 1.0189800262451172|  0:02:48s\n",
      "epoch 40 | loss: 0.91558 | val_0_unsup_loss_numpy: 1.021649956703186|  0:02:52s\n",
      "epoch 41 | loss: 0.90658 | val_0_unsup_loss_numpy: 0.9844099879264832|  0:02:56s\n",
      "epoch 42 | loss: 0.89617 | val_0_unsup_loss_numpy: 0.9769099950790405|  0:03:00s\n",
      "epoch 43 | loss: 0.88538 | val_0_unsup_loss_numpy: 0.9622200131416321|  0:03:04s\n",
      "epoch 44 | loss: 0.88233 | val_0_unsup_loss_numpy: 0.9472799897193909|  0:03:09s\n",
      "epoch 45 | loss: 0.87168 | val_0_unsup_loss_numpy: 0.9388099908828735|  0:03:13s\n",
      "epoch 46 | loss: 0.86707 | val_0_unsup_loss_numpy: 0.9229699969291687|  0:03:17s\n",
      "epoch 47 | loss: 0.85769 | val_0_unsup_loss_numpy: 0.91566002368927|  0:03:22s\n",
      "epoch 48 | loss: 0.85058 | val_0_unsup_loss_numpy: 0.8932999968528748|  0:03:26s\n",
      "epoch 49 | loss: 0.8425  | val_0_unsup_loss_numpy: 0.8862800002098083|  0:03:31s\n",
      "epoch 50 | loss: 0.84028 | val_0_unsup_loss_numpy: 0.8743100166320801|  0:03:35s\n",
      "epoch 51 | loss: 0.83375 | val_0_unsup_loss_numpy: 0.863789975643158|  0:03:40s\n",
      "epoch 52 | loss: 0.82846 | val_0_unsup_loss_numpy: 0.8530700206756592|  0:03:44s\n",
      "epoch 53 | loss: 0.82395 | val_0_unsup_loss_numpy: 0.8447499871253967|  0:03:48s\n",
      "epoch 54 | loss: 0.81839 | val_0_unsup_loss_numpy: 0.8401100039482117|  0:03:53s\n",
      "epoch 55 | loss: 0.81536 | val_0_unsup_loss_numpy: 0.8383200168609619|  0:03:57s\n",
      "epoch 56 | loss: 0.81015 | val_0_unsup_loss_numpy: 0.8238400220870972|  0:04:02s\n",
      "epoch 57 | loss: 0.80564 | val_0_unsup_loss_numpy: 0.8178600072860718|  0:04:06s\n",
      "epoch 58 | loss: 0.80343 | val_0_unsup_loss_numpy: 0.8154600262641907|  0:04:10s\n",
      "epoch 59 | loss: 0.80115 | val_0_unsup_loss_numpy: 0.8033999800682068|  0:04:15s\n",
      "epoch 60 | loss: 0.79673 | val_0_unsup_loss_numpy: 0.8035799860954285|  0:04:19s\n",
      "epoch 61 | loss: 0.7935  | val_0_unsup_loss_numpy: 0.7933599948883057|  0:04:23s\n",
      "epoch 62 | loss: 0.79237 | val_0_unsup_loss_numpy: 0.7919300198554993|  0:04:28s\n",
      "epoch 63 | loss: 0.78982 | val_0_unsup_loss_numpy: 0.7911499738693237|  0:04:33s\n",
      "epoch 64 | loss: 0.78406 | val_0_unsup_loss_numpy: 0.7837899923324585|  0:04:37s\n",
      "epoch 65 | loss: 0.78463 | val_0_unsup_loss_numpy: 0.7784199714660645|  0:04:42s\n",
      "epoch 66 | loss: 0.78085 | val_0_unsup_loss_numpy: 0.7771599888801575|  0:04:46s\n",
      "epoch 67 | loss: 0.7789  | val_0_unsup_loss_numpy: 0.7716799974441528|  0:04:50s\n",
      "epoch 68 | loss: 0.7792  | val_0_unsup_loss_numpy: 0.7661700248718262|  0:04:54s\n",
      "epoch 69 | loss: 0.77608 | val_0_unsup_loss_numpy: 0.771340012550354|  0:04:59s\n",
      "epoch 70 | loss: 0.77329 | val_0_unsup_loss_numpy: 0.7666100263595581|  0:05:03s\n",
      "epoch 71 | loss: 0.77155 | val_0_unsup_loss_numpy: 0.7621700167655945|  0:05:08s\n",
      "epoch 72 | loss: 0.76905 | val_0_unsup_loss_numpy: 0.7673599720001221|  0:05:12s\n",
      "epoch 73 | loss: 0.77459 | val_0_unsup_loss_numpy: 0.7836099863052368|  0:05:16s\n",
      "epoch 74 | loss: 0.7716  | val_0_unsup_loss_numpy: 0.7529699802398682|  0:05:21s\n",
      "epoch 75 | loss: 0.76628 | val_0_unsup_loss_numpy: 0.7560799717903137|  0:05:25s\n",
      "epoch 76 | loss: 0.76385 | val_0_unsup_loss_numpy: 0.7501400113105774|  0:05:29s\n",
      "epoch 77 | loss: 0.76358 | val_0_unsup_loss_numpy: 0.7462599873542786|  0:05:34s\n",
      "epoch 78 | loss: 0.76462 | val_0_unsup_loss_numpy: 0.7477700114250183|  0:05:38s\n",
      "epoch 79 | loss: 0.76047 | val_0_unsup_loss_numpy: 0.7447900176048279|  0:05:42s\n",
      "epoch 80 | loss: 0.76114 | val_0_unsup_loss_numpy: 0.7409800291061401|  0:05:47s\n",
      "epoch 81 | loss: 0.75856 | val_0_unsup_loss_numpy: 0.7401999831199646|  0:05:51s\n",
      "epoch 82 | loss: 0.76095 | val_0_unsup_loss_numpy: 0.734279990196228|  0:05:55s\n",
      "epoch 83 | loss: 0.75763 | val_0_unsup_loss_numpy: 0.7328900098800659|  0:05:59s\n",
      "epoch 84 | loss: 0.75445 | val_0_unsup_loss_numpy: 0.7287300229072571|  0:06:04s\n",
      "epoch 85 | loss: 0.75577 | val_0_unsup_loss_numpy: 0.735729992389679|  0:06:08s\n",
      "epoch 86 | loss: 0.75858 | val_0_unsup_loss_numpy: 0.7312099933624268|  0:06:13s\n",
      "epoch 87 | loss: 0.75448 | val_0_unsup_loss_numpy: 0.7311699986457825|  0:06:17s\n",
      "epoch 88 | loss: 0.75295 | val_0_unsup_loss_numpy: 0.7258999943733215|  0:06:21s\n",
      "epoch 89 | loss: 0.75307 | val_0_unsup_loss_numpy: 0.7230799794197083|  0:06:26s\n",
      "epoch 90 | loss: 0.75447 | val_0_unsup_loss_numpy: 0.7215399742126465|  0:06:30s\n",
      "epoch 91 | loss: 0.74893 | val_0_unsup_loss_numpy: 0.7191600203514099|  0:06:35s\n",
      "epoch 92 | loss: 0.74897 | val_0_unsup_loss_numpy: 0.7270299792289734|  0:06:39s\n",
      "epoch 93 | loss: 0.75029 | val_0_unsup_loss_numpy: 0.7233099937438965|  0:06:44s\n",
      "epoch 94 | loss: 0.74845 | val_0_unsup_loss_numpy: 0.7135800123214722|  0:06:48s\n",
      "epoch 95 | loss: 0.74849 | val_0_unsup_loss_numpy: 0.71315997838974|  0:06:53s\n",
      "epoch 96 | loss: 0.74738 | val_0_unsup_loss_numpy: 0.7096999883651733|  0:06:57s\n",
      "epoch 97 | loss: 0.74304 | val_0_unsup_loss_numpy: 0.707099974155426|  0:07:01s\n",
      "epoch 98 | loss: 0.73972 | val_0_unsup_loss_numpy: 0.7099199891090393|  0:07:06s\n",
      "epoch 99 | loss: 0.73796 | val_0_unsup_loss_numpy: 0.6998999714851379|  0:07:10s\n",
      "Stop training because you reached max_epochs = 100 with best_epoch = 99 and best_val_0_unsup_loss_numpy = 0.6998999714851379\n"
     ]
    },
    {
     "name": "stderr",
     "output_type": "stream",
     "text": [
      "C:\\ProgramData\\Anaconda3\\lib\\site-packages\\pytorch_tabnet\\callbacks.py:172: UserWarning: Best weights from best epoch are automatically used!\n",
      "  warnings.warn(wrn_msg)\n"
     ]
    }
   ],
   "source": [
    "unsupervised_model.fit(\n",
    "    X_train=X_train,\n",
    "    eval_set=[X_test],\n",
    "    pretraining_ratio=0.8,\n",
    ")"
   ]
  },
  {
   "cell_type": "code",
   "execution_count": 12,
   "id": "ce4ab0ab-7c4b-4f5f-9fda-7f70255d5baa",
   "metadata": {},
   "outputs": [
    {
     "name": "stderr",
     "output_type": "stream",
     "text": [
      "C:\\ProgramData\\Anaconda3\\lib\\site-packages\\pytorch_tabnet\\abstract_model.py:75: UserWarning: Device used : cuda\n",
      "  warnings.warn(f\"Device used : {self.device}\")\n"
     ]
    }
   ],
   "source": [
    "clf = TabNetClassifier(\n",
    "    optimizer_fn=torch.optim.Adam,\n",
    "    optimizer_params=dict(lr=1e-2),\n",
    "    scheduler_params={\"step_size\":10, # how to use learning rate scheduler\n",
    "                      \"gamma\":0.9},\n",
    "    scheduler_fn=torch.optim.lr_scheduler.StepLR,\n",
    "    mask_type='entmax' # This will be overwritten if using pretrain model\n",
    ")"
   ]
  },
  {
   "cell_type": "code",
   "execution_count": 13,
   "id": "1396031e-28f0-45b4-9ecc-83a261efbae2",
   "metadata": {},
   "outputs": [],
   "source": [
    "class F1Score(Metric):\n",
    "    def __init__(self):\n",
    "        self._name = \"f1\"\n",
    "        self._maximize = True\n",
    "    \n",
    "    def __call__(self, y_true, y_score):\n",
    "        y_score = (y_score[:, 1] > 0.5).astype(np.uint8)\n",
    "        return f1_score(y_true, y_score)"
   ]
  },
  {
   "cell_type": "code",
   "execution_count": 14,
   "id": "ad49df89-fd9a-47de-a859-b0f89672beb2",
   "metadata": {},
   "outputs": [
    {
     "name": "stderr",
     "output_type": "stream",
     "text": [
      "C:\\ProgramData\\Anaconda3\\lib\\site-packages\\pytorch_tabnet\\abstract_model.py:231: UserWarning: Loading weights from unsupervised pretraining\n",
      "  warnings.warn(\"Loading weights from unsupervised pretraining\")\n"
     ]
    },
    {
     "name": "stdout",
     "output_type": "stream",
     "text": [
      "epoch 0  | loss: 0.88042 | train_accuracy: 0.62233 | train_f1: 0.76313 | valid_accuracy: 0.28578 | valid_f1: 0.43367 |  0:00:04s\n",
      "epoch 1  | loss: 0.64914 | train_accuracy: 0.62342 | train_f1: 0.76576 | valid_accuracy: 0.284   | valid_f1: 0.43653 |  0:00:09s\n",
      "epoch 2  | loss: 0.6468  | train_accuracy: 0.62028 | train_f1: 0.7612  | valid_accuracy: 0.28536 | valid_f1: 0.43159 |  0:00:13s\n",
      "epoch 3  | loss: 0.6454  | train_accuracy: 0.61919 | train_f1: 0.76131 | valid_accuracy: 0.28521 | valid_f1: 0.43356 |  0:00:18s\n",
      "epoch 4  | loss: 0.64173 | train_accuracy: 0.62521 | train_f1: 0.76875 | valid_accuracy: 0.28219 | valid_f1: 0.43953 |  0:00:22s\n",
      "epoch 5  | loss: 0.64179 | train_accuracy: 0.62142 | train_f1: 0.75881 | valid_accuracy: 0.28261 | valid_f1: 0.42802 |  0:00:27s\n",
      "epoch 6  | loss: 0.64051 | train_accuracy: 0.62575 | train_f1: 0.767   | valid_accuracy: 0.28303 | valid_f1: 0.43626 |  0:00:32s\n",
      "epoch 7  | loss: 0.6374  | train_accuracy: 0.62766 | train_f1: 0.77009 | valid_accuracy: 0.28197 | valid_f1: 0.4388  |  0:00:36s\n",
      "epoch 8  | loss: 0.63575 | train_accuracy: 0.62266 | train_f1: 0.7563  | valid_accuracy: 0.28708 | valid_f1: 0.41945 |  0:00:41s\n",
      "epoch 9  | loss: 0.63415 | train_accuracy: 0.62858 | train_f1: 0.77048 | valid_accuracy: 0.28291 | valid_f1: 0.43893 |  0:00:46s\n",
      "epoch 10 | loss: 0.63626 | train_accuracy: 0.61611 | train_f1: 0.74765 | valid_accuracy: 0.3067  | valid_f1: 0.4128  |  0:00:50s\n",
      "epoch 11 | loss: 0.63354 | train_accuracy: 0.62132 | train_f1: 0.75495 | valid_accuracy: 0.28391 | valid_f1: 0.4186  |  0:00:55s\n",
      "epoch 12 | loss: 0.63224 | train_accuracy: 0.62806 | train_f1: 0.76878 | valid_accuracy: 0.28436 | valid_f1: 0.43722 |  0:00:59s\n",
      "epoch 13 | loss: 0.63066 | train_accuracy: 0.62882 | train_f1: 0.77009 | valid_accuracy: 0.28222 | valid_f1: 0.43779 |  0:01:03s\n",
      "epoch 14 | loss: 0.63054 | train_accuracy: 0.62878 | train_f1: 0.77001 | valid_accuracy: 0.28418 | valid_f1: 0.43812 |  0:01:08s\n",
      "\n",
      "Early stopping occurred at epoch 14 with best_epoch = 4 and best_valid_f1 = 0.43953\n"
     ]
    },
    {
     "name": "stderr",
     "output_type": "stream",
     "text": [
      "C:\\ProgramData\\Anaconda3\\lib\\site-packages\\pytorch_tabnet\\callbacks.py:172: UserWarning: Best weights from best epoch are automatically used!\n",
      "  warnings.warn(wrn_msg)\n"
     ]
    }
   ],
   "source": [
    "clf.fit(\n",
    "    X_train=X_train, y_train=y_train,\n",
    "    eval_set=[(X_train, y_train), (X_test, y_test)],\n",
    "    eval_name=['train', 'valid'],\n",
    "    eval_metric=['accuracy', 'f1'],\n",
    "    from_unsupervised=unsupervised_model\n",
    ")"
   ]
  },
  {
   "cell_type": "code",
   "execution_count": 15,
   "id": "66a597e1-4da7-4aa2-a297-b695571bd415",
   "metadata": {},
   "outputs": [],
   "source": [
    "pred = clf.predict_proba(X_test)"
   ]
  },
  {
   "cell_type": "code",
   "execution_count": 16,
   "id": "c45383c2-2793-433f-8a49-a93f3cdede95",
   "metadata": {},
   "outputs": [
    {
     "data": {
      "text/html": [
       "<div>\n",
       "<style scoped>\n",
       "    .dataframe tbody tr th:only-of-type {\n",
       "        vertical-align: middle;\n",
       "    }\n",
       "\n",
       "    .dataframe tbody tr th {\n",
       "        vertical-align: top;\n",
       "    }\n",
       "\n",
       "    .dataframe thead th {\n",
       "        text-align: right;\n",
       "    }\n",
       "</style>\n",
       "<table border=\"1\" class=\"dataframe\">\n",
       "  <thead>\n",
       "    <tr style=\"text-align: right;\">\n",
       "      <th></th>\n",
       "      <th>0</th>\n",
       "      <th>1</th>\n",
       "      <th>target</th>\n",
       "    </tr>\n",
       "  </thead>\n",
       "  <tbody>\n",
       "    <tr>\n",
       "      <th>0</th>\n",
       "      <td>0.439620</td>\n",
       "      <td>0.560380</td>\n",
       "      <td>1</td>\n",
       "    </tr>\n",
       "    <tr>\n",
       "      <th>1</th>\n",
       "      <td>0.403256</td>\n",
       "      <td>0.596744</td>\n",
       "      <td>1</td>\n",
       "    </tr>\n",
       "    <tr>\n",
       "      <th>2</th>\n",
       "      <td>0.440402</td>\n",
       "      <td>0.559598</td>\n",
       "      <td>1</td>\n",
       "    </tr>\n",
       "    <tr>\n",
       "      <th>3</th>\n",
       "      <td>0.434703</td>\n",
       "      <td>0.565297</td>\n",
       "      <td>1</td>\n",
       "    </tr>\n",
       "    <tr>\n",
       "      <th>4</th>\n",
       "      <td>0.436518</td>\n",
       "      <td>0.563483</td>\n",
       "      <td>1</td>\n",
       "    </tr>\n",
       "    <tr>\n",
       "      <th>...</th>\n",
       "      <td>...</td>\n",
       "      <td>...</td>\n",
       "      <td>...</td>\n",
       "    </tr>\n",
       "    <tr>\n",
       "      <th>33115</th>\n",
       "      <td>0.315746</td>\n",
       "      <td>0.684254</td>\n",
       "      <td>1</td>\n",
       "    </tr>\n",
       "    <tr>\n",
       "      <th>33116</th>\n",
       "      <td>0.586129</td>\n",
       "      <td>0.413871</td>\n",
       "      <td>0</td>\n",
       "    </tr>\n",
       "    <tr>\n",
       "      <th>33117</th>\n",
       "      <td>0.295269</td>\n",
       "      <td>0.704731</td>\n",
       "      <td>1</td>\n",
       "    </tr>\n",
       "    <tr>\n",
       "      <th>33118</th>\n",
       "      <td>0.338029</td>\n",
       "      <td>0.661971</td>\n",
       "      <td>1</td>\n",
       "    </tr>\n",
       "    <tr>\n",
       "      <th>33119</th>\n",
       "      <td>0.351161</td>\n",
       "      <td>0.648839</td>\n",
       "      <td>1</td>\n",
       "    </tr>\n",
       "  </tbody>\n",
       "</table>\n",
       "<p>33120 rows × 3 columns</p>\n",
       "</div>"
      ],
      "text/plain": [
       "              0         1  target\n",
       "0      0.439620  0.560380       1\n",
       "1      0.403256  0.596744       1\n",
       "2      0.440402  0.559598       1\n",
       "3      0.434703  0.565297       1\n",
       "4      0.436518  0.563483       1\n",
       "...         ...       ...     ...\n",
       "33115  0.315746  0.684254       1\n",
       "33116  0.586129  0.413871       0\n",
       "33117  0.295269  0.704731       1\n",
       "33118  0.338029  0.661971       1\n",
       "33119  0.351161  0.648839       1\n",
       "\n",
       "[33120 rows x 3 columns]"
      ]
     },
     "execution_count": 16,
     "metadata": {},
     "output_type": "execute_result"
    }
   ],
   "source": [
    "pred_df = pd.DataFrame(pred)\n",
    "pred_df['target'] = pred_df.iloc[:,0].apply(lambda x: 0 if x > 0.5 else 1)\n",
    "pred_df"
   ]
  },
  {
   "cell_type": "code",
   "execution_count": 17,
   "id": "346fed0c-b857-46d9-9ada-4683bc08caf9",
   "metadata": {},
   "outputs": [
    {
     "name": "stdout",
     "output_type": "stream",
     "text": [
      "0.439530388042812\n"
     ]
    }
   ],
   "source": [
    "test_acc = f1_score(y_test,pred_df['target'])\n",
    "print(test_acc)"
   ]
  },
  {
   "cell_type": "code",
   "execution_count": 18,
   "id": "f9db05d8-25a6-4e43-a02f-b810ce1b2adf",
   "metadata": {},
   "outputs": [
    {
     "data": {
      "image/png": "[encoded data removed]",
      "text/plain": [
       "<Figure size 2000x2000 with 3 Axes>"
      ]
     },
     "metadata": {},
     "output_type": "display_data"
    }
   ],
   "source": [
    "explain_matrix, masks = clf.explain(X_test)\n",
    "\n",
    "fig, axs = plt.subplots(1, 3, figsize=(20,20))\n",
    "for i in range(3):\n",
    "    axs[i].imshow(masks[i][:50])\n",
    "    axs[i].set_title(f\"mask {i}\")"
   ]
  },
  {
   "cell_type": "code",
   "execution_count": null,
   "id": "34662483-3cde-4420-8221-46fed9749526",
   "metadata": {},
   "outputs": [],
   "source": []
  },
  {
   "cell_type": "code",
   "execution_count": null,
   "id": "9e5f5cae-8b8a-4abc-b67e-99ef53fbbef2",
   "metadata": {},
   "outputs": [],
   "source": []
  }
 ],
 "metadata": {
  "kernelspec": {
   "display_name": "Python 3 (ipykernel)",
   "language": "python",
   "name": "python3"
  },
  "language_info": {
   "codemirror_mode": {
    "name": "ipython",
    "version": 3
   },
   "file_extension": ".py",
   "mimetype": "text/x-python",
   "name": "python",
   "nbconvert_exporter": "python",
   "pygments_lexer": "ipython3",
   "version": "3.9.13"
  }
 },
 "nbformat": 4,
 "nbformat_minor": 5
}
